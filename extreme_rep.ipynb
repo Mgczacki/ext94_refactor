{
 "cells": [
  {
   "cell_type": "code",
   "execution_count": 17,
   "id": "4fbb9133",
   "metadata": {},
   "outputs": [],
   "source": [
    "filepath = \"S1-4PPdm.wfn\"\n",
    "\n",
    "include(\"./wfn.jl\");\n",
    "include(\"./ext21.jl\");\n",
    "#TODO: Use precompilation"
   ]
  },
  {
   "cell_type": "code",
   "execution_count": 18,
   "id": "4164f071",
   "metadata": {},
   "outputs": [
    {
     "data": {
      "text/plain": [
       "\"S1_4PP_DMF\""
      ]
     },
     "execution_count": 18,
     "metadata": {},
     "output_type": "execute_result"
    }
   ],
   "source": [
    "#Struct containing all relevant WFN information\n",
    "f = read_wfn(filepath, device = gpu);\n",
    "f.mol_name"
   ]
  },
  {
   "cell_type": "code",
   "execution_count": 19,
   "id": "e4d8ab93",
   "metadata": {},
   "outputs": [
    {
     "data": {
      "text/plain": [
       "9×3 CuArray{Float32, 2, CUDA.Mem.DeviceBuffer}:\n",
       " 0.0   0.0   0.0\n",
       " 0.1   0.0   0.7\n",
       " 0.0   0.0  -0.7\n",
       " 0.0   1.0   0.0\n",
       " 1.0  -1.0   0.0\n",
       " 0.4   0.5   0.5\n",
       " 1.0   1.0   1.0\n",
       " 0.0   0.0   0.6\n",
       " 0.0   0.0   0.5"
      ]
     },
     "execution_count": 19,
     "metadata": {},
     "output_type": "execute_result"
    }
   ],
   "source": [
    "#Points to evaluate\n",
    "r⃗ = [0 0 0;\n",
    "     0.1 0 0.7;\n",
    "     0 0 -0.7;\n",
    "     0 1 0;\n",
    "    1 -1 0;\n",
    "    0.4 0.5 0.5;\n",
    "    1 1 1;\n",
    "    0 0 0.6;\n",
    "    0 0 0.5] .|> Float32 |> gpu"
   ]
  },
  {
   "cell_type": "code",
   "execution_count": 20,
   "id": "3cfe18ec",
   "metadata": {},
   "outputs": [
    {
     "data": {
      "text/plain": [
       "3×3×9 CuArray{Float64, 3, CUDA.Mem.DeviceBuffer}:\n",
       "[:, :, 1] =\n",
       " -1.2361e-5   -6.80357e-7   1.6595e-5\n",
       " -6.80357e-7  -1.79717e-5  -1.9833e-6\n",
       "  1.6595e-5   -1.9833e-6    3.0323e-5\n",
       "\n",
       "[:, :, 2] =\n",
       " -1.10877     -0.00369952    0.172117\n",
       " -0.00369952  -1.13429      -0.000881142\n",
       "  0.172117    -0.000881142   0.310996\n",
       "\n",
       "[:, :, 3] =\n",
       " -2.06127     0.0066432  -0.0377155\n",
       "  0.0066432  -0.846602    0.0030245\n",
       " -0.0377155   0.0030245   0.189523\n",
       "\n",
       "[:, :, 4] =\n",
       " -8.42151   -0.198424    1.01222\n",
       " -0.198424   8.46014     0.320672\n",
       "  1.01222    0.320672  -10.251\n",
       "\n",
       "[:, :, 5] =\n",
       "   9.19597    -0.0943644  -11.8348\n",
       "  -0.0943644   2.89239     -6.15305\n",
       " -11.8348     -6.15305      8.4929\n",
       "\n",
       "[:, :, 6] =\n",
       " -9.78719  -3.65      10.9573\n",
       " -3.65     -3.38633    7.15205\n",
       " 10.9573    7.15205  -12.9999\n",
       "\n",
       "[:, :, 7] =\n",
       " -0.458963   8.44019  -4.68555\n",
       "  8.44019   -4.85247   1.80099\n",
       " -4.68555    1.80099  14.9156\n",
       "\n",
       "[:, :, 8] =\n",
       " -0.478892      0.000141206   0.00473609\n",
       "  0.000141206  -0.474072     -0.000650624\n",
       "  0.00473609   -0.000650624   0.0878161\n",
       "\n",
       "[:, :, 9] =\n",
       " -0.150131     1.05777e-5    0.0021324\n",
       "  1.05777e-5  -0.147345     -0.000268108\n",
       "  0.0021324   -0.000268108   0.0257634"
      ]
     },
     "execution_count": 20,
     "metadata": {},
     "output_type": "execute_result"
    }
   ],
   "source": [
    "#Code for calculating the critical points of ρ via Broyden's method.\n",
    "# Work in progress\n",
    "\n",
    "    #Assignation of center per nuclei position.\n",
    "    r⃗_μ = f.center_assignments .|> (a -> f.nuclei_pos[a,:]) |> (x -> hcat(x...)) |> transpose |> gpu\n",
    "    #@tullio Δr⃗_μ[p,dim] := r⃗[r,dim] - r⃗_μ[p,dim] grad=false\n",
    "    #Difference between each proposed point and each nuclei center assigned to a MO\n",
    "    @tullio Δr⃗[p,dim,r] := r⃗[r,dim] - r⃗_μ[p,dim] grad=false\n",
    "    #Squared distances\n",
    "    sq_dist = dropdims(sum(Δr⃗.^2, dims=2), dims=2)\n",
    "    #Gaussian constant\n",
    "    @tullio c_g[p,r] := get_gaussian_constant(f.type_assignments[p], Δr⃗[p,1,r], Δr⃗[p,2,r], Δr⃗[p,3,r]) grad=false\n",
    "    \n",
    "    @tullio ∂gc∂X[p,r] := get_∂gc∂X(f.type_assignments[p], Δr⃗[p,1,r], Δr⃗[p,2,r], Δr⃗[p,3,r]) grad=false\n",
    "    @tullio ∂gc∂Y[p,r] := get_∂gc∂Y(f.type_assignments[p], Δr⃗[p,1,r], Δr⃗[p,2,r], Δr⃗[p,3,r]) grad=false\n",
    "    @tullio ∂gc∂Z[p,r] := get_∂gc∂Z(f.type_assignments[p], Δr⃗[p,1,r], Δr⃗[p,2,r], Δr⃗[p,3,r]) grad=false\n",
    "\n",
    "    @tullio ∂²gc∂X²[p,r] := get_∂²gc∂X²(f.type_assignments[p], Δr⃗[p,1,r], Δr⃗[p,2,r], Δr⃗[p,3,r]) grad=false\n",
    "    @tullio ∂²gc∂XY[p,r] := get_∂²gc∂XY(f.type_assignments[p], Δr⃗[p,1,r], Δr⃗[p,2,r], Δr⃗[p,3,r]) grad=false\n",
    "    @tullio ∂²gc∂XZ[p,r] := get_∂²gc∂XZ(f.type_assignments[p], Δr⃗[p,1,r], Δr⃗[p,2,r], Δr⃗[p,3,r]) grad=false\n",
    "    @tullio ∂²gc∂Y²[p,r] := get_∂²gc∂Y²(f.type_assignments[p], Δr⃗[p,1,r], Δr⃗[p,2,r], Δr⃗[p,3,r]) grad=false\n",
    "    @tullio ∂²gc∂YZ[p,r] := get_∂²gc∂YZ(f.type_assignments[p], Δr⃗[p,1,r], Δr⃗[p,2,r], Δr⃗[p,3,r]) grad=false\n",
    "    @tullio ∂²gc∂Z²[p,r] := get_∂²gc∂Z²(f.type_assignments[p], Δr⃗[p,1,r], Δr⃗[p,2,r], Δr⃗[p,3,r]) grad=false\n",
    "    \n",
    "    F0 = exp.(-f.exponents .* sq_dist)\n",
    "    toalp = -2.0 * f.exponents\n",
    "    toalpe = toalp .* F0\n",
    "    ∂F∂X = toalpe .* Δr⃗[:,1,:]\n",
    "    ∂F∂Y = toalpe .* Δr⃗[:,2,:]\n",
    "    ∂F∂Z = toalpe .* Δr⃗[:,3,:]\n",
    "    ∂²F∂X² = (toalp .* Δr⃗[:,1,:] .* ∂F∂X) + toalpe\n",
    "    ∂²F∂XY = toalp .* Δr⃗[:,2,:] .* ∂F∂X\n",
    "    ∂²F∂XZ = toalp .* Δr⃗[:,3,:] .* ∂F∂X\n",
    "    ∂²F∂Y² = (toalp .* Δr⃗[:,2,:] .* ∂F∂Y) + toalpe\n",
    "    ∂²F∂YZ = toalp .* Δr⃗[:,3,:] .* ∂F∂Y\n",
    "    ∂²F∂Z² = (toalp .* Δr⃗[:,3,:] .* ∂F∂Z) + toalpe\n",
    "    \n",
    "    Ψ_μ = c_g .* F0\n",
    "    ∂Ψ_μ∂X = ∂gc∂X .* F0 + c_g .* ∂F∂X\n",
    "    ∂Ψ_μ∂Y = ∂gc∂Y .* F0 + c_g .* ∂F∂Y\n",
    "    ∂Ψ_μ∂Z = ∂gc∂Z .* F0 + c_g .* ∂F∂Z\n",
    "    ∂²Ψ_μ∂X² = (∂²gc∂X² .* F0) + (2 * ∂gc∂X .* ∂F∂X) + (c_g .* ∂²F∂X²)\n",
    "    ∂²Ψ_μ∂XY = (∂²gc∂XY .* F0) + (∂gc∂X .* ∂F∂Y) + (∂gc∂Y .* ∂F∂X) + (c_g .* ∂²F∂XY)\n",
    "    ∂²Ψ_μ∂XZ = (∂²gc∂XZ .* F0) + (∂gc∂X .* ∂F∂Z) + (∂gc∂Z .* ∂F∂X) + (c_g .* ∂²F∂XZ)\n",
    "    ∂²Ψ_μ∂Y² = (∂²gc∂Y² .* F0) + (2 * ∂gc∂Y .* ∂F∂Y) + (c_g .* ∂²F∂Y²)\n",
    "    ∂²Ψ_μ∂YZ = (∂²gc∂YZ .* F0) + (∂gc∂Y .* ∂F∂Z) + (∂gc∂Z .* ∂F∂Y) + (c_g .* ∂²F∂YZ)\n",
    "    ∂²Ψ_μ∂Z² = (∂²gc∂Z² .* F0) + (2 * ∂gc∂Z .* ∂F∂Z) + (c_g .* ∂²F∂Z²)\n",
    "\n",
    "    Φ_r = f.mo * Ψ_μ\n",
    "    ∂Φ∂X = f.mo * ∂Ψ_μ∂X\n",
    "    ∂Φ∂Y = f.mo * ∂Ψ_μ∂Y\n",
    "    ∂Φ∂Z = f.mo * ∂Ψ_μ∂Z\n",
    "    ∂²Φ∂X² = f.mo * ∂²Ψ_μ∂X²\n",
    "    ∂²Φ∂XY = f.mo * ∂²Ψ_μ∂XY\n",
    "    ∂²Φ∂XZ = f.mo * ∂²Ψ_μ∂XZ\n",
    "    ∂²Φ∂Y² = f.mo * ∂²Ψ_μ∂Y²\n",
    "    ∂²Φ∂YZ = f.mo * ∂²Ψ_μ∂YZ\n",
    "    ∂²Φ∂Z² = f.mo * ∂²Ψ_μ∂Z²\n",
    "\n",
    "    #ρ = electronic density for proposed points\n",
    "    ρ = transpose(Φ_r.^2) * f.occ_no\n",
    "    #Newton/pseudo-Newton methods optimize 3 equations for 3 variables:\n",
    "    #Variables: X, Y, Z of each point\n",
    "    #Equations: Gradient of ρ at X, Y, Z\n",
    "    ∂ρ∂X = transpose(∂Φ∂X .* Φ_r) * f.occ_no\n",
    "    ∂ρ∂Y = transpose(∂Φ∂Y .* Φ_r) * f.occ_no\n",
    "    ∂ρ∂Z = transpose(∂Φ∂Z .* Φ_r) * f.occ_no\n",
    "    #Newton/pseudo-Newton method need the inverse jacobian of the function to optimize.\n",
    "    #Calculating second derivatives of ρ to obtain the Hessian\n",
    "    ∂²ρ∂X² = 2 * (transpose(∂Φ∂X.^2)  + transpose(∂²Φ∂X² .* Φ_r)) * f.occ_no\n",
    "    ∂²ρ∂XY = 2 * (transpose(∂Φ∂X .* ∂Φ∂Y)  + transpose(∂²Φ∂XY .* Φ_r)) * f.occ_no\n",
    "    ∂²ρ∂XZ = 2 * (transpose(∂Φ∂X .* ∂Φ∂Z)  + transpose(∂²Φ∂XZ .* Φ_r)) * f.occ_no\n",
    "    ∂²ρ∂Y² = 2 * (transpose(∂Φ∂Y.^2) + transpose(∂²Φ∂Y² .* Φ_r)) * f.occ_no\n",
    "    ∂²ρ∂YZ = 2 * (transpose(∂Φ∂Y .* ∂Φ∂Z)  + transpose(∂²Φ∂YZ .* Φ_r)) * f.occ_no\n",
    "    ∂²ρ∂Z² = 2 * (transpose(∂Φ∂Z.^2) + transpose(∂²Φ∂Z² .* Φ_r)) * f.occ_no\n",
    "\n",
    "    #Generating the inverse of the Hessian of ρ by determinants/cofactors\n",
    "    @tullio Y[m,n,p] := generate_Y_matrix_el(m, n, ∂²ρ∂X²[p],∂²ρ∂XY[p],∂²ρ∂XZ[p],∂²ρ∂Y²[p],∂²ρ∂YZ[p],∂²ρ∂Z²[p]) (m in 1:3, n in 1:3) grad=false\n",
    "    @tullio inv_H[m,n,p] := Y[m,n,p] / (∂²ρ∂X²[p]*Y[1,1,p] + ∂²ρ∂XY[p]*Y[2,1,p] + ∂²ρ∂XZ[p]*Y[3,1,p]) grad=false"
   ]
  },
  {
   "cell_type": "code",
   "execution_count": 23,
   "id": "26aad543",
   "metadata": {},
   "outputs": [
    {
     "data": {
      "text/plain": [
       "9-element CuArray{Float32, 1, CUDA.Mem.DeviceBuffer}:\n",
       " 97.45674\n",
       "  0.34709018\n",
       "  0.3184764\n",
       "  0.16741587\n",
       "  0.120431334\n",
       "  0.2512611\n",
       "  0.06921032\n",
       "  0.41182414\n",
       "  0.59918463"
      ]
     },
     "execution_count": 23,
     "metadata": {},
     "output_type": "execute_result"
    }
   ],
   "source": [
    "#Calculate ρ for the n points in r⃗\n",
    "get_electronic_density(r⃗, f, gpu)"
   ]
  },
  {
   "cell_type": "code",
   "execution_count": 24,
   "id": "0704c369",
   "metadata": {},
   "outputs": [
    {
     "data": {
      "text/plain": [
       "345108.93779310817"
      ]
     },
     "execution_count": 24,
     "metadata": {},
     "output_type": "execute_result"
    }
   ],
   "source": [
    "#Loss function for gradient descent. Not recommended.\n",
    "get_sum_squared_gradients(r⃗, f, gpu)"
   ]
  },
  {
   "cell_type": "code",
   "execution_count": null,
   "id": "bafa9751",
   "metadata": {},
   "outputs": [],
   "source": [
    "#Unstable and outdated method using gradient descent. Do not execute\n",
    "p, ρ = find_points(r⃗, f, iters=100, η = 0.05, device = gpu)"
   ]
  },
  {
   "cell_type": "markdown",
   "id": "c65562f7",
   "metadata": {},
   "source": [
    "# Experimentation below, execution not recommended"
   ]
  },
  {
   "cell_type": "code",
   "execution_count": 62,
   "id": "401abe76",
   "metadata": {},
   "outputs": [
    {
     "data": {
      "text/plain": [
       "9-element CuArray{Float32, 1, CUDA.Mem.DeviceBuffer}:\n",
       " 0.2637181\n",
       " 0.41073042\n",
       " 0.41073042\n",
       " 0.06222068\n",
       " 0.028996903\n",
       " 0.09001044\n",
       " 0.018786743\n",
       " 0.41073042\n",
       " 0.27265108"
      ]
     },
     "execution_count": 62,
     "metadata": {},
     "output_type": "execute_result"
    }
   ],
   "source": [
    "ρ"
   ]
  },
  {
   "cell_type": "code",
   "execution_count": 5,
   "id": "74ad35fd",
   "metadata": {},
   "outputs": [
    {
     "data": {
      "text/plain": [
       "2×3 CuArray{Float32, 2, CUDA.Mem.DeviceBuffer}:\n",
       " 0.0  0.0   0.69742\n",
       " 0.0  0.0  -0.69742"
      ]
     },
     "execution_count": 5,
     "metadata": {},
     "output_type": "execute_result"
    }
   ],
   "source": [
    "f.nuclei_pos"
   ]
  },
  {
   "cell_type": "code",
   "execution_count": 3,
   "id": "ffc17902",
   "metadata": {},
   "outputs": [
    {
     "data": {
      "text/plain": [
       "4"
      ]
     },
     "execution_count": 3,
     "metadata": {},
     "output_type": "execute_result"
    }
   ],
   "source": [
    "#r⃗ = [0.1 0.4 -0.2] |> Float32\n",
    "r⃗ = [0 0 0;\n",
    "     0 0 0;\n",
    "     0 0 0;\n",
    "     0 0 0] .|> Float32 |> gpu\n",
    "\n",
    "r⃗_μ = f.center_assignments .|> (a -> f.nuclei_pos[a,:]) |> (x -> hcat(x...)) |> transpose |> gpu\n",
    "\n",
    "n_points  = size(r⃗)[1]"
   ]
  },
  {
   "cell_type": "code",
   "execution_count": 4,
   "id": "033e0f11",
   "metadata": {},
   "outputs": [
    {
     "data": {
      "text/plain": [
       "4×3 CuArray{Float32, 2, CUDA.Mem.DeviceBuffer}:\n",
       " 0.0  0.0  0.0\n",
       " 0.0  0.0  0.0\n",
       " 0.0  0.0  0.0\n",
       " 0.0  0.0  0.0"
      ]
     },
     "execution_count": 4,
     "metadata": {},
     "output_type": "execute_result"
    }
   ],
   "source": [
    "r⃗"
   ]
  },
  {
   "cell_type": "code",
   "execution_count": 5,
   "id": "3c06ef91",
   "metadata": {},
   "outputs": [
    {
     "data": {
      "text/plain": [
       "765×4 CuArray{Float32, 2, CUDA.Mem.DeviceBuffer}:\n",
       "   1.0           1.0           1.0           1.0\n",
       "   1.0           1.0           1.0           1.0\n",
       "   1.0           1.0           1.0           1.0\n",
       "   1.0           1.0           1.0           1.0\n",
       "   1.0           1.0           1.0           1.0\n",
       "   1.0           1.0           1.0           1.0\n",
       "   1.0           1.0           1.0           1.0\n",
       "   1.0           1.0           1.0           1.0\n",
       "   1.0           1.0           1.0           1.0\n",
       "   0.0068786     0.0068786     0.0068786     0.0068786\n",
       "   0.0068786     0.0068786     0.0068786     0.0068786\n",
       "   0.0068786     0.0068786     0.0068786     0.0068786\n",
       "  -0.00082203   -0.00082203   -0.00082203   -0.00082203\n",
       "   ⋮                                       \n",
       " -10.9709      -10.9709      -10.9709      -10.9709\n",
       "   0.159599      0.159599      0.159599      0.159599\n",
       "  -3.63041      -3.63041      -3.63041      -3.63041\n",
       "   1.0           1.0           1.0           1.0\n",
       "   1.0           1.0           1.0           1.0\n",
       "   1.0           1.0           1.0           1.0\n",
       "   1.0           1.0           1.0           1.0\n",
       "   1.0           1.0           1.0           1.0\n",
       "   1.0           1.0           1.0           1.0\n",
       " -10.9893      -10.9893      -10.9893      -10.9893\n",
       "   0.244491      0.244491      0.244491      0.244491\n",
       "   1.02487       1.02487       1.02487       1.02487"
      ]
     },
     "execution_count": 5,
     "metadata": {},
     "output_type": "execute_result"
    }
   ],
   "source": [
    "using CUDA, CUDAKernels, KernelAbstractions\n",
    "using Tullio\n",
    "using BenchmarkTools\n",
    "CUDA.allowscalar(false)\n",
    "\n",
    "aaa = gpu(f.type_assignments)\n",
    "\n",
    "@tullio Δr⃗[p,dim,r] := r⃗[r,dim] - r⃗_μ[p,dim];\n",
    "@tullio c_g[p,r] := get_gaussian_constant(aaa[p], Δr⃗[p,1,r], Δr⃗[p,2,r], Δr⃗[p,3,r])"
   ]
  },
  {
   "cell_type": "code",
   "execution_count": 7,
   "id": "51b72a63",
   "metadata": {},
   "outputs": [
    {
     "ename": "LoadError",
     "evalue": "UndefVarError: Δr⃗ not defined",
     "output_type": "error",
     "traceback": [
      "UndefVarError: Δr⃗ not defined",
      "",
      "Stacktrace:",
      " [1] top-level scope",
      "   @ In[7]:3",
      " [2] eval",
      "   @ ./boot.jl:360 [inlined]",
      " [3] include_string(mapexpr::typeof(REPL.softscope), mod::Module, code::String, filename::String)",
      "   @ Base ./loading.jl:1116"
     ]
    }
   ],
   "source": [
    "#norms = sum((r⃗ .- r⃗_μ).^2, dims=2) .|> sqrt #version for r⃗ consising of 1 3-D point\n",
    "#version for r⃗ consising of n 3-D points\n",
    "sq_dist = dropdims(sum(Δr⃗.^2, dims=2), dims=2) |> gpu"
   ]
  },
  {
   "cell_type": "code",
   "execution_count": 42,
   "id": "3060b053",
   "metadata": {},
   "outputs": [
    {
     "ename": "LoadError",
     "evalue": "Scalar indexing is disallowed.\nInvocation of getindex resulted in scalar indexing of a GPU array.\nThis is typically caused by calling an iterating implementation of a method.\nSuch implementations *do not* execute on the GPU, but very slowly on the CPU,\nand therefore are only permitted from the REPL for prototyping purposes.\nIf you did intend to index this array, annotate the caller with @allowscalar.",
     "output_type": "error",
     "traceback": [
      "Scalar indexing is disallowed.\nInvocation of getindex resulted in scalar indexing of a GPU array.\nThis is typically caused by calling an iterating implementation of a method.\nSuch implementations *do not* execute on the GPU, but very slowly on the CPU,\nand therefore are only permitted from the REPL for prototyping purposes.\nIf you did intend to index this array, annotate the caller with @allowscalar.",
      "",
      "Stacktrace:",
      "  [1] error(s::String)",
      "    @ Base ./error.jl:33",
      "  [2] assertscalar(op::String)",
      "    @ GPUArrays ~/.julia/packages/GPUArrays/0vqbc/src/host/indexing.jl:53",
      "  [3] getindex(::CuArray{Float32, 3, CUDA.Mem.DeviceBuffer}, ::Int64, ::Int64, ::Int64)",
      "    @ GPUArrays ~/.julia/packages/GPUArrays/0vqbc/src/host/indexing.jl:86",
      "  [4] 𝒜𝒸𝓉!",
      "    @ ~/.julia/packages/Tullio/qPZkO/src/macro.jl:1037 [inlined]",
      "  [5] tile_halves(fun!::var\"#𝒜𝒸𝓉!#292\", ::Type{DenseArray}, As::Tuple{Matrix{Float32}, Vector{Int64}, CuArray{Float32, 3, CUDA.Mem.DeviceBuffer}}, Is::Tuple{UnitRange{Int64}, UnitRange{Int64}}, Js::Tuple{}, keep::Nothing, final::Bool)",
      "    @ Tullio ~/.julia/packages/Tullio/qPZkO/src/threads.jl:139",
      "  [6] tile_halves(fun!::var\"#𝒜𝒸𝓉!#292\", ::Type{DenseArray}, As::Tuple{Matrix{Float32}, Vector{Int64}, CuArray{Float32, 3, CUDA.Mem.DeviceBuffer}}, Is::Tuple{UnitRange{Int64}, UnitRange{Int64}}, Js::Tuple{}, keep::Nothing, final::Bool) (repeats 4 times)",
      "    @ Tullio ~/.julia/packages/Tullio/qPZkO/src/threads.jl:142",
      "  [7] tile_halves",
      "    @ ~/.julia/packages/Tullio/qPZkO/src/threads.jl:136 [inlined]",
      "  [8] threader",
      "    @ ~/.julia/packages/Tullio/qPZkO/src/threads.jl:65 [inlined]",
      "  [9] (::var\"#ℳ𝒶𝓀ℯ#296\"{var\"#𝒜𝒸𝓉!#292\"})(≪f.type_assignments≫::Vector{Int64}, Δr⃗::CuArray{Float32, 3, CUDA.Mem.DeviceBuffer})",
      "    @ Main ~/.julia/packages/Tullio/qPZkO/src/macro.jl:807",
      " [10] (::Tullio.Eval{var\"#ℳ𝒶𝓀ℯ#296\"{var\"#𝒜𝒸𝓉!#292\"}, Nothing})(::Vector{Int64}, ::Vararg{Any, N} where N)",
      "    @ Tullio ~/.julia/packages/Tullio/qPZkO/src/eval.jl:20",
      " [11] top-level scope",
      "    @ ~/.julia/packages/Tullio/qPZkO/src/macro.jl:977",
      " [12] eval",
      "    @ ./boot.jl:360 [inlined]",
      " [13] include_string(mapexpr::typeof(REPL.softscope), mod::Module, code::String, filename::String)",
      "    @ Base ./loading.jl:1116"
     ]
    }
   ],
   "source": [
    "function get_gaussian_constant(t::Integer, ΔX::Float32, ΔY::Float32, ΔZ::Float32)::Float32\n",
    "    t == 1 ? 1.0 :\n",
    "    t == 2 ? ΔX :\n",
    "    t == 3 ? ΔY :\n",
    "    t == 4 ? ΔZ :\n",
    "    t == 5 ? ΔX^2 :\n",
    "    t == 6 ? ΔY^2 :\n",
    "    t == 7 ? ΔZ^2 :\n",
    "    t == 8 ? ΔX*ΔY :\n",
    "    t == 9 ? ΔX*ΔZ :\n",
    "    t == 10 ? ΔY*ΔZ :\n",
    "    t == 11 ? ΔX^3 :\n",
    "    t == 12 ? ΔY^3 :\n",
    "    t == 13 ? ΔZ^3 :\n",
    "    t == 14 ? ΔX^2*ΔY :\n",
    "    t == 15 ? ΔX^2*ΔZ :\n",
    "    t == 16 ? ΔY^2*ΔZ :\n",
    "    t == 17 ? ΔX*ΔY^2 :\n",
    "    t == 18 ? ΔX*ΔZ^2 :\n",
    "    t == 19 ? ΔY*ΔZ^2 :\n",
    "    t == 20 ? ΔX*ΔY*ΔZ :\n",
    "    1.0 #Any other type (should be unreachable)\n",
    "end\n",
    "\n",
    "function get_gaussian_constant_v2(idx, point, t_assignations, Δ_assignations)::Float32\n",
    "    t = t_assignations[idx]\n",
    "    ΔX = Δ_assignations[idx, 1, point]\n",
    "    ΔY = Δ_assignations[idx, 2, point]\n",
    "    ΔZ = Δ_assignations[idx, 3, point]\n",
    "    t == 1 ? 1.0 :\n",
    "    t == 2 ? ΔX :\n",
    "    t == 3 ? ΔY :\n",
    "    t == 4 ? ΔZ :\n",
    "    t == 5 ? ΔX^2 :\n",
    "    t == 6 ? ΔY^2 :\n",
    "    t == 7 ? ΔZ^2 :\n",
    "    t == 8 ? ΔX*ΔY :\n",
    "    t == 9 ? ΔX*ΔZ :\n",
    "    t == 10 ? ΔY*ΔZ :\n",
    "    t == 11 ? ΔX^3 :\n",
    "    t == 12 ? ΔY^3 :\n",
    "    t == 13 ? ΔZ^3 :\n",
    "    t == 14 ? ΔX^2*ΔY :\n",
    "    t == 15 ? ΔX^2*ΔZ :\n",
    "    t == 16 ? ΔY^2*ΔZ :\n",
    "    t == 17 ? ΔX*ΔY^2 :\n",
    "    t == 18 ? ΔX*ΔZ^2 :\n",
    "    t == 19 ? ΔY*ΔZ^2 :\n",
    "    t == 20 ? ΔX*ΔY*ΔZ :\n",
    "    1.0 #Any other type (should be unreachable)\n",
    "end\n",
    "\n",
    "@tullio c_g[p,r] := get_gaussian_constant(f.type_assignments[p], Δr⃗[p,1,r], Δr⃗[p,2,r], Δr⃗[p,3,r])"
   ]
  },
  {
   "cell_type": "code",
   "execution_count": 17,
   "id": "1d7eef39",
   "metadata": {},
   "outputs": [
    {
     "data": {
      "text/plain": [
       "765×3×4 Array{Float32, 3}:\n",
       "[:, :, 1] =\n",
       "   0.0068786  -0.00082203   0.0200519\n",
       "   0.0068786  -0.00082203   0.0200519\n",
       "   0.0068786  -0.00082203   0.0200519\n",
       "   0.0068786  -0.00082203   0.0200519\n",
       "   0.0068786  -0.00082203   0.0200519\n",
       "   0.0068786  -0.00082203   0.0200519\n",
       "   0.0068786  -0.00082203   0.0200519\n",
       "   0.0068786  -0.00082203   0.0200519\n",
       "   0.0068786  -0.00082203   0.0200519\n",
       "   0.0068786  -0.00082203   0.0200519\n",
       "   0.0068786  -0.00082203   0.0200519\n",
       "   0.0068786  -0.00082203   0.0200519\n",
       "   0.0068786  -0.00082203   0.0200519\n",
       "   ⋮                       \n",
       " -10.9709      0.159599    -3.63041\n",
       " -10.9709      0.159599    -3.63041\n",
       " -10.9709      0.159599    -3.63041\n",
       " -10.9893      0.244491     1.02487\n",
       " -10.9893      0.244491     1.02487\n",
       " -10.9893      0.244491     1.02487\n",
       " -10.9893      0.244491     1.02487\n",
       " -10.9893      0.244491     1.02487\n",
       " -10.9893      0.244491     1.02487\n",
       " -10.9893      0.244491     1.02487\n",
       " -10.9893      0.244491     1.02487\n",
       " -10.9893      0.244491     1.02487\n",
       "\n",
       "[:, :, 2] =\n",
       "   0.0068786  -0.00082203   0.0200519\n",
       "   0.0068786  -0.00082203   0.0200519\n",
       "   0.0068786  -0.00082203   0.0200519\n",
       "   0.0068786  -0.00082203   0.0200519\n",
       "   0.0068786  -0.00082203   0.0200519\n",
       "   0.0068786  -0.00082203   0.0200519\n",
       "   0.0068786  -0.00082203   0.0200519\n",
       "   0.0068786  -0.00082203   0.0200519\n",
       "   0.0068786  -0.00082203   0.0200519\n",
       "   0.0068786  -0.00082203   0.0200519\n",
       "   0.0068786  -0.00082203   0.0200519\n",
       "   0.0068786  -0.00082203   0.0200519\n",
       "   0.0068786  -0.00082203   0.0200519\n",
       "   ⋮                       \n",
       " -10.9709      0.159599    -3.63041\n",
       " -10.9709      0.159599    -3.63041\n",
       " -10.9709      0.159599    -3.63041\n",
       " -10.9893      0.244491     1.02487\n",
       " -10.9893      0.244491     1.02487\n",
       " -10.9893      0.244491     1.02487\n",
       " -10.9893      0.244491     1.02487\n",
       " -10.9893      0.244491     1.02487\n",
       " -10.9893      0.244491     1.02487\n",
       " -10.9893      0.244491     1.02487\n",
       " -10.9893      0.244491     1.02487\n",
       " -10.9893      0.244491     1.02487\n",
       "\n",
       "[:, :, 3] =\n",
       "   0.0068786  -0.00082203   0.0200519\n",
       "   0.0068786  -0.00082203   0.0200519\n",
       "   0.0068786  -0.00082203   0.0200519\n",
       "   0.0068786  -0.00082203   0.0200519\n",
       "   0.0068786  -0.00082203   0.0200519\n",
       "   0.0068786  -0.00082203   0.0200519\n",
       "   0.0068786  -0.00082203   0.0200519\n",
       "   0.0068786  -0.00082203   0.0200519\n",
       "   0.0068786  -0.00082203   0.0200519\n",
       "   0.0068786  -0.00082203   0.0200519\n",
       "   0.0068786  -0.00082203   0.0200519\n",
       "   0.0068786  -0.00082203   0.0200519\n",
       "   0.0068786  -0.00082203   0.0200519\n",
       "   ⋮                       \n",
       " -10.9709      0.159599    -3.63041\n",
       " -10.9709      0.159599    -3.63041\n",
       " -10.9709      0.159599    -3.63041\n",
       " -10.9893      0.244491     1.02487\n",
       " -10.9893      0.244491     1.02487\n",
       " -10.9893      0.244491     1.02487\n",
       " -10.9893      0.244491     1.02487\n",
       " -10.9893      0.244491     1.02487\n",
       " -10.9893      0.244491     1.02487\n",
       " -10.9893      0.244491     1.02487\n",
       " -10.9893      0.244491     1.02487\n",
       " -10.9893      0.244491     1.02487\n",
       "\n",
       "[:, :, 4] =\n",
       "   0.0068786  -0.00082203   0.0200519\n",
       "   0.0068786  -0.00082203   0.0200519\n",
       "   0.0068786  -0.00082203   0.0200519\n",
       "   0.0068786  -0.00082203   0.0200519\n",
       "   0.0068786  -0.00082203   0.0200519\n",
       "   0.0068786  -0.00082203   0.0200519\n",
       "   0.0068786  -0.00082203   0.0200519\n",
       "   0.0068786  -0.00082203   0.0200519\n",
       "   0.0068786  -0.00082203   0.0200519\n",
       "   0.0068786  -0.00082203   0.0200519\n",
       "   0.0068786  -0.00082203   0.0200519\n",
       "   0.0068786  -0.00082203   0.0200519\n",
       "   0.0068786  -0.00082203   0.0200519\n",
       "   ⋮                       \n",
       " -10.9709      0.159599    -3.63041\n",
       " -10.9709      0.159599    -3.63041\n",
       " -10.9709      0.159599    -3.63041\n",
       " -10.9893      0.244491     1.02487\n",
       " -10.9893      0.244491     1.02487\n",
       " -10.9893      0.244491     1.02487\n",
       " -10.9893      0.244491     1.02487\n",
       " -10.9893      0.244491     1.02487\n",
       " -10.9893      0.244491     1.02487\n",
       " -10.9893      0.244491     1.02487\n",
       " -10.9893      0.244491     1.02487\n",
       " -10.9893      0.244491     1.02487"
      ]
     },
     "execution_count": 17,
     "metadata": {},
     "output_type": "execute_result"
    }
   ],
   "source": [
    "Δr⃗"
   ]
  },
  {
   "cell_type": "code",
   "execution_count": 34,
   "id": "9e45c2d0",
   "metadata": {},
   "outputs": [
    {
     "data": {
      "text/plain": [
       "18×4 CuArray{Float32, 2, CUDA.Mem.DeviceBuffer}:\n",
       "  1.0       1.0       1.0       1.0\n",
       "  1.0       1.0       1.0       1.0\n",
       "  1.0       1.0       1.0       1.0\n",
       "  1.0       1.0       1.0       1.0\n",
       "  1.0       1.0       1.0       1.0\n",
       "  1.0       1.0       1.0       1.0\n",
       "  0.0       0.0       0.0       0.0\n",
       "  0.0       0.0       0.0       0.0\n",
       " -0.69742  -0.69742  -0.69742  -0.69742\n",
       "  1.0       1.0       1.0       1.0\n",
       "  1.0       1.0       1.0       1.0\n",
       "  1.0       1.0       1.0       1.0\n",
       "  1.0       1.0       1.0       1.0\n",
       "  1.0       1.0       1.0       1.0\n",
       "  1.0       1.0       1.0       1.0\n",
       "  0.0       0.0       0.0       0.0\n",
       "  0.0       0.0       0.0       0.0\n",
       "  0.69742   0.69742   0.69742   0.69742"
      ]
     },
     "execution_count": 34,
     "metadata": {},
     "output_type": "execute_result"
    }
   ],
   "source": [
    "#c_g = [get_gaussian_constant_v2(y,x,f.type_assignments, Δr⃗) for y=1:f.n_primitives, x=1:n_points]\n",
    "#1:f.n_primitives\n",
    "c_g"
   ]
  },
  {
   "cell_type": "code",
   "execution_count": 35,
   "id": "bee08c8c",
   "metadata": {},
   "outputs": [
    {
     "data": {
      "text/plain": [
       "18×4 CuArray{Float32, 2, CUDA.Mem.DeviceBuffer}:\n",
       "  7.02101f-8   7.02101f-8   7.02101f-8   7.02101f-8\n",
       "  0.083904     0.083904     0.083904     0.083904\n",
       "  0.569139     0.569139     0.569139     0.569139\n",
       "  0.853434     0.853434     0.853434     0.853434\n",
       "  0.951255     0.951255     0.951255     0.951255\n",
       "  0.982642     0.982642     0.982642     0.982642\n",
       "  0.0          0.0          0.0          0.0\n",
       "  0.0          0.0          0.0          0.0\n",
       " -0.484245    -0.484245    -0.484245    -0.484245\n",
       "  7.02101f-8   7.02101f-8   7.02101f-8   7.02101f-8\n",
       "  0.083904     0.083904     0.083904     0.083904\n",
       "  0.569139     0.569139     0.569139     0.569139\n",
       "  0.853434     0.853434     0.853434     0.853434\n",
       "  0.951255     0.951255     0.951255     0.951255\n",
       "  0.982642     0.982642     0.982642     0.982642\n",
       "  0.0          0.0          0.0          0.0\n",
       "  0.0          0.0          0.0          0.0\n",
       "  0.484245     0.484245     0.484245     0.484245"
      ]
     },
     "execution_count": 35,
     "metadata": {},
     "output_type": "execute_result"
    }
   ],
   "source": [
    "Ψ_μ = c_g .* exp.(-f.exponents .* sq_dist) #multiply by type constant"
   ]
  },
  {
   "cell_type": "code",
   "execution_count": 37,
   "id": "9a1e582b",
   "metadata": {},
   "outputs": [
    {
     "data": {
      "text/plain": [
       "14×4 CuArray{Float32, 2, CUDA.Mem.DeviceBuffer}:\n",
       "  0.364128      0.364128      0.364128      0.364128\n",
       "  7.45058f-9    7.45058f-9    7.45058f-9    7.45058f-9\n",
       " -0.493962     -0.493962     -0.493962     -0.493962\n",
       " -4.77413f-18  -4.77413f-18  -4.77413f-18  -4.77413f-18\n",
       " -1.20456f-14  -1.20456f-14  -1.20456f-14  -1.20456f-14\n",
       "  1.49012f-8    1.49012f-8    1.49012f-8    1.49012f-8\n",
       " -0.205414     -0.205414     -0.205414     -0.205414\n",
       "  3.89189f-16   3.89189f-16   3.89189f-16   3.89189f-16\n",
       "  1.45723f-17   1.45723f-17   1.45723f-17   1.45723f-17\n",
       "  0.281187      0.281187      0.281187      0.281187\n",
       " -1.19209f-7   -1.19209f-7   -1.19209f-7   -1.19209f-7\n",
       "  0.0           0.0           0.0           0.0\n",
       "  0.0299237     0.0299237     0.0299237     0.0299237\n",
       "  5.12227f-9    5.12227f-9    5.12227f-9    5.12227f-9"
      ]
     },
     "execution_count": 37,
     "metadata": {},
     "output_type": "execute_result"
    }
   ],
   "source": [
    "Φ_r = f.mo * Ψ_μ"
   ]
  },
  {
   "cell_type": "code",
   "execution_count": 38,
   "id": "26be766b",
   "metadata": {},
   "outputs": [
    {
     "data": {
      "text/plain": [
       "4-element Vector{Float64}:\n",
       " 0.26371811262603784\n",
       " 0.26371811262603784\n",
       " 0.26371811262603784\n",
       " 0.26371811262603784"
      ]
     },
     "execution_count": 38,
     "metadata": {},
     "output_type": "execute_result"
    }
   ],
   "source": [
    "ρ = transpose(Φ_r.^2) * f.occ_no"
   ]
  },
  {
   "cell_type": "code",
   "execution_count": 105,
   "id": "5f7e850f",
   "metadata": {},
   "outputs": [],
   "source": [
    "using Zygote"
   ]
  },
  {
   "cell_type": "code",
   "execution_count": 6,
   "id": "8664fb35",
   "metadata": {},
   "outputs": [
    {
     "data": {
      "text/plain": [
       "get_∂gc∂Z (generic function with 1 method)"
      ]
     },
     "execution_count": 6,
     "metadata": {},
     "output_type": "execute_result"
    }
   ],
   "source": [
    "get_∂gc∂X(t, ΔX, ΔY, ΔZ) =\n",
    "    t == 2 ? 1.0 :\n",
    "    t == 5 ? 2*ΔX :\n",
    "    t == 8 ? ΔY :\n",
    "    t == 9 ? ΔZ :\n",
    "    t == 11 ? 3*ΔX^2 :\n",
    "    t == 14 ? 2*ΔX*ΔY :\n",
    "    t == 15 ? 2*ΔX*ΔZ :\n",
    "    t == 17 ? ΔY^2 :\n",
    "    t == 18 ? ΔZ^2 :\n",
    "    t == 20 ? ΔY*ΔZ :\n",
    "    0.0 #Any other type\n",
    "\n",
    "get_∂gc∂Y(t, ΔX, ΔY, ΔZ) =\n",
    "    t == 3 ? 1.0 :\n",
    "    t == 6 ? 2*ΔY :\n",
    "    t == 8 ? ΔX :\n",
    "    t == 10 ? ΔZ :\n",
    "    t == 12 ? 3*ΔY^2 :\n",
    "    t == 14 ? ΔX^2 :\n",
    "    t == 16 ? 2*ΔY*ΔZ :\n",
    "    t == 17 ? 2*ΔX*ΔY :\n",
    "    t == 19 ? ΔZ^2 :\n",
    "    t == 20 ? ΔX*ΔZ :\n",
    "    0.0 #Any other type\n",
    "\n",
    "get_∂gc∂Z(t, ΔX, ΔY, ΔZ) =\n",
    "    t == 4 ? 1.0 :\n",
    "    t == 7 ? 2*ΔZ :\n",
    "    t == 9 ? ΔX :\n",
    "    t == 10 ? ΔY :\n",
    "    t == 13 ? 3*ΔZ^2 :\n",
    "    t == 15 ? ΔX^2 :\n",
    "    t == 16 ? ΔY^2 :\n",
    "    t == 18 ? 2*ΔX*ΔZ :\n",
    "    t == 19 ? 2*ΔY*ΔZ :\n",
    "    t == 20 ? ΔX*ΔY :\n",
    "    0.0 #Any other type"
   ]
  },
  {
   "cell_type": "code",
   "execution_count": 10,
   "id": "f2fa2220",
   "metadata": {},
   "outputs": [
    {
     "data": {
      "text/plain": [
       "get_sum_squared_gradients (generic function with 1 method)"
      ]
     },
     "execution_count": 10,
     "metadata": {},
     "output_type": "execute_result"
    }
   ],
   "source": [
    "get_gaussian_constant(t, ΔX, ΔY, ΔZ) =\n",
    "    t == 1 ? 1.0 :\n",
    "    t == 2 ? ΔX :\n",
    "    t == 3 ? ΔY :\n",
    "    t == 4 ? ΔZ :\n",
    "    t == 5 ? ΔX^2 :\n",
    "    t == 6 ? ΔY^2 :\n",
    "    t == 7 ? ΔZ^2 :\n",
    "    t == 8 ? ΔX*ΔY :\n",
    "    t == 9 ? ΔX*ΔZ :\n",
    "    t == 10 ? ΔY*ΔZ :\n",
    "    t == 11 ? ΔX^3 :\n",
    "    t == 12 ? ΔY^3 :\n",
    "    t == 13 ? ΔZ^3 :\n",
    "    t == 14 ? ΔX^2*ΔY :\n",
    "    t == 15 ? ΔX^2*ΔZ :\n",
    "    t == 16 ? ΔY^2*ΔZ :\n",
    "    t == 17 ? ΔX*ΔY^2 :\n",
    "    t == 18 ? ΔX*ΔZ^2 :\n",
    "    t == 19 ? ΔY*ΔZ^2 :\n",
    "    t == 20 ? ΔX*ΔY*ΔZ :\n",
    "    1.0 #Any other type (should be unreachable)\n",
    "\n",
    "\n",
    "function get_electronic_density(r⃗::AbstractArray, f::WFN)::AbstractArray\n",
    "    r⃗_μ = f.center_assignments .|> (a -> f.nuclei_pos[a,:]) |> (x -> hcat(x...)) |> transpose\n",
    "    @tullio Δr⃗[p,dim,r] := r⃗[r,dim] - r⃗_μ[p,dim]\n",
    "    sq_dist = dropdims(sum(Δr⃗.^2, dims=2), dims=2)\n",
    "    #c_g = [get_gaussian_constant_v2(y, x, f.type_assignments, Δr⃗) for y=1:f.n_primitives, x=1:n_points]\n",
    "    @tullio c_g[p,r] := get_gaussian_constant(f.type_assignments[p], Δr⃗[p,1,r], Δr⃗[p,2,r], Δr⃗[p,3,r])\n",
    "    Ψ_μ = c_g .* exp.(-f.exponents .* sq_dist)\n",
    "    Φ_r = f.mo * Ψ_μ\n",
    "    ρ = transpose(Φ_r.^2) * f.occ_no\n",
    "end\n",
    "\n",
    "function get_sum_squared_gradients(r⃗, f::WFN)\n",
    "    r⃗_μ = f.center_assignments .|> (a -> f.nuclei_pos[a,:]) |> (x -> hcat(x...)) |> transpose\n",
    "    @tullio Δr⃗[p,dim,r] := r⃗[r,dim] - r⃗_μ[p,dim]\n",
    "    sq_dist = dropdims(sum(Δr⃗.^2, dims=2), dims=2)\n",
    "    @tullio c_g[p,r] := get_gaussian_constant(f.type_assignments[p], Δr⃗[p,1,r], Δr⃗[p,2,r], Δr⃗[p,3,r]) grad=Dual\n",
    "    @tullio ∂gc∂X[p,r] := get_∂gc∂X(f.type_assignments[p], Δr⃗[p,1,r], Δr⃗[p,2,r], Δr⃗[p,3,r]) grad=Dual\n",
    "    @tullio ∂gc∂Y[p,r] := get_∂gc∂Y(f.type_assignments[p], Δr⃗[p,1,r], Δr⃗[p,2,r], Δr⃗[p,3,r]) grad=Dual\n",
    "    @tullio ∂gc∂Z[p,r] := get_∂gc∂Z(f.type_assignments[p], Δr⃗[p,1,r], Δr⃗[p,2,r], Δr⃗[p,3,r]) grad=Dual\n",
    "    F0 = exp.(-f.exponents .* sq_dist)\n",
    "    ∂F∂X = -2.0*f.exponents .* F0 .* Δr⃗[:,1,:]\n",
    "    ∂F∂Y = -2.0*f.exponents .* F0 .* Δr⃗[:,2,:]\n",
    "    ∂F∂Z = -2.0*f.exponents .* F0 .* Δr⃗[:,3,:]\n",
    "    ∂Ψ_μ∂X = ∂gc∂X .* F0 + c_g .* ∂F∂X\n",
    "    ∂Ψ_μ∂Y = ∂gc∂Y .* F0 + c_g .* ∂F∂Y\n",
    "    ∂Ψ_μ∂Z = ∂gc∂Z .* F0 + c_g .* ∂F∂Z\n",
    "    ∂Φ∂X = f.mo * ∂Ψ_μ∂X\n",
    "    ∂Φ∂Y = f.mo * ∂Ψ_μ∂Y\n",
    "    ∂Φ∂Z = f.mo * ∂Ψ_μ∂Z\n",
    "    Ψ_μ = c_g .* exp.(-f.exponents .* sq_dist)\n",
    "    Φ_r = f.mo * Ψ_μ\n",
    "    Wx = transpose(∂Φ∂X .* Φ_r) * f.occ_no\n",
    "    Wy = transpose(∂Φ∂Y .* Φ_r) * f.occ_no\n",
    "    Wz = transpose(∂Φ∂Z .* Φ_r) * f.occ_no\n",
    "\n",
    "    sum(Wx.^2) + sum(Wy.^2) + sum(Wz.^2)\n",
    "end"
   ]
  },
  {
   "cell_type": "code",
   "execution_count": 11,
   "id": "7eee3f94",
   "metadata": {},
   "outputs": [
    {
     "ename": "LoadError",
     "evalue": "UndefVarError: Δr⃗ not defined",
     "output_type": "error",
     "traceback": [
      "UndefVarError: Δr⃗ not defined",
      "",
      "Stacktrace:",
      " [1] top-level scope",
      "   @ :0",
      " [2] eval",
      "   @ ./boot.jl:360 [inlined]",
      " [3] include_string(mapexpr::typeof(REPL.softscope), mod::Module, code::String, filename::String)",
      "   @ Base ./loading.jl:1116"
     ]
    }
   ],
   "source": [
    "Δr⃗"
   ]
  },
  {
   "cell_type": "code",
   "execution_count": 12,
   "id": "5c35d1fa",
   "metadata": {},
   "outputs": [
    {
     "ename": "LoadError",
     "evalue": "UndefVarError: sq_dist not defined",
     "output_type": "error",
     "traceback": [
      "UndefVarError: sq_dist not defined",
      "",
      "Stacktrace:",
      " [1] top-level scope",
      "   @ In[12]:2",
      " [2] eval",
      "   @ ./boot.jl:360 [inlined]",
      " [3] include_string(mapexpr::typeof(REPL.softscope), mod::Module, code::String, filename::String)",
      "   @ Base ./loading.jl:1116"
     ]
    }
   ],
   "source": [
    "#∇F = Δr⃗ .* ((-2.0*f.exponents .* exp.(-f.exponents .* sq_dist)) |> (x -> reshape(x, f.n_primitives, 1, :)))\n",
    "F0 = exp.(-f.exponents .* sq_dist)\n",
    "∂F∂X = -2.0*f.exponents .* F0 .* Δr⃗[:,1,:]\n",
    "∂F∂Y = -2.0*f.exponents .* F0 .* Δr⃗[:,2,:]\n",
    "∂F∂Z = -2.0*f.exponents .* F0 .* Δr⃗[:,3,:]"
   ]
  },
  {
   "cell_type": "code",
   "execution_count": 135,
   "id": "e9cd937c",
   "metadata": {},
   "outputs": [
    {
     "data": {
      "text/plain": [
       "18×4 Matrix{Float32}:\n",
       "  1.0       1.0       1.0       1.0\n",
       "  1.0       1.0       1.0       1.0\n",
       "  1.0       1.0       1.0       1.0\n",
       "  1.0       1.0       1.0       1.0\n",
       "  1.0       1.0       1.0       1.0\n",
       "  1.0       1.0       1.0       1.0\n",
       "  0.0       0.0       0.0       0.0\n",
       "  0.0       0.0       0.0       0.0\n",
       " -0.69742  -0.69742  -0.69742  -0.69742\n",
       "  1.0       1.0       1.0       1.0\n",
       "  1.0       1.0       1.0       1.0\n",
       "  1.0       1.0       1.0       1.0\n",
       "  1.0       1.0       1.0       1.0\n",
       "  1.0       1.0       1.0       1.0\n",
       "  1.0       1.0       1.0       1.0\n",
       "  0.0       0.0       0.0       0.0\n",
       "  0.0       0.0       0.0       0.0\n",
       "  0.69742   0.69742   0.69742   0.69742"
      ]
     },
     "execution_count": 135,
     "metadata": {},
     "output_type": "execute_result"
    }
   ],
   "source": [
    "c_g"
   ]
  },
  {
   "cell_type": "code",
   "execution_count": 136,
   "id": "41221e9f",
   "metadata": {},
   "outputs": [
    {
     "data": {
      "text/plain": [
       "18×4 Matrix{Float64}:\n",
       " 0.0  0.0  0.0  0.0\n",
       " 0.0  0.0  0.0  0.0\n",
       " 0.0  0.0  0.0  0.0\n",
       " 0.0  0.0  0.0  0.0\n",
       " 0.0  0.0  0.0  0.0\n",
       " 0.0  0.0  0.0  0.0\n",
       " 0.0  0.0  0.0  0.0\n",
       " 0.0  0.0  0.0  0.0\n",
       " 1.0  1.0  1.0  1.0\n",
       " 0.0  0.0  0.0  0.0\n",
       " 0.0  0.0  0.0  0.0\n",
       " 0.0  0.0  0.0  0.0\n",
       " 0.0  0.0  0.0  0.0\n",
       " 0.0  0.0  0.0  0.0\n",
       " 0.0  0.0  0.0  0.0\n",
       " 0.0  0.0  0.0  0.0\n",
       " 0.0  0.0  0.0  0.0\n",
       " 1.0  1.0  1.0  1.0"
      ]
     },
     "execution_count": 136,
     "metadata": {},
     "output_type": "execute_result"
    }
   ],
   "source": [
    "@tullio ∂gc∂X[p,r] := get_∂gc∂X(f.type_assignments[p], Δr⃗[p,1,r], Δr⃗[p,2,r], Δr⃗[p,3,r]) grad=Dual\n",
    "@tullio ∂gc∂Y[p,r] := get_∂gc∂Y(f.type_assignments[p], Δr⃗[p,1,r], Δr⃗[p,2,r], Δr⃗[p,3,r]) grad=Dual\n",
    "@tullio ∂gc∂Z[p,r] := get_∂gc∂Z(f.type_assignments[p], Δr⃗[p,1,r], Δr⃗[p,2,r], Δr⃗[p,3,r]) grad=Dual"
   ]
  },
  {
   "cell_type": "code",
   "execution_count": 137,
   "id": "50c63384",
   "metadata": {},
   "outputs": [
    {
     "data": {
      "text/plain": [
       "18×4 Matrix{Float64}:\n",
       "  3.31647e-6   3.31647e-6   3.31647e-6   3.31647e-6\n",
       "  0.596257     0.596257     0.596257     0.596257\n",
       "  0.919916     0.919916     0.919916     0.919916\n",
       "  0.387881     0.387881     0.387881     0.387881\n",
       "  0.136322     0.136322     0.136322     0.136322\n",
       "  0.0493427    0.0493427    0.0493427    0.0493427\n",
       "  0.0          0.0          0.0          0.0\n",
       "  0.0          0.0          0.0          0.0\n",
       "  0.187754     0.187754     0.187754     0.187754\n",
       " -3.31647e-6  -3.31647e-6  -3.31647e-6  -3.31647e-6\n",
       " -0.596257    -0.596257    -0.596257    -0.596257\n",
       " -0.919916    -0.919916    -0.919916    -0.919916\n",
       " -0.387881    -0.387881    -0.387881    -0.387881\n",
       " -0.136322    -0.136322    -0.136322    -0.136322\n",
       " -0.0493427   -0.0493427   -0.0493427   -0.0493427\n",
       "  0.0          0.0          0.0          0.0\n",
       "  0.0          0.0          0.0          0.0\n",
       "  0.187754     0.187754     0.187754     0.187754"
      ]
     },
     "execution_count": 137,
     "metadata": {},
     "output_type": "execute_result"
    }
   ],
   "source": [
    "∂Ψ_μ∂X = ∂gc∂X .* F0 + c_g .* ∂F∂X\n",
    "∂Ψ_μ∂Y = ∂gc∂Y .* F0 + c_g .* ∂F∂Y\n",
    "∂Ψ_μ∂Z = ∂gc∂Z .* F0 + c_g .* ∂F∂Z"
   ]
  },
  {
   "cell_type": "code",
   "execution_count": 138,
   "id": "252997d2",
   "metadata": {},
   "outputs": [
    {
     "data": {
      "text/plain": [
       "14×4 Matrix{Float64}:\n",
       " -3.66248e-17  -3.66248e-17  -3.66248e-17  -3.66248e-17\n",
       "  0.949984      0.949984      0.949984      0.949984\n",
       "  6.07492e-17   6.07492e-17   6.07492e-17   6.07492e-17\n",
       " -1.81253e-16  -1.81253e-16  -1.81253e-16  -1.81253e-16\n",
       " -2.55859e-15  -2.55859e-15  -2.55859e-15  -2.55859e-15\n",
       "  1.4428        1.4428        1.4428        1.4428\n",
       " -5.74004e-17  -5.74004e-17  -5.74004e-17  -5.74004e-17\n",
       " -9.85376e-16  -9.85376e-16  -9.85376e-16  -9.85376e-16\n",
       "  2.47737e-16   2.47737e-16   2.47737e-16   2.47737e-16\n",
       "  6.5859e-17    6.5859e-17    6.5859e-17    6.5859e-17\n",
       "  0.911569      0.911569      0.911569      0.911569\n",
       " -0.22444      -0.22444      -0.22444      -0.22444\n",
       " -2.07783e-17  -2.07783e-17  -2.07783e-17  -2.07783e-17\n",
       " -0.051263     -0.051263     -0.051263     -0.051263"
      ]
     },
     "execution_count": 138,
     "metadata": {},
     "output_type": "execute_result"
    }
   ],
   "source": [
    "∂Φ∂X = f.mo * ∂Ψ_μ∂X\n",
    "∂Φ∂Y = f.mo * ∂Ψ_μ∂Y\n",
    "∂Φ∂Z = f.mo * ∂Ψ_μ∂Z"
   ]
  },
  {
   "cell_type": "code",
   "execution_count": 139,
   "id": "f3349246",
   "metadata": {},
   "outputs": [
    {
     "data": {
      "text/plain": [
       "1.2974354852248038e-32"
      ]
     },
     "execution_count": 139,
     "metadata": {},
     "output_type": "execute_result"
    }
   ],
   "source": [
    "Wx = transpose(∂Φ∂X .* Φ_r) * f.occ_no\n",
    "Wy = transpose(∂Φ∂Y .* Φ_r) * f.occ_no\n",
    "Wz = transpose(∂Φ∂Z .* Φ_r) * f.occ_no\n",
    "\n",
    "sum(Wx.^2) + sum(Wy.^2) + sum(Wz.^2)"
   ]
  },
  {
   "cell_type": "code",
   "execution_count": 140,
   "id": "c7fe1b0e",
   "metadata": {},
   "outputs": [
    {
     "data": {
      "text/plain": [
       "1.2974354852248038e-32"
      ]
     },
     "execution_count": 140,
     "metadata": {},
     "output_type": "execute_result"
    }
   ],
   "source": [
    "Wx = transpose(∂Φ∂X .* Φ_r) * f.occ_no\n",
    "Wy = transpose(∂Φ∂Y .* Φ_r) * f.occ_no\n",
    "Wz = transpose(∂Φ∂Z .* Φ_r) * f.occ_no\n",
    "\n",
    "sum(Wx.^2) + sum(Wy.^2) + sum(Wz.^2)"
   ]
  },
  {
   "cell_type": "code",
   "execution_count": 141,
   "id": "5afe59a7",
   "metadata": {},
   "outputs": [
    {
     "data": {
      "text/plain": [
       "df (generic function with 1 method)"
      ]
     },
     "execution_count": 141,
     "metadata": {},
     "output_type": "execute_result"
    }
   ],
   "source": [
    "df(x) = gradient(r⃗ -> get_sum_squared_gradients(r⃗, f),x)"
   ]
  },
  {
   "cell_type": "code",
   "execution_count": 13,
   "id": "94fb1f6a",
   "metadata": {},
   "outputs": [
    {
     "data": {
      "text/plain": [
       "1.298173317252233e-32"
      ]
     },
     "execution_count": 13,
     "metadata": {},
     "output_type": "execute_result"
    }
   ],
   "source": [
    "get_sum_squared_gradients(r⃗, f)"
   ]
  },
  {
   "cell_type": "code",
   "execution_count": 23,
   "id": "db14fba7",
   "metadata": {},
   "outputs": [
    {
     "data": {
      "text/plain": [
       "find_points (generic function with 1 method)"
      ]
     },
     "execution_count": 23,
     "metadata": {},
     "output_type": "execute_result"
    }
   ],
   "source": [
    "using Zygote\n",
    "\n",
    "function find_points(r⃗, f; iters = 100, η = 0.1)\n",
    "    df(x) = Zygote.gradient(r⃗ -> get_sum_squared_gradients(r⃗, f), x)\n",
    "    for iter in 1:iters\n",
    "        grad = df(r⃗)[1]\n",
    "        r⃗ -= η .* grad\n",
    "    end\n",
    "    r⃗, get_electronic_density(r⃗, f)\n",
    "end"
   ]
  },
  {
   "cell_type": "code",
   "execution_count": 46,
   "id": "b9c0f944",
   "metadata": {
    "scrolled": true
   },
   "outputs": [
    {
     "data": {
      "text/plain": [
       "5×3 Matrix{Float32}:\n",
       " 0.0  0.0   0.0\n",
       " 0.0  0.0   0.7\n",
       " 0.0  0.0  -0.7\n",
       " 0.0  0.0   0.0\n",
       " 1.0  1.0   1.0"
      ]
     },
     "execution_count": 46,
     "metadata": {},
     "output_type": "execute_result"
    }
   ],
   "source": [
    "r⃗ = [0 0 0;\n",
    "     0 0 0.7;\n",
    "     0 0 -0.7;\n",
    "     0 0 0;\n",
    "    1 1 1] .|> Float32"
   ]
  },
  {
   "cell_type": "code",
   "execution_count": 47,
   "id": "b97149dd",
   "metadata": {},
   "outputs": [
    {
     "ename": "LoadError",
     "evalue": "UndefVarError: df not defined",
     "output_type": "error",
     "traceback": [
      "UndefVarError: df not defined",
      "",
      "Stacktrace:",
      " [1] top-level scope",
      "   @ ./In[47]:2",
      " [2] eval",
      "   @ ./boot.jl:360 [inlined]",
      " [3] include_string(mapexpr::typeof(REPL.softscope), mod::Module, code::String, filename::String)",
      "   @ Base ./loading.jl:1116"
     ]
    }
   ],
   "source": [
    "for iter in 1:100\n",
    "    grad = df(r⃗)[1]\n",
    "    r⃗ -= 0.1 .* grad\n",
    "end\n",
    "r⃗"
   ]
  },
  {
   "cell_type": "code",
   "execution_count": 48,
   "id": "d8372d54",
   "metadata": {},
   "outputs": [
    {
     "ename": "LoadError",
     "evalue": "UndefVarError: grad not defined",
     "output_type": "error",
     "traceback": [
      "UndefVarError: grad not defined",
      "",
      "Stacktrace:",
      " [1] top-level scope",
      "   @ In[48]:1",
      " [2] eval",
      "   @ ./boot.jl:360 [inlined]",
      " [3] include_string(mapexpr::typeof(REPL.softscope), mod::Module, code::String, filename::String)",
      "   @ Base ./loading.jl:1116"
     ]
    }
   ],
   "source": [
    "r⃗ -= 0.1 .* grad"
   ]
  },
  {
   "cell_type": "code",
   "execution_count": 49,
   "id": "2ec3f9d0",
   "metadata": {},
   "outputs": [
    {
     "data": {
      "text/plain": [
       "([-2.7773768880567753e-18 1.11749225627946e-16 -5.584093167531265e-17; 0.009826598884458165 0.008704318931032129 0.6414952826337021; … ; -2.7773768880567753e-18 1.11749225627946e-16 -5.584093167531265e-17; 1.3372543366107126 1.3372543366107126 1.2202270309354306], [0.2637181343659774, 0.40705542361611147, 0.40705542361611163, 0.2637181343659774, 0.005853029495565906])"
      ]
     },
     "execution_count": 49,
     "metadata": {},
     "output_type": "execute_result"
    }
   ],
   "source": [
    "p, ρ = find_points(r⃗, f, iters=10000)"
   ]
  },
  {
   "cell_type": "code",
   "execution_count": 50,
   "id": "39ead903",
   "metadata": {},
   "outputs": [
    {
     "data": {
      "text/plain": [
       "5-element Vector{Float64}:\n",
       " 0.2637181343659774\n",
       " 0.40705542361611147\n",
       " 0.40705542361611163\n",
       " 0.2637181343659774\n",
       " 0.005853029495565906"
      ]
     },
     "execution_count": 50,
     "metadata": {},
     "output_type": "execute_result"
    }
   ],
   "source": [
    "ρ"
   ]
  },
  {
   "cell_type": "code",
   "execution_count": 51,
   "id": "e628d4d0",
   "metadata": {},
   "outputs": [
    {
     "data": {
      "text/plain": [
       "5×3 Matrix{Float64}:\n",
       " -2.77738e-18   1.11749e-16  -5.58409e-17\n",
       "  0.0098266     0.00870432    0.641495\n",
       " -0.00504717   -0.0121183    -0.641495\n",
       " -2.77738e-18   1.11749e-16  -5.58409e-17\n",
       "  1.33725       1.33725       1.22023"
      ]
     },
     "execution_count": 51,
     "metadata": {},
     "output_type": "execute_result"
    }
   ],
   "source": [
    "p"
   ]
  },
  {
   "cell_type": "code",
   "execution_count": 377,
   "id": "e2480c47",
   "metadata": {},
   "outputs": [
    {
     "data": {
      "image/svg+xml": [
       "<?xml version=\"1.0\" encoding=\"utf-8\"?>\n",
       "<svg xmlns=\"http://www.w3.org/2000/svg\" xmlns:xlink=\"http://www.w3.org/1999/xlink\" width=\"600\" height=\"400\" viewBox=\"0 0 2400 1600\">\n",
       "<defs>\n",
       "  <clipPath id=\"clip560\">\n",
       "    <rect x=\"0\" y=\"0\" width=\"2400\" height=\"1600\"/>\n",
       "  </clipPath>\n",
       "</defs>\n",
       "<path clip-path=\"url(#clip560)\" d=\"\n",
       "M0 1600 L2400 1600 L2400 0 L0 0  Z\n",
       "  \" fill=\"#ffffff\" fill-rule=\"evenodd\" fill-opacity=\"1\"/>\n",
       "<defs>\n",
       "  <clipPath id=\"clip561\">\n",
       "    <rect x=\"480\" y=\"0\" width=\"1681\" height=\"1600\"/>\n",
       "  </clipPath>\n",
       "</defs>\n",
       "<path clip-path=\"url(#clip560)\" d=\"\n",
       "M306.376 1486.45 L2352.76 1486.45 L2352.76 47.2441 L306.376 47.2441  Z\n",
       "  \" fill=\"#ffffff\" fill-rule=\"evenodd\" fill-opacity=\"1\"/>\n",
       "<defs>\n",
       "  <clipPath id=\"clip562\">\n",
       "    <rect x=\"306\" y=\"47\" width=\"2047\" height=\"1440\"/>\n",
       "  </clipPath>\n",
       "</defs>\n",
       "<polyline clip-path=\"url(#clip562)\" style=\"stroke:#000000; stroke-linecap:butt; stroke-linejoin:round; stroke-width:2; stroke-opacity:0.1; fill:none\" points=\"\n",
       "  344.792,1486.45 344.792,47.2441 \n",
       "  \"/>\n",
       "<polyline clip-path=\"url(#clip562)\" style=\"stroke:#000000; stroke-linecap:butt; stroke-linejoin:round; stroke-width:2; stroke-opacity:0.1; fill:none\" points=\"\n",
       "  832.304,1486.45 832.304,47.2441 \n",
       "  \"/>\n",
       "<polyline clip-path=\"url(#clip562)\" style=\"stroke:#000000; stroke-linecap:butt; stroke-linejoin:round; stroke-width:2; stroke-opacity:0.1; fill:none\" points=\"\n",
       "  1319.82,1486.45 1319.82,47.2441 \n",
       "  \"/>\n",
       "<polyline clip-path=\"url(#clip562)\" style=\"stroke:#000000; stroke-linecap:butt; stroke-linejoin:round; stroke-width:2; stroke-opacity:0.1; fill:none\" points=\"\n",
       "  1807.33,1486.45 1807.33,47.2441 \n",
       "  \"/>\n",
       "<polyline clip-path=\"url(#clip562)\" style=\"stroke:#000000; stroke-linecap:butt; stroke-linejoin:round; stroke-width:2; stroke-opacity:0.1; fill:none\" points=\"\n",
       "  2294.84,1486.45 2294.84,47.2441 \n",
       "  \"/>\n",
       "<polyline clip-path=\"url(#clip560)\" style=\"stroke:#000000; stroke-linecap:butt; stroke-linejoin:round; stroke-width:4; stroke-opacity:1; fill:none\" points=\"\n",
       "  306.376,1486.45 2352.76,1486.45 \n",
       "  \"/>\n",
       "<polyline clip-path=\"url(#clip560)\" style=\"stroke:#000000; stroke-linecap:butt; stroke-linejoin:round; stroke-width:4; stroke-opacity:1; fill:none\" points=\"\n",
       "  344.792,1486.45 344.792,1467.55 \n",
       "  \"/>\n",
       "<polyline clip-path=\"url(#clip560)\" style=\"stroke:#000000; stroke-linecap:butt; stroke-linejoin:round; stroke-width:4; stroke-opacity:1; fill:none\" points=\"\n",
       "  832.304,1486.45 832.304,1467.55 \n",
       "  \"/>\n",
       "<polyline clip-path=\"url(#clip560)\" style=\"stroke:#000000; stroke-linecap:butt; stroke-linejoin:round; stroke-width:4; stroke-opacity:1; fill:none\" points=\"\n",
       "  1319.82,1486.45 1319.82,1467.55 \n",
       "  \"/>\n",
       "<polyline clip-path=\"url(#clip560)\" style=\"stroke:#000000; stroke-linecap:butt; stroke-linejoin:round; stroke-width:4; stroke-opacity:1; fill:none\" points=\"\n",
       "  1807.33,1486.45 1807.33,1467.55 \n",
       "  \"/>\n",
       "<polyline clip-path=\"url(#clip560)\" style=\"stroke:#000000; stroke-linecap:butt; stroke-linejoin:round; stroke-width:4; stroke-opacity:1; fill:none\" points=\"\n",
       "  2294.84,1486.45 2294.84,1467.55 \n",
       "  \"/>\n",
       "<path clip-path=\"url(#clip560)\" d=\"M344.792 1515.64 Q341.181 1515.64 339.352 1519.2 Q337.547 1522.75 337.547 1529.87 Q337.547 1536.98 339.352 1540.55 Q341.181 1544.09 344.792 1544.09 Q348.426 1544.09 350.232 1540.55 Q352.06 1536.98 352.06 1529.87 Q352.06 1522.75 350.232 1519.2 Q348.426 1515.64 344.792 1515.64 M344.792 1511.93 Q350.602 1511.93 353.658 1516.54 Q356.736 1521.12 356.736 1529.87 Q356.736 1538.6 353.658 1543.21 Q350.602 1547.79 344.792 1547.79 Q338.982 1547.79 335.903 1543.21 Q332.848 1538.6 332.848 1529.87 Q332.848 1521.12 335.903 1516.54 Q338.982 1511.93 344.792 1511.93 Z\" fill=\"#000000\" fill-rule=\"evenodd\" fill-opacity=\"1\" /><path clip-path=\"url(#clip560)\" d=\"M811.575 1543.18 L827.894 1543.18 L827.894 1547.12 L805.95 1547.12 L805.95 1543.18 Q808.612 1540.43 813.195 1535.8 Q817.802 1531.15 818.982 1529.81 Q821.228 1527.28 822.107 1525.55 Q823.01 1523.79 823.01 1522.1 Q823.01 1519.34 821.066 1517.61 Q819.144 1515.87 816.042 1515.87 Q813.843 1515.87 811.39 1516.63 Q808.959 1517.4 806.181 1518.95 L806.181 1514.23 Q809.005 1513.09 811.459 1512.51 Q813.913 1511.93 815.95 1511.93 Q821.32 1511.93 824.515 1514.62 Q827.709 1517.31 827.709 1521.8 Q827.709 1523.93 826.899 1525.85 Q826.112 1527.74 824.005 1530.34 Q823.427 1531.01 820.325 1534.23 Q817.223 1537.42 811.575 1543.18 Z\" fill=\"#000000\" fill-rule=\"evenodd\" fill-opacity=\"1\" /><path clip-path=\"url(#clip560)\" d=\"M837.755 1512.56 L856.112 1512.56 L856.112 1516.5 L842.038 1516.5 L842.038 1524.97 Q843.056 1524.62 844.075 1524.46 Q845.093 1524.27 846.112 1524.27 Q851.899 1524.27 855.278 1527.44 Q858.658 1530.62 858.658 1536.03 Q858.658 1541.61 855.186 1544.71 Q851.714 1547.79 845.394 1547.79 Q843.218 1547.79 840.95 1547.42 Q838.704 1547.05 836.297 1546.31 L836.297 1541.61 Q838.38 1542.74 840.602 1543.3 Q842.825 1543.86 845.301 1543.86 Q849.306 1543.86 851.644 1541.75 Q853.982 1539.64 853.982 1536.03 Q853.982 1532.42 851.644 1530.31 Q849.306 1528.21 845.301 1528.21 Q843.427 1528.21 841.552 1528.62 Q839.7 1529.04 837.755 1529.92 L837.755 1512.56 Z\" fill=\"#000000\" fill-rule=\"evenodd\" fill-opacity=\"1\" /><path clip-path=\"url(#clip560)\" d=\"M1294.51 1512.56 L1312.87 1512.56 L1312.87 1516.5 L1298.8 1516.5 L1298.8 1524.97 Q1299.82 1524.62 1300.83 1524.46 Q1301.85 1524.27 1302.87 1524.27 Q1308.66 1524.27 1312.04 1527.44 Q1315.42 1530.62 1315.42 1536.03 Q1315.42 1541.61 1311.95 1544.71 Q1308.47 1547.79 1302.15 1547.79 Q1299.98 1547.79 1297.71 1547.42 Q1295.46 1547.05 1293.06 1546.31 L1293.06 1541.61 Q1295.14 1542.74 1297.36 1543.3 Q1299.58 1543.86 1302.06 1543.86 Q1306.07 1543.86 1308.4 1541.75 Q1310.74 1539.64 1310.74 1536.03 Q1310.74 1532.42 1308.4 1530.31 Q1306.07 1528.21 1302.06 1528.21 Q1300.19 1528.21 1298.31 1528.62 Q1296.46 1529.04 1294.51 1529.92 L1294.51 1512.56 Z\" fill=\"#000000\" fill-rule=\"evenodd\" fill-opacity=\"1\" /><path clip-path=\"url(#clip560)\" d=\"M1334.63 1515.64 Q1331.02 1515.64 1329.19 1519.2 Q1327.39 1522.75 1327.39 1529.87 Q1327.39 1536.98 1329.19 1540.55 Q1331.02 1544.09 1334.63 1544.09 Q1338.26 1544.09 1340.07 1540.55 Q1341.9 1536.98 1341.9 1529.87 Q1341.9 1522.75 1340.07 1519.2 Q1338.26 1515.64 1334.63 1515.64 M1334.63 1511.93 Q1340.44 1511.93 1343.5 1516.54 Q1346.57 1521.12 1346.57 1529.87 Q1346.57 1538.6 1343.5 1543.21 Q1340.44 1547.79 1334.63 1547.79 Q1328.82 1547.79 1325.74 1543.21 Q1322.69 1538.6 1322.69 1529.87 Q1322.69 1521.12 1325.74 1516.54 Q1328.82 1511.93 1334.63 1511.93 Z\" fill=\"#000000\" fill-rule=\"evenodd\" fill-opacity=\"1\" /><path clip-path=\"url(#clip560)\" d=\"M1781.18 1512.56 L1803.4 1512.56 L1803.4 1514.55 L1790.86 1547.12 L1785.97 1547.12 L1797.78 1516.5 L1781.18 1516.5 L1781.18 1512.56 Z\" fill=\"#000000\" fill-rule=\"evenodd\" fill-opacity=\"1\" /><path clip-path=\"url(#clip560)\" d=\"M1812.57 1512.56 L1830.93 1512.56 L1830.93 1516.5 L1816.85 1516.5 L1816.85 1524.97 Q1817.87 1524.62 1818.89 1524.46 Q1819.91 1524.27 1820.93 1524.27 Q1826.71 1524.27 1830.09 1527.44 Q1833.47 1530.62 1833.47 1536.03 Q1833.47 1541.61 1830 1544.71 Q1826.53 1547.79 1820.21 1547.79 Q1818.03 1547.79 1815.77 1547.42 Q1813.52 1547.05 1811.11 1546.31 L1811.11 1541.61 Q1813.2 1542.74 1815.42 1543.3 Q1817.64 1543.86 1820.12 1543.86 Q1824.12 1543.86 1826.46 1541.75 Q1828.8 1539.64 1828.8 1536.03 Q1828.8 1532.42 1826.46 1530.31 Q1824.12 1528.21 1820.12 1528.21 Q1818.24 1528.21 1816.37 1528.62 Q1814.52 1529.04 1812.57 1529.92 L1812.57 1512.56 Z\" fill=\"#000000\" fill-rule=\"evenodd\" fill-opacity=\"1\" /><path clip-path=\"url(#clip560)\" d=\"M2254.45 1543.18 L2262.09 1543.18 L2262.09 1516.82 L2253.77 1518.49 L2253.77 1514.23 L2262.04 1512.56 L2266.71 1512.56 L2266.71 1543.18 L2274.35 1543.18 L2274.35 1547.12 L2254.45 1547.12 L2254.45 1543.18 Z\" fill=\"#000000\" fill-rule=\"evenodd\" fill-opacity=\"1\" /><path clip-path=\"url(#clip560)\" d=\"M2293.8 1515.64 Q2290.19 1515.64 2288.36 1519.2 Q2286.55 1522.75 2286.55 1529.87 Q2286.55 1536.98 2288.36 1540.55 Q2290.19 1544.09 2293.8 1544.09 Q2297.43 1544.09 2299.24 1540.55 Q2301.07 1536.98 2301.07 1529.87 Q2301.07 1522.75 2299.24 1519.2 Q2297.43 1515.64 2293.8 1515.64 M2293.8 1511.93 Q2299.61 1511.93 2302.66 1516.54 Q2305.74 1521.12 2305.74 1529.87 Q2305.74 1538.6 2302.66 1543.21 Q2299.61 1547.79 2293.8 1547.79 Q2287.99 1547.79 2284.91 1543.21 Q2281.85 1538.6 2281.85 1529.87 Q2281.85 1521.12 2284.91 1516.54 Q2287.99 1511.93 2293.8 1511.93 Z\" fill=\"#000000\" fill-rule=\"evenodd\" fill-opacity=\"1\" /><path clip-path=\"url(#clip560)\" d=\"M2323.96 1515.64 Q2320.35 1515.64 2318.52 1519.2 Q2316.71 1522.75 2316.71 1529.87 Q2316.71 1536.98 2318.52 1540.55 Q2320.35 1544.09 2323.96 1544.09 Q2327.59 1544.09 2329.4 1540.55 Q2331.23 1536.98 2331.23 1529.87 Q2331.23 1522.75 2329.4 1519.2 Q2327.59 1515.64 2323.96 1515.64 M2323.96 1511.93 Q2329.77 1511.93 2332.83 1516.54 Q2335.9 1521.12 2335.9 1529.87 Q2335.9 1538.6 2332.83 1543.21 Q2329.77 1547.79 2323.96 1547.79 Q2318.15 1547.79 2315.07 1543.21 Q2312.02 1538.6 2312.02 1529.87 Q2312.02 1521.12 2315.07 1516.54 Q2318.15 1511.93 2323.96 1511.93 Z\" fill=\"#000000\" fill-rule=\"evenodd\" fill-opacity=\"1\" /><polyline clip-path=\"url(#clip562)\" style=\"stroke:#000000; stroke-linecap:butt; stroke-linejoin:round; stroke-width:2; stroke-opacity:0.1; fill:none\" points=\"\n",
       "  306.376,1447.1 2352.76,1447.1 \n",
       "  \"/>\n",
       "<polyline clip-path=\"url(#clip562)\" style=\"stroke:#000000; stroke-linecap:butt; stroke-linejoin:round; stroke-width:2; stroke-opacity:0.1; fill:none\" points=\"\n",
       "  306.376,1219.85 2352.76,1219.85 \n",
       "  \"/>\n",
       "<polyline clip-path=\"url(#clip562)\" style=\"stroke:#000000; stroke-linecap:butt; stroke-linejoin:round; stroke-width:2; stroke-opacity:0.1; fill:none\" points=\"\n",
       "  306.376,992.593 2352.76,992.593 \n",
       "  \"/>\n",
       "<polyline clip-path=\"url(#clip562)\" style=\"stroke:#000000; stroke-linecap:butt; stroke-linejoin:round; stroke-width:2; stroke-opacity:0.1; fill:none\" points=\"\n",
       "  306.376,765.338 2352.76,765.338 \n",
       "  \"/>\n",
       "<polyline clip-path=\"url(#clip562)\" style=\"stroke:#000000; stroke-linecap:butt; stroke-linejoin:round; stroke-width:2; stroke-opacity:0.1; fill:none\" points=\"\n",
       "  306.376,538.083 2352.76,538.083 \n",
       "  \"/>\n",
       "<polyline clip-path=\"url(#clip562)\" style=\"stroke:#000000; stroke-linecap:butt; stroke-linejoin:round; stroke-width:2; stroke-opacity:0.1; fill:none\" points=\"\n",
       "  306.376,310.828 2352.76,310.828 \n",
       "  \"/>\n",
       "<polyline clip-path=\"url(#clip562)\" style=\"stroke:#000000; stroke-linecap:butt; stroke-linejoin:round; stroke-width:2; stroke-opacity:0.1; fill:none\" points=\"\n",
       "  306.376,83.5734 2352.76,83.5734 \n",
       "  \"/>\n",
       "<polyline clip-path=\"url(#clip560)\" style=\"stroke:#000000; stroke-linecap:butt; stroke-linejoin:round; stroke-width:4; stroke-opacity:1; fill:none\" points=\"\n",
       "  306.376,1486.45 306.376,47.2441 \n",
       "  \"/>\n",
       "<polyline clip-path=\"url(#clip560)\" style=\"stroke:#000000; stroke-linecap:butt; stroke-linejoin:round; stroke-width:4; stroke-opacity:1; fill:none\" points=\"\n",
       "  306.376,1447.1 325.274,1447.1 \n",
       "  \"/>\n",
       "<polyline clip-path=\"url(#clip560)\" style=\"stroke:#000000; stroke-linecap:butt; stroke-linejoin:round; stroke-width:4; stroke-opacity:1; fill:none\" points=\"\n",
       "  306.376,1219.85 325.274,1219.85 \n",
       "  \"/>\n",
       "<polyline clip-path=\"url(#clip560)\" style=\"stroke:#000000; stroke-linecap:butt; stroke-linejoin:round; stroke-width:4; stroke-opacity:1; fill:none\" points=\"\n",
       "  306.376,992.593 325.274,992.593 \n",
       "  \"/>\n",
       "<polyline clip-path=\"url(#clip560)\" style=\"stroke:#000000; stroke-linecap:butt; stroke-linejoin:round; stroke-width:4; stroke-opacity:1; fill:none\" points=\"\n",
       "  306.376,765.338 325.274,765.338 \n",
       "  \"/>\n",
       "<polyline clip-path=\"url(#clip560)\" style=\"stroke:#000000; stroke-linecap:butt; stroke-linejoin:round; stroke-width:4; stroke-opacity:1; fill:none\" points=\"\n",
       "  306.376,538.083 325.274,538.083 \n",
       "  \"/>\n",
       "<polyline clip-path=\"url(#clip560)\" style=\"stroke:#000000; stroke-linecap:butt; stroke-linejoin:round; stroke-width:4; stroke-opacity:1; fill:none\" points=\"\n",
       "  306.376,310.828 325.274,310.828 \n",
       "  \"/>\n",
       "<polyline clip-path=\"url(#clip560)\" style=\"stroke:#000000; stroke-linecap:butt; stroke-linejoin:round; stroke-width:4; stroke-opacity:1; fill:none\" points=\"\n",
       "  306.376,83.5734 325.274,83.5734 \n",
       "  \"/>\n",
       "<path clip-path=\"url(#clip560)\" d=\"M258.432 1432.9 Q254.821 1432.9 252.992 1436.47 Q251.186 1440.01 251.186 1447.14 Q251.186 1454.24 252.992 1457.81 Q254.821 1461.35 258.432 1461.35 Q262.066 1461.35 263.871 1457.81 Q265.7 1454.24 265.7 1447.14 Q265.7 1440.01 263.871 1436.47 Q262.066 1432.9 258.432 1432.9 M258.432 1429.2 Q264.242 1429.2 267.297 1433.8 Q270.376 1438.39 270.376 1447.14 Q270.376 1455.86 267.297 1460.47 Q264.242 1465.05 258.432 1465.05 Q252.622 1465.05 249.543 1460.47 Q246.487 1455.86 246.487 1447.14 Q246.487 1438.39 249.543 1433.8 Q252.622 1429.2 258.432 1429.2 Z\" fill=\"#000000\" fill-rule=\"evenodd\" fill-opacity=\"1\" /><path clip-path=\"url(#clip560)\" d=\"M54.5569 1239.64 L62.1958 1239.64 L62.1958 1213.27 L53.8856 1214.94 L53.8856 1210.68 L62.1495 1209.02 L66.8254 1209.02 L66.8254 1239.64 L74.4642 1239.64 L74.4642 1243.58 L54.5569 1243.58 L54.5569 1239.64 Z\" fill=\"#000000\" fill-rule=\"evenodd\" fill-opacity=\"1\" /><path clip-path=\"url(#clip560)\" d=\"M83.9086 1237.7 L88.7928 1237.7 L88.7928 1243.58 L83.9086 1243.58 L83.9086 1237.7 Z\" fill=\"#000000\" fill-rule=\"evenodd\" fill-opacity=\"1\" /><path clip-path=\"url(#clip560)\" d=\"M108.978 1212.09 Q105.367 1212.09 103.538 1215.66 Q101.733 1219.2 101.733 1226.33 Q101.733 1233.44 103.538 1237 Q105.367 1240.54 108.978 1240.54 Q112.612 1240.54 114.418 1237 Q116.246 1233.44 116.246 1226.33 Q116.246 1219.2 114.418 1215.66 Q112.612 1212.09 108.978 1212.09 M108.978 1208.39 Q114.788 1208.39 117.844 1213 Q120.922 1217.58 120.922 1226.33 Q120.922 1235.06 117.844 1239.66 Q114.788 1244.25 108.978 1244.25 Q103.168 1244.25 100.089 1239.66 Q97.0335 1235.06 97.0335 1226.33 Q97.0335 1217.58 100.089 1213 Q103.168 1208.39 108.978 1208.39 Z\" fill=\"#000000\" fill-rule=\"evenodd\" fill-opacity=\"1\" /><path clip-path=\"url(#clip560)\" d=\"M157.311 1218.11 L146.732 1228.74 L157.311 1239.32 L154.556 1242.12 L143.931 1231.49 L133.306 1242.12 L130.575 1239.32 L141.131 1228.74 L130.575 1218.11 L133.306 1215.31 L143.931 1225.94 L154.556 1215.31 L157.311 1218.11 Z\" fill=\"#000000\" fill-rule=\"evenodd\" fill-opacity=\"1\" /><path clip-path=\"url(#clip560)\" d=\"M169.672 1239.64 L177.311 1239.64 L177.311 1213.27 L169.001 1214.94 L169.001 1210.68 L177.265 1209.02 L181.94 1209.02 L181.94 1239.64 L189.579 1239.64 L189.579 1243.58 L169.672 1243.58 L169.672 1239.64 Z\" fill=\"#000000\" fill-rule=\"evenodd\" fill-opacity=\"1\" /><path clip-path=\"url(#clip560)\" d=\"M209.024 1212.09 Q205.413 1212.09 203.584 1215.66 Q201.778 1219.2 201.778 1226.33 Q201.778 1233.44 203.584 1237 Q205.413 1240.54 209.024 1240.54 Q212.658 1240.54 214.463 1237 Q216.292 1233.44 216.292 1226.33 Q216.292 1219.2 214.463 1215.66 Q212.658 1212.09 209.024 1212.09 M209.024 1208.39 Q214.834 1208.39 217.889 1213 Q220.968 1217.58 220.968 1226.33 Q220.968 1235.06 217.889 1239.66 Q214.834 1244.25 209.024 1244.25 Q203.214 1244.25 200.135 1239.66 Q197.079 1235.06 197.079 1226.33 Q197.079 1217.58 200.135 1213 Q203.214 1208.39 209.024 1208.39 Z\" fill=\"#000000\" fill-rule=\"evenodd\" fill-opacity=\"1\" /><path clip-path=\"url(#clip560)\" d=\"M220.968 1202.49 L245.08 1202.49 L245.08 1205.69 L220.968 1205.69 L220.968 1202.49 Z\" fill=\"#000000\" fill-rule=\"evenodd\" fill-opacity=\"1\" /><path clip-path=\"url(#clip560)\" d=\"M252.321 1188.08 L270.376 1188.08 L270.376 1189.7 L260.182 1216.16 L256.214 1216.16 L265.806 1191.28 L252.321 1191.28 L252.321 1188.08 Z\" fill=\"#000000\" fill-rule=\"evenodd\" fill-opacity=\"1\" /><path clip-path=\"url(#clip560)\" d=\"M57.7745 1012.39 L74.0939 1012.39 L74.0939 1016.32 L52.1495 1016.32 L52.1495 1012.39 Q54.8115 1009.63 59.3949 1005 Q64.0013 1000.35 65.1819 999.006 Q67.4272 996.483 68.3068 994.746 Q69.2096 992.987 69.2096 991.297 Q69.2096 988.543 67.2652 986.807 Q65.3439 985.071 62.2421 985.071 Q60.043 985.071 57.5893 985.834 Q55.1588 986.598 52.381 988.149 L52.381 983.427 Q55.2051 982.293 57.6588 981.714 Q60.1124 981.135 62.1495 981.135 Q67.5198 981.135 70.7142 983.821 Q73.9087 986.506 73.9087 990.997 Q73.9087 993.126 73.0985 995.047 Q72.3115 996.946 70.205 999.538 Q69.6263 1000.21 66.5245 1003.43 Q63.4226 1006.62 57.7745 1012.39 Z\" fill=\"#000000\" fill-rule=\"evenodd\" fill-opacity=\"1\" /><path clip-path=\"url(#clip560)\" d=\"M83.9086 1010.44 L88.7928 1010.44 L88.7928 1016.32 L83.9086 1016.32 L83.9086 1010.44 Z\" fill=\"#000000\" fill-rule=\"evenodd\" fill-opacity=\"1\" /><path clip-path=\"url(#clip560)\" d=\"M108.978 984.839 Q105.367 984.839 103.538 988.404 Q101.733 991.946 101.733 999.075 Q101.733 1006.18 103.538 1009.75 Q105.367 1013.29 108.978 1013.29 Q112.612 1013.29 114.418 1009.75 Q116.246 1006.18 116.246 999.075 Q116.246 991.946 114.418 988.404 Q112.612 984.839 108.978 984.839 M108.978 981.135 Q114.788 981.135 117.844 985.742 Q120.922 990.325 120.922 999.075 Q120.922 1007.8 117.844 1012.41 Q114.788 1016.99 108.978 1016.99 Q103.168 1016.99 100.089 1012.41 Q97.0335 1007.8 97.0335 999.075 Q97.0335 990.325 100.089 985.742 Q103.168 981.135 108.978 981.135 Z\" fill=\"#000000\" fill-rule=\"evenodd\" fill-opacity=\"1\" /><path clip-path=\"url(#clip560)\" d=\"M157.311 990.858 L146.732 1001.48 L157.311 1012.06 L154.556 1014.86 L143.931 1004.24 L133.306 1014.86 L130.575 1012.06 L141.131 1001.48 L130.575 990.858 L133.306 988.057 L143.931 998.682 L154.556 988.057 L157.311 990.858 Z\" fill=\"#000000\" fill-rule=\"evenodd\" fill-opacity=\"1\" /><path clip-path=\"url(#clip560)\" d=\"M169.672 1012.39 L177.311 1012.39 L177.311 986.02 L169.001 987.686 L169.001 983.427 L177.265 981.76 L181.94 981.76 L181.94 1012.39 L189.579 1012.39 L189.579 1016.32 L169.672 1016.32 L169.672 1012.39 Z\" fill=\"#000000\" fill-rule=\"evenodd\" fill-opacity=\"1\" /><path clip-path=\"url(#clip560)\" d=\"M209.024 984.839 Q205.413 984.839 203.584 988.404 Q201.778 991.946 201.778 999.075 Q201.778 1006.18 203.584 1009.75 Q205.413 1013.29 209.024 1013.29 Q212.658 1013.29 214.463 1009.75 Q216.292 1006.18 216.292 999.075 Q216.292 991.946 214.463 988.404 Q212.658 984.839 209.024 984.839 M209.024 981.135 Q214.834 981.135 217.889 985.742 Q220.968 990.325 220.968 999.075 Q220.968 1007.8 217.889 1012.41 Q214.834 1016.99 209.024 1016.99 Q203.214 1016.99 200.135 1012.41 Q197.079 1007.8 197.079 999.075 Q197.079 990.325 200.135 985.742 Q203.214 981.135 209.024 981.135 Z\" fill=\"#000000\" fill-rule=\"evenodd\" fill-opacity=\"1\" /><path clip-path=\"url(#clip560)\" d=\"M220.968 975.237 L245.08 975.237 L245.08 978.434 L220.968 978.434 L220.968 975.237 Z\" fill=\"#000000\" fill-rule=\"evenodd\" fill-opacity=\"1\" /><path clip-path=\"url(#clip560)\" d=\"M252.321 960.83 L270.376 960.83 L270.376 962.448 L260.182 988.91 L256.214 988.91 L265.806 964.027 L252.321 964.027 L252.321 960.83 Z\" fill=\"#000000\" fill-rule=\"evenodd\" fill-opacity=\"1\" /><path clip-path=\"url(#clip560)\" d=\"M67.9133 770.431 Q71.2698 771.149 73.1448 773.418 Q75.0429 775.686 75.0429 779.019 Q75.0429 784.135 71.5244 786.936 Q68.0059 789.737 61.5245 789.737 Q59.3486 789.737 57.0338 789.297 Q54.7421 788.88 52.2884 788.024 L52.2884 783.51 Q54.2328 784.644 56.5477 785.223 Q58.8625 785.802 61.3856 785.802 Q65.7837 785.802 68.0754 784.066 Q70.3902 782.33 70.3902 779.019 Q70.3902 775.964 68.2374 774.251 Q66.1078 772.515 62.2884 772.515 L58.2606 772.515 L58.2606 768.672 L62.4735 768.672 Q65.9226 768.672 67.7513 767.306 Q69.58 765.918 69.58 763.325 Q69.58 760.663 67.6819 759.251 Q65.8069 757.816 62.2884 757.816 Q60.3671 757.816 58.168 758.232 Q55.969 758.649 53.3301 759.529 L53.3301 755.362 Q55.9921 754.621 58.3069 754.251 Q60.6449 753.881 62.705 753.881 Q68.0291 753.881 71.1309 756.311 Q74.2327 758.719 74.2327 762.839 Q74.2327 765.709 72.5892 767.7 Q70.9457 769.668 67.9133 770.431 Z\" fill=\"#000000\" fill-rule=\"evenodd\" fill-opacity=\"1\" /><path clip-path=\"url(#clip560)\" d=\"M83.9086 783.186 L88.7928 783.186 L88.7928 789.066 L83.9086 789.066 L83.9086 783.186 Z\" fill=\"#000000\" fill-rule=\"evenodd\" fill-opacity=\"1\" /><path clip-path=\"url(#clip560)\" d=\"M108.978 757.584 Q105.367 757.584 103.538 761.149 Q101.733 764.691 101.733 771.82 Q101.733 778.927 103.538 782.492 Q105.367 786.033 108.978 786.033 Q112.612 786.033 114.418 782.492 Q116.246 778.927 116.246 771.82 Q116.246 764.691 114.418 761.149 Q112.612 757.584 108.978 757.584 M108.978 753.881 Q114.788 753.881 117.844 758.487 Q120.922 763.07 120.922 771.82 Q120.922 780.547 117.844 785.154 Q114.788 789.737 108.978 789.737 Q103.168 789.737 100.089 785.154 Q97.0335 780.547 97.0335 771.82 Q97.0335 763.07 100.089 758.487 Q103.168 753.881 108.978 753.881 Z\" fill=\"#000000\" fill-rule=\"evenodd\" fill-opacity=\"1\" /><path clip-path=\"url(#clip560)\" d=\"M157.311 763.603 L146.732 774.228 L157.311 784.806 L154.556 787.607 L143.931 776.982 L133.306 787.607 L130.575 784.806 L141.131 774.228 L130.575 763.603 L133.306 760.802 L143.931 771.427 L154.556 760.802 L157.311 763.603 Z\" fill=\"#000000\" fill-rule=\"evenodd\" fill-opacity=\"1\" /><path clip-path=\"url(#clip560)\" d=\"M169.672 785.13 L177.311 785.13 L177.311 758.765 L169.001 760.431 L169.001 756.172 L177.265 754.506 L181.94 754.506 L181.94 785.13 L189.579 785.13 L189.579 789.066 L169.672 789.066 L169.672 785.13 Z\" fill=\"#000000\" fill-rule=\"evenodd\" fill-opacity=\"1\" /><path clip-path=\"url(#clip560)\" d=\"M209.024 757.584 Q205.413 757.584 203.584 761.149 Q201.778 764.691 201.778 771.82 Q201.778 778.927 203.584 782.492 Q205.413 786.033 209.024 786.033 Q212.658 786.033 214.463 782.492 Q216.292 778.927 216.292 771.82 Q216.292 764.691 214.463 761.149 Q212.658 757.584 209.024 757.584 M209.024 753.881 Q214.834 753.881 217.889 758.487 Q220.968 763.07 220.968 771.82 Q220.968 780.547 217.889 785.154 Q214.834 789.737 209.024 789.737 Q203.214 789.737 200.135 785.154 Q197.079 780.547 197.079 771.82 Q197.079 763.07 200.135 758.487 Q203.214 753.881 209.024 753.881 Z\" fill=\"#000000\" fill-rule=\"evenodd\" fill-opacity=\"1\" /><path clip-path=\"url(#clip560)\" d=\"M220.968 747.982 L245.08 747.982 L245.08 751.179 L220.968 751.179 L220.968 747.982 Z\" fill=\"#000000\" fill-rule=\"evenodd\" fill-opacity=\"1\" /><path clip-path=\"url(#clip560)\" d=\"M252.321 733.575 L270.376 733.575 L270.376 735.193 L260.182 761.655 L256.214 761.655 L265.806 736.772 L252.321 736.772 L252.321 733.575 Z\" fill=\"#000000\" fill-rule=\"evenodd\" fill-opacity=\"1\" /><path clip-path=\"url(#clip560)\" d=\"M66.5939 531.325 L54.7884 549.774 L66.5939 549.774 L66.5939 531.325 M65.367 527.251 L71.2466 527.251 L71.2466 549.774 L76.1772 549.774 L76.1772 553.663 L71.2466 553.663 L71.2466 561.811 L66.5939 561.811 L66.5939 553.663 L50.9921 553.663 L50.9921 549.149 L65.367 527.251 Z\" fill=\"#000000\" fill-rule=\"evenodd\" fill-opacity=\"1\" /><path clip-path=\"url(#clip560)\" d=\"M83.9086 555.931 L88.7928 555.931 L88.7928 561.811 L83.9086 561.811 L83.9086 555.931 Z\" fill=\"#000000\" fill-rule=\"evenodd\" fill-opacity=\"1\" /><path clip-path=\"url(#clip560)\" d=\"M108.978 530.329 Q105.367 530.329 103.538 533.894 Q101.733 537.436 101.733 544.565 Q101.733 551.672 103.538 555.237 Q105.367 558.778 108.978 558.778 Q112.612 558.778 114.418 555.237 Q116.246 551.672 116.246 544.565 Q116.246 537.436 114.418 533.894 Q112.612 530.329 108.978 530.329 M108.978 526.626 Q114.788 526.626 117.844 531.232 Q120.922 535.815 120.922 544.565 Q120.922 553.292 117.844 557.899 Q114.788 562.482 108.978 562.482 Q103.168 562.482 100.089 557.899 Q97.0335 553.292 97.0335 544.565 Q97.0335 535.815 100.089 531.232 Q103.168 526.626 108.978 526.626 Z\" fill=\"#000000\" fill-rule=\"evenodd\" fill-opacity=\"1\" /><path clip-path=\"url(#clip560)\" d=\"M157.311 536.348 L146.732 546.973 L157.311 557.551 L154.556 560.352 L143.931 549.727 L133.306 560.352 L130.575 557.551 L141.131 546.973 L130.575 536.348 L133.306 533.547 L143.931 544.172 L154.556 533.547 L157.311 536.348 Z\" fill=\"#000000\" fill-rule=\"evenodd\" fill-opacity=\"1\" /><path clip-path=\"url(#clip560)\" d=\"M169.672 557.876 L177.311 557.876 L177.311 531.51 L169.001 533.177 L169.001 528.917 L177.265 527.251 L181.94 527.251 L181.94 557.876 L189.579 557.876 L189.579 561.811 L169.672 561.811 L169.672 557.876 Z\" fill=\"#000000\" fill-rule=\"evenodd\" fill-opacity=\"1\" /><path clip-path=\"url(#clip560)\" d=\"M209.024 530.329 Q205.413 530.329 203.584 533.894 Q201.778 537.436 201.778 544.565 Q201.778 551.672 203.584 555.237 Q205.413 558.778 209.024 558.778 Q212.658 558.778 214.463 555.237 Q216.292 551.672 216.292 544.565 Q216.292 537.436 214.463 533.894 Q212.658 530.329 209.024 530.329 M209.024 526.626 Q214.834 526.626 217.889 531.232 Q220.968 535.815 220.968 544.565 Q220.968 553.292 217.889 557.899 Q214.834 562.482 209.024 562.482 Q203.214 562.482 200.135 557.899 Q197.079 553.292 197.079 544.565 Q197.079 535.815 200.135 531.232 Q203.214 526.626 209.024 526.626 Z\" fill=\"#000000\" fill-rule=\"evenodd\" fill-opacity=\"1\" /><path clip-path=\"url(#clip560)\" d=\"M220.968 520.727 L245.08 520.727 L245.08 523.924 L220.968 523.924 L220.968 520.727 Z\" fill=\"#000000\" fill-rule=\"evenodd\" fill-opacity=\"1\" /><path clip-path=\"url(#clip560)\" d=\"M252.321 506.32 L270.376 506.32 L270.376 507.938 L260.182 534.4 L256.214 534.4 L265.806 509.518 L252.321 509.518 L252.321 506.32 Z\" fill=\"#000000\" fill-rule=\"evenodd\" fill-opacity=\"1\" /><path clip-path=\"url(#clip560)\" d=\"M53.793 299.996 L72.1494 299.996 L72.1494 303.931 L58.0754 303.931 L58.0754 312.403 Q59.0939 312.056 60.1124 311.894 Q61.131 311.709 62.1495 311.709 Q67.9365 311.709 71.3161 314.88 Q74.6957 318.051 74.6957 323.468 Q74.6957 329.047 71.2235 332.148 Q67.7513 335.227 61.4319 335.227 Q59.256 335.227 56.9875 334.857 Q54.7421 334.486 52.3347 333.746 L52.3347 329.047 Q54.418 330.181 56.6402 330.736 Q58.8625 331.292 61.3393 331.292 Q65.3439 331.292 67.6819 329.185 Q70.0198 327.079 70.0198 323.468 Q70.0198 319.857 67.6819 317.75 Q65.3439 315.644 61.3393 315.644 Q59.4643 315.644 57.5893 316.061 Q55.7375 316.477 53.793 317.357 L53.793 299.996 Z\" fill=\"#000000\" fill-rule=\"evenodd\" fill-opacity=\"1\" /><path clip-path=\"url(#clip560)\" d=\"M83.9086 328.676 L88.7928 328.676 L88.7928 334.556 L83.9086 334.556 L83.9086 328.676 Z\" fill=\"#000000\" fill-rule=\"evenodd\" fill-opacity=\"1\" /><path clip-path=\"url(#clip560)\" d=\"M108.978 303.075 Q105.367 303.075 103.538 306.639 Q101.733 310.181 101.733 317.311 Q101.733 324.417 103.538 327.982 Q105.367 331.523 108.978 331.523 Q112.612 331.523 114.418 327.982 Q116.246 324.417 116.246 317.311 Q116.246 310.181 114.418 306.639 Q112.612 303.075 108.978 303.075 M108.978 299.371 Q114.788 299.371 117.844 303.977 Q120.922 308.561 120.922 317.311 Q120.922 326.037 117.844 330.644 Q114.788 335.227 108.978 335.227 Q103.168 335.227 100.089 330.644 Q97.0335 326.037 97.0335 317.311 Q97.0335 308.561 100.089 303.977 Q103.168 299.371 108.978 299.371 Z\" fill=\"#000000\" fill-rule=\"evenodd\" fill-opacity=\"1\" /><path clip-path=\"url(#clip560)\" d=\"M157.311 309.093 L146.732 319.718 L157.311 330.297 L154.556 333.098 L143.931 322.473 L133.306 333.098 L130.575 330.297 L141.131 319.718 L130.575 309.093 L133.306 306.292 L143.931 316.917 L154.556 306.292 L157.311 309.093 Z\" fill=\"#000000\" fill-rule=\"evenodd\" fill-opacity=\"1\" /><path clip-path=\"url(#clip560)\" d=\"M169.672 330.621 L177.311 330.621 L177.311 304.255 L169.001 305.922 L169.001 301.662 L177.265 299.996 L181.94 299.996 L181.94 330.621 L189.579 330.621 L189.579 334.556 L169.672 334.556 L169.672 330.621 Z\" fill=\"#000000\" fill-rule=\"evenodd\" fill-opacity=\"1\" /><path clip-path=\"url(#clip560)\" d=\"M209.024 303.075 Q205.413 303.075 203.584 306.639 Q201.778 310.181 201.778 317.311 Q201.778 324.417 203.584 327.982 Q205.413 331.523 209.024 331.523 Q212.658 331.523 214.463 327.982 Q216.292 324.417 216.292 317.311 Q216.292 310.181 214.463 306.639 Q212.658 303.075 209.024 303.075 M209.024 299.371 Q214.834 299.371 217.889 303.977 Q220.968 308.561 220.968 317.311 Q220.968 326.037 217.889 330.644 Q214.834 335.227 209.024 335.227 Q203.214 335.227 200.135 330.644 Q197.079 326.037 197.079 317.311 Q197.079 308.561 200.135 303.977 Q203.214 299.371 209.024 299.371 Z\" fill=\"#000000\" fill-rule=\"evenodd\" fill-opacity=\"1\" /><path clip-path=\"url(#clip560)\" d=\"M220.968 293.472 L245.08 293.472 L245.08 296.67 L220.968 296.67 L220.968 293.472 Z\" fill=\"#000000\" fill-rule=\"evenodd\" fill-opacity=\"1\" /><path clip-path=\"url(#clip560)\" d=\"M252.321 279.065 L270.376 279.065 L270.376 280.683 L260.182 307.145 L256.214 307.145 L265.806 282.263 L252.321 282.263 L252.321 279.065 Z\" fill=\"#000000\" fill-rule=\"evenodd\" fill-opacity=\"1\" /><path clip-path=\"url(#clip560)\" d=\"M64.3254 88.1575 Q61.1773 88.1575 59.3254 90.3103 Q57.4967 92.4631 57.4967 96.2131 Q57.4967 99.9399 59.3254 102.116 Q61.1773 104.269 64.3254 104.269 Q67.4735 104.269 69.3022 102.116 Q71.1541 99.9399 71.1541 96.2131 Q71.1541 92.4631 69.3022 90.3103 Q67.4735 88.1575 64.3254 88.1575 M73.6077 73.5049 L73.6077 77.7641 Q71.8485 76.9308 70.0429 76.4909 Q68.2606 76.0511 66.5013 76.0511 Q61.8717 76.0511 59.418 79.1761 Q56.9875 82.3011 56.6402 88.6205 Q58.006 86.6066 60.0662 85.5418 Q62.1263 84.4539 64.6032 84.4539 Q69.8115 84.4539 72.8207 87.6251 Q75.8531 90.7733 75.8531 96.2131 Q75.8531 101.537 72.705 104.755 Q69.5568 107.972 64.3254 107.972 Q58.33 107.972 55.1588 103.389 Q51.9875 98.7825 51.9875 90.0557 Q51.9875 81.8613 55.8764 77.0002 Q59.7652 72.116 66.3161 72.116 Q68.0754 72.116 69.8578 72.4632 Q71.6633 72.8104 73.6077 73.5049 Z\" fill=\"#000000\" fill-rule=\"evenodd\" fill-opacity=\"1\" /><path clip-path=\"url(#clip560)\" d=\"M83.9086 101.421 L88.7928 101.421 L88.7928 107.301 L83.9086 107.301 L83.9086 101.421 Z\" fill=\"#000000\" fill-rule=\"evenodd\" fill-opacity=\"1\" /><path clip-path=\"url(#clip560)\" d=\"M108.978 75.8197 Q105.367 75.8197 103.538 79.3844 Q101.733 82.9261 101.733 90.0557 Q101.733 97.1621 103.538 100.727 Q105.367 104.269 108.978 104.269 Q112.612 104.269 114.418 100.727 Q116.246 97.1621 116.246 90.0557 Q116.246 82.9261 114.418 79.3844 Q112.612 75.8197 108.978 75.8197 M108.978 72.116 Q114.788 72.116 117.844 76.7224 Q120.922 81.3057 120.922 90.0557 Q120.922 98.7825 117.844 103.389 Q114.788 107.972 108.978 107.972 Q103.168 107.972 100.089 103.389 Q97.0335 98.7825 97.0335 90.0557 Q97.0335 81.3057 100.089 76.7224 Q103.168 72.116 108.978 72.116 Z\" fill=\"#000000\" fill-rule=\"evenodd\" fill-opacity=\"1\" /><path clip-path=\"url(#clip560)\" d=\"M157.311 81.8381 L146.732 92.4631 L157.311 103.042 L154.556 105.843 L143.931 95.2177 L133.306 105.843 L130.575 103.042 L141.131 92.4631 L130.575 81.8381 L133.306 79.0372 L143.931 89.6622 L154.556 79.0372 L157.311 81.8381 Z\" fill=\"#000000\" fill-rule=\"evenodd\" fill-opacity=\"1\" /><path clip-path=\"url(#clip560)\" d=\"M169.672 103.366 L177.311 103.366 L177.311 77.0002 L169.001 78.6669 L169.001 74.4076 L177.265 72.741 L181.94 72.741 L181.94 103.366 L189.579 103.366 L189.579 107.301 L169.672 107.301 L169.672 103.366 Z\" fill=\"#000000\" fill-rule=\"evenodd\" fill-opacity=\"1\" /><path clip-path=\"url(#clip560)\" d=\"M209.024 75.8197 Q205.413 75.8197 203.584 79.3844 Q201.778 82.9261 201.778 90.0557 Q201.778 97.1621 203.584 100.727 Q205.413 104.269 209.024 104.269 Q212.658 104.269 214.463 100.727 Q216.292 97.1621 216.292 90.0557 Q216.292 82.9261 214.463 79.3844 Q212.658 75.8197 209.024 75.8197 M209.024 72.116 Q214.834 72.116 217.889 76.7224 Q220.968 81.3057 220.968 90.0557 Q220.968 98.7825 217.889 103.389 Q214.834 107.972 209.024 107.972 Q203.214 107.972 200.135 103.389 Q197.079 98.7825 197.079 90.0557 Q197.079 81.3057 200.135 76.7224 Q203.214 72.116 209.024 72.116 Z\" fill=\"#000000\" fill-rule=\"evenodd\" fill-opacity=\"1\" /><path clip-path=\"url(#clip560)\" d=\"M220.968 66.2173 L245.08 66.2173 L245.08 69.4146 L220.968 69.4146 L220.968 66.2173 Z\" fill=\"#000000\" fill-rule=\"evenodd\" fill-opacity=\"1\" /><path clip-path=\"url(#clip560)\" d=\"M252.321 51.8106 L270.376 51.8106 L270.376 53.428 L260.182 79.8906 L256.214 79.8906 L265.806 55.0079 L252.321 55.0079 L252.321 51.8106 Z\" fill=\"#000000\" fill-rule=\"evenodd\" fill-opacity=\"1\" /><polyline clip-path=\"url(#clip562)\" style=\"stroke:#009af9; stroke-linecap:butt; stroke-linejoin:round; stroke-width:4; stroke-opacity:1; fill:none\" points=\"\n",
       "  364.292,1428.05 383.793,1445.72 403.293,1445.61 422.794,1445.51 442.294,1445.39 461.795,1445.27 481.295,1445.13 500.796,1444.99 520.296,1444.83 539.797,1444.67 \n",
       "  559.297,1444.49 578.798,1444.3 598.298,1444.1 617.799,1443.88 637.299,1443.64 656.8,1443.39 676.3,1443.12 695.801,1442.83 715.301,1442.52 734.802,1442.19 \n",
       "  754.302,1441.83 773.802,1441.45 793.303,1441.03 812.803,1440.59 832.304,1440.12 851.804,1439.61 871.305,1439.07 890.805,1438.48 910.306,1437.85 929.806,1437.18 \n",
       "  949.307,1436.46 968.807,1435.68 988.308,1434.85 1007.81,1433.96 1027.31,1433 1046.81,1431.97 1066.31,1430.87 1085.81,1429.69 1105.31,1428.42 1124.81,1427.06 \n",
       "  1144.31,1425.6 1163.81,1424.04 1183.31,1422.36 1202.81,1420.56 1222.31,1418.62 1241.81,1416.55 1261.31,1414.33 1280.81,1411.94 1300.32,1409.38 1319.82,1406.63 \n",
       "  1339.32,1403.69 1358.82,1400.53 1378.32,1397.13 1397.82,1393.5 1417.32,1389.59 1436.82,1385.41 1456.32,1380.91 1475.82,1376.09 1495.32,1370.92 1514.82,1365.38 \n",
       "  1534.32,1359.43 1553.82,1353.04 1573.32,1346.2 1592.82,1338.85 1612.32,1330.97 1631.82,1322.51 1651.32,1313.44 1670.82,1303.71 1690.32,1293.27 1709.83,1282.07 \n",
       "  1729.33,1270.05 1748.83,1257.16 1768.33,1243.33 1787.83,1228.49 1807.33,1212.57 1826.83,1195.5 1846.33,1177.18 1865.83,1157.53 1885.33,1136.44 1904.83,1113.82 \n",
       "  1924.33,1089.56 1943.83,1063.53 1963.33,1035.6 1982.83,1005.64 2002.33,973.493 2021.83,939.01 2041.33,902.016 2060.83,862.328 2080.33,819.751 2099.83,774.074 \n",
       "  2119.34,725.071 2138.84,672.5 2158.34,616.102 2177.84,555.597 2197.34,490.687 2216.84,421.051 2236.34,346.344 2255.84,266.199 2275.34,180.218 2294.84,87.9763 \n",
       "  \n",
       "  \"/>\n",
       "<path clip-path=\"url(#clip560)\" d=\"\n",
       "M2004.74 198.898 L2284.54 198.898 L2284.54 95.2176 L2004.74 95.2176  Z\n",
       "  \" fill=\"#ffffff\" fill-rule=\"evenodd\" fill-opacity=\"1\"/>\n",
       "<polyline clip-path=\"url(#clip560)\" style=\"stroke:#000000; stroke-linecap:butt; stroke-linejoin:round; stroke-width:4; stroke-opacity:1; fill:none\" points=\"\n",
       "  2004.74,198.898 2284.54,198.898 2284.54,95.2176 2004.74,95.2176 2004.74,198.898 \n",
       "  \"/>\n",
       "<polyline clip-path=\"url(#clip560)\" style=\"stroke:#009af9; stroke-linecap:butt; stroke-linejoin:round; stroke-width:4; stroke-opacity:1; fill:none\" points=\"\n",
       "  2027.47,147.058 2163.9,147.058 \n",
       "  \"/>\n",
       "<path clip-path=\"url(#clip560)\" d=\"M2200.48 166.745 Q2198.67 171.375 2196.96 172.787 Q2195.25 174.199 2192.38 174.199 L2188.98 174.199 L2188.98 170.634 L2191.48 170.634 Q2193.24 170.634 2194.21 169.8 Q2195.18 168.967 2196.36 165.865 L2197.12 163.921 L2186.64 138.412 L2191.15 138.412 L2199.25 158.689 L2207.36 138.412 L2211.87 138.412 L2200.48 166.745 Z\" fill=\"#000000\" fill-rule=\"evenodd\" fill-opacity=\"1\" /><path clip-path=\"url(#clip560)\" d=\"M2219.16 160.402 L2226.8 160.402 L2226.8 134.037 L2218.49 135.703 L2218.49 131.444 L2226.75 129.778 L2231.43 129.778 L2231.43 160.402 L2239.07 160.402 L2239.07 164.338 L2219.16 164.338 L2219.16 160.402 Z\" fill=\"#000000\" fill-rule=\"evenodd\" fill-opacity=\"1\" /></svg>\n"
      ]
     },
     "execution_count": 377,
     "metadata": {},
     "output_type": "execute_result"
    }
   ],
   "source": [
    "plot(l)"
   ]
  },
  {
   "cell_type": "code",
   "execution_count": 530,
   "id": "dc21d417",
   "metadata": {},
   "outputs": [
    {
     "data": {
      "text/plain": [
       "([0.26371813436629976, 0.4107304347207375, 0.4107304347207375, 0.26371813436629976, 0.26371813436629976], Zygote.var\"#50#51\"{typeof(∂(#552))}(∂(#552)))"
      ]
     },
     "execution_count": 530,
     "metadata": {},
     "output_type": "execute_result"
    }
   ],
   "source": [
    "using Zygote\n",
    "\n",
    "ρ, pback = Zygote.pullback(r⃗ -> get_electronic_density(r⃗, f), r⃗)"
   ]
  },
  {
   "cell_type": "code",
   "execution_count": 531,
   "id": "a02587f1",
   "metadata": {},
   "outputs": [
    {
     "data": {
      "text/plain": [
       "5-element Vector{Float64}:\n",
       " 0.26371813436629976\n",
       " 0.4107304347207375\n",
       " 0.4107304347207375\n",
       " 0.26371813436629976\n",
       " 0.26371813436629976"
      ]
     },
     "execution_count": 531,
     "metadata": {},
     "output_type": "execute_result"
    }
   ],
   "source": [
    "ρ"
   ]
  },
  {
   "cell_type": "code",
   "execution_count": 532,
   "id": "bfbef399",
   "metadata": {},
   "outputs": [
    {
     "ename": "LoadError",
     "evalue": "ArgumentError: broadcasting over dictionaries and `NamedTuple`s is reserved",
     "output_type": "error",
     "traceback": [
      "ArgumentError: broadcasting over dictionaries and `NamedTuple`s is reserved",
      "",
      "Stacktrace:",
      "  [1] broadcastable(#unused#::NamedTuple{(:n_mol_orbitals, :n_primitives, :n_nuclei, :nuclei_type, :nuclei_pos, :nuclei_charge, :center_assignments, :type_assignments, :exponents, :mo, :occ_no, :orb_energy), Tuple{Nothing, Nothing, Nothing, Nothing, Nothing, Nothing, Nothing, Nothing, Nothing, Nothing, Vector{Float64}, Nothing}})",
      "    @ Base.Broadcast ./broadcast.jl:683",
      "  [2] broadcasted",
      "    @ ./broadcast.jl:1312 [inlined]",
      "  [3] (::Zygote.var\"#1026#1027\"{Matrix{Float64}, Matrix{Float64}})(Δ::NamedTuple{(:n_mol_orbitals, :n_primitives, :n_nuclei, :nuclei_type, :nuclei_pos, :nuclei_charge, :center_assignments, :type_assignments, :exponents, :mo, :occ_no, :orb_energy), Tuple{Nothing, Nothing, Nothing, Nothing, Nothing, Nothing, Nothing, Nothing, Nothing, Nothing, Vector{Float64}, Nothing}})",
      "    @ Zygote ~/.julia/packages/Zygote/EPhp6/src/lib/broadcast.jl:78",
      "  [4] (::Zygote.var\"#3767#back#1028\"{Zygote.var\"#1026#1027\"{Matrix{Float64}, Matrix{Float64}}})(Δ::NamedTuple{(:n_mol_orbitals, :n_primitives, :n_nuclei, :nuclei_type, :nuclei_pos, :nuclei_charge, :center_assignments, :type_assignments, :exponents, :mo, :occ_no, :orb_energy), Tuple{Nothing, Nothing, Nothing, Nothing, Nothing, Nothing, Nothing, Nothing, Nothing, Nothing, Vector{Float64}, Nothing}})",
      "    @ Zygote ~/.julia/packages/ZygoteRules/OjfTt/src/adjoint.jl:59",
      "  [5] Pullback",
      "    @ ./In[513]:32 [inlined]",
      "  [6] (::typeof(∂(get_electronic_density)))(Δ::Vector{Float64})",
      "    @ Zygote ~/.julia/packages/Zygote/EPhp6/src/compiler/interface2.jl:0",
      "  [7] Pullback",
      "    @ ./In[530]:3 [inlined]",
      "  [8] (::typeof(∂(#552)))(Δ::Vector{Float64})",
      "    @ Zygote ~/.julia/packages/Zygote/EPhp6/src/compiler/interface2.jl:0",
      "  [9] (::Zygote.var\"#50#51\"{typeof(∂(#552))})(Δ::Vector{Float64})",
      "    @ Zygote ~/.julia/packages/Zygote/EPhp6/src/compiler/interface.jl:41",
      " [10] top-level scope",
      "    @ In[532]:1",
      " [11] eval",
      "    @ ./boot.jl:360 [inlined]",
      " [12] include_string(mapexpr::typeof(REPL.softscope), mod::Module, code::String, filename::String)",
      "    @ Base ./loading.jl:1116"
     ]
    }
   ],
   "source": [
    "pback(ρ)[1]"
   ]
  },
  {
   "cell_type": "code",
   "execution_count": 512,
   "id": "5099dd3f",
   "metadata": {},
   "outputs": [
    {
     "ename": "LoadError",
     "evalue": "Can't differentiate foreigncall expression",
     "output_type": "error",
     "traceback": [
      "Can't differentiate foreigncall expression",
      "",
      "Stacktrace:",
      "  [1] error(s::String)",
      "    @ Base ./error.jl:33",
      "  [2] Pullback",
      "    @ ./iddict.jl:87 [inlined]",
      "  [3] (::typeof(∂(get)))(Δ::Nothing)",
      "    @ Zygote ~/.julia/packages/Zygote/EPhp6/src/compiler/interface2.jl:0",
      "  [4] Pullback",
      "    @ ~/.julia/packages/Zygote/EPhp6/src/lib/lib.jl:68 [inlined]",
      "  [5] (::typeof(∂(accum_global)))(Δ::Nothing)",
      "    @ Zygote ~/.julia/packages/Zygote/EPhp6/src/compiler/interface2.jl:0",
      "  [6] Pullback",
      "    @ ~/.julia/packages/Zygote/EPhp6/src/lib/lib.jl:79 [inlined]",
      "  [7] (::typeof(∂(λ)))(Δ::Nothing)",
      "    @ Zygote ~/.julia/packages/Zygote/EPhp6/src/compiler/interface2.jl:0",
      "  [8] Pullback",
      "    @ ~/.julia/packages/ZygoteRules/OjfTt/src/adjoint.jl:59 [inlined]",
      "  [9] (::typeof(∂(λ)))(Δ::Nothing)",
      "    @ Zygote ~/.julia/packages/Zygote/EPhp6/src/compiler/interface2.jl:0",
      " [10] gradtuple1",
      "    @ ~/.julia/packages/ZygoteRules/OjfTt/src/adjoint.jl:22 [inlined]",
      " [11] #1633#back",
      "    @ ~/.julia/packages/ZygoteRules/OjfTt/src/adjoint.jl:59 [inlined]",
      " [12] (::typeof(∂(λ)))(Δ::Tuple{Nothing, Matrix{Float32}})",
      "    @ Zygote ~/.julia/packages/Zygote/EPhp6/src/compiler/interface2.jl:0",
      " [13] Pullback",
      "    @ ~/.julia/packages/Zygote/EPhp6/src/compiler/interface.jl:41 [inlined]",
      " [14] (::typeof(∂(λ)))(Δ::Tuple{Matrix{Float32}})",
      "    @ Zygote ~/.julia/packages/Zygote/EPhp6/src/compiler/interface2.jl:0",
      " [15] Pullback",
      "    @ ./In[512]:1 [inlined]",
      " [16] (::typeof(∂(#528)))(Δ::Matrix{Float32})",
      "    @ Zygote ~/.julia/packages/Zygote/EPhp6/src/compiler/interface2.jl:0",
      " [17] #215",
      "    @ ~/.julia/packages/Zygote/EPhp6/src/lib/lib.jl:203 [inlined]",
      " [18] #1753#back",
      "    @ ~/.julia/packages/ZygoteRules/OjfTt/src/adjoint.jl:59 [inlined]",
      " [19] Pullback",
      "    @ ./operators.jl:938 [inlined]",
      " [20] (::Zygote.var\"#50#51\"{typeof(∂(ComposedFunction{typeof(Zygote._jvec), var\"#528#529\"}(Zygote._jvec, var\"#528#529\"())))})(Δ::Vector{Float32})",
      "    @ Zygote ~/.julia/packages/Zygote/EPhp6/src/compiler/interface.jl:41",
      " [21] withjacobian(f::Function, args::Vector{Float64})",
      "    @ Zygote ~/.julia/packages/Zygote/EPhp6/src/lib/grad.jl:162",
      " [22] jacobian(f::Function, args::Vector{Float64})",
      "    @ Zygote ~/.julia/packages/Zygote/EPhp6/src/lib/grad.jl:140",
      " [23] top-level scope",
      "    @ In[512]:1",
      " [24] eval",
      "    @ ./boot.jl:360 [inlined]",
      " [25] include_string(mapexpr::typeof(REPL.softscope), mod::Module, code::String, filename::String)",
      "    @ Base ./loading.jl:1116"
     ]
    }
   ],
   "source": [
    "Zygote.jacobian(x -> back(x)[1], ρ)"
   ]
  },
  {
   "cell_type": "code",
   "execution_count": 116,
   "id": "b3b8ae24",
   "metadata": {},
   "outputs": [
    {
     "data": {
      "text/plain": [
       "3-element Vector{Float32}:\n",
       " 0.0\n",
       " 0.0\n",
       " 0.0"
      ]
     },
     "execution_count": 116,
     "metadata": {},
     "output_type": "execute_result"
    }
   ],
   "source": [
    "reshapr⃗[1,:]"
   ]
  },
  {
   "cell_type": "code",
   "execution_count": 115,
   "id": "7976eac4",
   "metadata": {},
   "outputs": [
    {
     "ename": "LoadError",
     "evalue": "\"expected a 2-array r⃗\"",
     "output_type": "error",
     "traceback": [
      "\"expected a 2-array r⃗\"",
      "",
      "Stacktrace:",
      "  [1] macro expansion",
      "    @ ~/.julia/packages/Zygote/EPhp6/src/compiler/interface2.jl:0 [inlined]",
      "  [2] _pullback(ctx::Zygote.Context, f::typeof(throw), args::String)",
      "    @ Zygote ~/.julia/packages/Zygote/EPhp6/src/compiler/interface2.jl:9",
      "  [3] macro expansion",
      "    @ ~/.julia/packages/Tullio/qPZkO/src/macro.jl:983 [inlined]",
      "  [4] _pullback",
      "    @ ./In[21]:27 [inlined]",
      "  [5] _pullback(::Zygote.Context, ::typeof(get_electronic_density), ::Vector{Float32}, ::WFN)",
      "    @ Zygote ~/.julia/packages/Zygote/EPhp6/src/compiler/interface2.jl:0",
      "  [6] _pullback",
      "    @ ./In[115]:1 [inlined]",
      "  [7] _pullback(ctx::Zygote.Context, f::var\"#217#218\", args::Vector{Float32})",
      "    @ Zygote ~/.julia/packages/Zygote/EPhp6/src/compiler/interface2.jl:0",
      "  [8] _pullback(f::Function, args::Vector{Float32})",
      "    @ Zygote ~/.julia/packages/Zygote/EPhp6/src/compiler/interface.jl:34",
      "  [9] pullback(f::Function, args::Vector{Float32})",
      "    @ Zygote ~/.julia/packages/Zygote/EPhp6/src/compiler/interface.jl:40",
      " [10] gradient(f::Function, args::Vector{Float32})",
      "    @ Zygote ~/.julia/packages/Zygote/EPhp6/src/compiler/interface.jl:75",
      " [11] evalu(x::Vector{Float32})",
      "    @ Main ./In[115]:1",
      " [12] top-level scope",
      "    @ In[115]:2",
      " [13] eval",
      "    @ ./boot.jl:360 [inlined]",
      " [14] include_string(mapexpr::typeof(REPL.softscope), mod::Module, code::String, filename::String)",
      "    @ Base ./loading.jl:1116"
     ]
    }
   ],
   "source": [
    "evalu(x) = sum(Zygote.gradient(r⃗ -> get_electronic_density(r⃗, f),x)[1])\n",
    "grad = evalu(r⃗[1,:])"
   ]
  },
  {
   "cell_type": "code",
   "execution_count": 111,
   "id": "afaef057",
   "metadata": {},
   "outputs": [],
   "source": [
    "using Plots"
   ]
  },
  {
   "cell_type": "code",
   "execution_count": 112,
   "id": "3f69fdf5",
   "metadata": {},
   "outputs": [
    {
     "data": {
      "image/svg+xml": [
       "<?xml version=\"1.0\" encoding=\"utf-8\"?>\n",
       "<svg xmlns=\"http://www.w3.org/2000/svg\" xmlns:xlink=\"http://www.w3.org/1999/xlink\" width=\"600\" height=\"400\" viewBox=\"0 0 2400 1600\">\n",
       "<defs>\n",
       "  <clipPath id=\"clip400\">\n",
       "    <rect x=\"0\" y=\"0\" width=\"2400\" height=\"1600\"/>\n",
       "  </clipPath>\n",
       "</defs>\n",
       "<path clip-path=\"url(#clip400)\" d=\"\n",
       "M0 1600 L2400 1600 L2400 0 L0 0  Z\n",
       "  \" fill=\"#ffffff\" fill-rule=\"evenodd\" fill-opacity=\"1\"/>\n",
       "<defs>\n",
       "  <clipPath id=\"clip401\">\n",
       "    <rect x=\"480\" y=\"0\" width=\"1681\" height=\"1600\"/>\n",
       "  </clipPath>\n",
       "</defs>\n",
       "<path clip-path=\"url(#clip400)\" d=\"\n",
       "M186.274 1486.45 L2352.76 1486.45 L2352.76 47.2441 L186.274 47.2441  Z\n",
       "  \" fill=\"#ffffff\" fill-rule=\"evenodd\" fill-opacity=\"1\"/>\n",
       "<defs>\n",
       "  <clipPath id=\"clip402\">\n",
       "    <rect x=\"186\" y=\"47\" width=\"2167\" height=\"1440\"/>\n",
       "  </clipPath>\n",
       "</defs>\n",
       "<polyline clip-path=\"url(#clip402)\" style=\"stroke:#000000; stroke-linecap:butt; stroke-linejoin:round; stroke-width:2; stroke-opacity:0.1; fill:none\" points=\"\n",
       "  247.59,1486.45 247.59,47.2441 \n",
       "  \"/>\n",
       "<polyline clip-path=\"url(#clip402)\" style=\"stroke:#000000; stroke-linecap:butt; stroke-linejoin:round; stroke-width:2; stroke-opacity:0.1; fill:none\" points=\"\n",
       "  758.552,1486.45 758.552,47.2441 \n",
       "  \"/>\n",
       "<polyline clip-path=\"url(#clip402)\" style=\"stroke:#000000; stroke-linecap:butt; stroke-linejoin:round; stroke-width:2; stroke-opacity:0.1; fill:none\" points=\"\n",
       "  1269.51,1486.45 1269.51,47.2441 \n",
       "  \"/>\n",
       "<polyline clip-path=\"url(#clip402)\" style=\"stroke:#000000; stroke-linecap:butt; stroke-linejoin:round; stroke-width:2; stroke-opacity:0.1; fill:none\" points=\"\n",
       "  1780.48,1486.45 1780.48,47.2441 \n",
       "  \"/>\n",
       "<polyline clip-path=\"url(#clip402)\" style=\"stroke:#000000; stroke-linecap:butt; stroke-linejoin:round; stroke-width:2; stroke-opacity:0.1; fill:none\" points=\"\n",
       "  2291.44,1486.45 2291.44,47.2441 \n",
       "  \"/>\n",
       "<polyline clip-path=\"url(#clip400)\" style=\"stroke:#000000; stroke-linecap:butt; stroke-linejoin:round; stroke-width:4; stroke-opacity:1; fill:none\" points=\"\n",
       "  186.274,1486.45 2352.76,1486.45 \n",
       "  \"/>\n",
       "<polyline clip-path=\"url(#clip400)\" style=\"stroke:#000000; stroke-linecap:butt; stroke-linejoin:round; stroke-width:4; stroke-opacity:1; fill:none\" points=\"\n",
       "  247.59,1486.45 247.59,1467.55 \n",
       "  \"/>\n",
       "<polyline clip-path=\"url(#clip400)\" style=\"stroke:#000000; stroke-linecap:butt; stroke-linejoin:round; stroke-width:4; stroke-opacity:1; fill:none\" points=\"\n",
       "  758.552,1486.45 758.552,1467.55 \n",
       "  \"/>\n",
       "<polyline clip-path=\"url(#clip400)\" style=\"stroke:#000000; stroke-linecap:butt; stroke-linejoin:round; stroke-width:4; stroke-opacity:1; fill:none\" points=\"\n",
       "  1269.51,1486.45 1269.51,1467.55 \n",
       "  \"/>\n",
       "<polyline clip-path=\"url(#clip400)\" style=\"stroke:#000000; stroke-linecap:butt; stroke-linejoin:round; stroke-width:4; stroke-opacity:1; fill:none\" points=\"\n",
       "  1780.48,1486.45 1780.48,1467.55 \n",
       "  \"/>\n",
       "<polyline clip-path=\"url(#clip400)\" style=\"stroke:#000000; stroke-linecap:butt; stroke-linejoin:round; stroke-width:4; stroke-opacity:1; fill:none\" points=\"\n",
       "  2291.44,1486.45 2291.44,1467.55 \n",
       "  \"/>\n",
       "<path clip-path=\"url(#clip400)\" d=\"M194.118 1530.29 L223.793 1530.29 L223.793 1534.23 L194.118 1534.23 L194.118 1530.29 Z\" fill=\"#000000\" fill-rule=\"evenodd\" fill-opacity=\"1\" /><path clip-path=\"url(#clip400)\" d=\"M234.696 1543.18 L242.335 1543.18 L242.335 1516.82 L234.025 1518.49 L234.025 1514.23 L242.289 1512.56 L246.965 1512.56 L246.965 1543.18 L254.603 1543.18 L254.603 1547.12 L234.696 1547.12 L234.696 1543.18 Z\" fill=\"#000000\" fill-rule=\"evenodd\" fill-opacity=\"1\" /><path clip-path=\"url(#clip400)\" d=\"M264.048 1541.24 L268.932 1541.24 L268.932 1547.12 L264.048 1547.12 L264.048 1541.24 Z\" fill=\"#000000\" fill-rule=\"evenodd\" fill-opacity=\"1\" /><path clip-path=\"url(#clip400)\" d=\"M289.117 1515.64 Q285.506 1515.64 283.677 1519.2 Q281.872 1522.75 281.872 1529.87 Q281.872 1536.98 283.677 1540.55 Q285.506 1544.09 289.117 1544.09 Q292.751 1544.09 294.557 1540.55 Q296.386 1536.98 296.386 1529.87 Q296.386 1522.75 294.557 1519.2 Q292.751 1515.64 289.117 1515.64 M289.117 1511.93 Q294.927 1511.93 297.983 1516.54 Q301.061 1521.12 301.061 1529.87 Q301.061 1538.6 297.983 1543.21 Q294.927 1547.79 289.117 1547.79 Q283.307 1547.79 280.228 1543.21 Q277.173 1538.6 277.173 1529.87 Q277.173 1521.12 280.228 1516.54 Q283.307 1511.93 289.117 1511.93 Z\" fill=\"#000000\" fill-rule=\"evenodd\" fill-opacity=\"1\" /><path clip-path=\"url(#clip400)\" d=\"M705.578 1530.29 L735.254 1530.29 L735.254 1534.23 L705.578 1534.23 L705.578 1530.29 Z\" fill=\"#000000\" fill-rule=\"evenodd\" fill-opacity=\"1\" /><path clip-path=\"url(#clip400)\" d=\"M755.346 1515.64 Q751.735 1515.64 749.906 1519.2 Q748.101 1522.75 748.101 1529.87 Q748.101 1536.98 749.906 1540.55 Q751.735 1544.09 755.346 1544.09 Q758.98 1544.09 760.786 1540.55 Q762.615 1536.98 762.615 1529.87 Q762.615 1522.75 760.786 1519.2 Q758.98 1515.64 755.346 1515.64 M755.346 1511.93 Q761.156 1511.93 764.212 1516.54 Q767.291 1521.12 767.291 1529.87 Q767.291 1538.6 764.212 1543.21 Q761.156 1547.79 755.346 1547.79 Q749.536 1547.79 746.457 1543.21 Q743.402 1538.6 743.402 1529.87 Q743.402 1521.12 746.457 1516.54 Q749.536 1511.93 755.346 1511.93 Z\" fill=\"#000000\" fill-rule=\"evenodd\" fill-opacity=\"1\" /><path clip-path=\"url(#clip400)\" d=\"M775.508 1541.24 L780.392 1541.24 L780.392 1547.12 L775.508 1547.12 L775.508 1541.24 Z\" fill=\"#000000\" fill-rule=\"evenodd\" fill-opacity=\"1\" /><path clip-path=\"url(#clip400)\" d=\"M790.624 1512.56 L808.98 1512.56 L808.98 1516.5 L794.906 1516.5 L794.906 1524.97 Q795.925 1524.62 796.943 1524.46 Q797.962 1524.27 798.98 1524.27 Q804.767 1524.27 808.147 1527.44 Q811.526 1530.62 811.526 1536.03 Q811.526 1541.61 808.054 1544.71 Q804.582 1547.79 798.263 1547.79 Q796.087 1547.79 793.818 1547.42 Q791.573 1547.05 789.166 1546.31 L789.166 1541.61 Q791.249 1542.74 793.471 1543.3 Q795.693 1543.86 798.17 1543.86 Q802.175 1543.86 804.513 1541.75 Q806.851 1539.64 806.851 1536.03 Q806.851 1532.42 804.513 1530.31 Q802.175 1528.21 798.17 1528.21 Q796.295 1528.21 794.42 1528.62 Q792.568 1529.04 790.624 1529.92 L790.624 1512.56 Z\" fill=\"#000000\" fill-rule=\"evenodd\" fill-opacity=\"1\" /><path clip-path=\"url(#clip400)\" d=\"M1246.9 1515.64 Q1243.29 1515.64 1241.46 1519.2 Q1239.65 1522.75 1239.65 1529.87 Q1239.65 1536.98 1241.46 1540.55 Q1243.29 1544.09 1246.9 1544.09 Q1250.53 1544.09 1252.34 1540.55 Q1254.17 1536.98 1254.17 1529.87 Q1254.17 1522.75 1252.34 1519.2 Q1250.53 1515.64 1246.9 1515.64 M1246.9 1511.93 Q1252.71 1511.93 1255.77 1516.54 Q1258.84 1521.12 1258.84 1529.87 Q1258.84 1538.6 1255.77 1543.21 Q1252.71 1547.79 1246.9 1547.79 Q1241.09 1547.79 1238.01 1543.21 Q1234.95 1538.6 1234.95 1529.87 Q1234.95 1521.12 1238.01 1516.54 Q1241.09 1511.93 1246.9 1511.93 Z\" fill=\"#000000\" fill-rule=\"evenodd\" fill-opacity=\"1\" /><path clip-path=\"url(#clip400)\" d=\"M1267.06 1541.24 L1271.95 1541.24 L1271.95 1547.12 L1267.06 1547.12 L1267.06 1541.24 Z\" fill=\"#000000\" fill-rule=\"evenodd\" fill-opacity=\"1\" /><path clip-path=\"url(#clip400)\" d=\"M1292.13 1515.64 Q1288.52 1515.64 1286.69 1519.2 Q1284.89 1522.75 1284.89 1529.87 Q1284.89 1536.98 1286.69 1540.55 Q1288.52 1544.09 1292.13 1544.09 Q1295.76 1544.09 1297.57 1540.55 Q1299.4 1536.98 1299.4 1529.87 Q1299.4 1522.75 1297.57 1519.2 Q1295.76 1515.64 1292.13 1515.64 M1292.13 1511.93 Q1297.94 1511.93 1301 1516.54 Q1304.07 1521.12 1304.07 1529.87 Q1304.07 1538.6 1301 1543.21 Q1297.94 1547.79 1292.13 1547.79 Q1286.32 1547.79 1283.24 1543.21 Q1280.19 1538.6 1280.19 1529.87 Q1280.19 1521.12 1283.24 1516.54 Q1286.32 1511.93 1292.13 1511.93 Z\" fill=\"#000000\" fill-rule=\"evenodd\" fill-opacity=\"1\" /><path clip-path=\"url(#clip400)\" d=\"M1758.36 1515.64 Q1754.75 1515.64 1752.92 1519.2 Q1751.11 1522.75 1751.11 1529.87 Q1751.11 1536.98 1752.92 1540.55 Q1754.75 1544.09 1758.36 1544.09 Q1761.99 1544.09 1763.8 1540.55 Q1765.63 1536.98 1765.63 1529.87 Q1765.63 1522.75 1763.8 1519.2 Q1761.99 1515.64 1758.36 1515.64 M1758.36 1511.93 Q1764.17 1511.93 1767.23 1516.54 Q1770.3 1521.12 1770.3 1529.87 Q1770.3 1538.6 1767.23 1543.21 Q1764.17 1547.79 1758.36 1547.79 Q1752.55 1547.79 1749.47 1543.21 Q1746.42 1538.6 1746.42 1529.87 Q1746.42 1521.12 1749.47 1516.54 Q1752.55 1511.93 1758.36 1511.93 Z\" fill=\"#000000\" fill-rule=\"evenodd\" fill-opacity=\"1\" /><path clip-path=\"url(#clip400)\" d=\"M1778.52 1541.24 L1783.41 1541.24 L1783.41 1547.12 L1778.52 1547.12 L1778.52 1541.24 Z\" fill=\"#000000\" fill-rule=\"evenodd\" fill-opacity=\"1\" /><path clip-path=\"url(#clip400)\" d=\"M1793.64 1512.56 L1811.99 1512.56 L1811.99 1516.5 L1797.92 1516.5 L1797.92 1524.97 Q1798.94 1524.62 1799.96 1524.46 Q1800.98 1524.27 1801.99 1524.27 Q1807.78 1524.27 1811.16 1527.44 Q1814.54 1530.62 1814.54 1536.03 Q1814.54 1541.61 1811.07 1544.71 Q1807.6 1547.79 1801.28 1547.79 Q1799.1 1547.79 1796.83 1547.42 Q1794.59 1547.05 1792.18 1546.31 L1792.18 1541.61 Q1794.26 1542.74 1796.48 1543.3 Q1798.71 1543.86 1801.18 1543.86 Q1805.19 1543.86 1807.53 1541.75 Q1809.86 1539.64 1809.86 1536.03 Q1809.86 1532.42 1807.53 1530.31 Q1805.19 1528.21 1801.18 1528.21 Q1799.31 1528.21 1797.43 1528.62 Q1795.58 1529.04 1793.64 1529.92 L1793.64 1512.56 Z\" fill=\"#000000\" fill-rule=\"evenodd\" fill-opacity=\"1\" /><path clip-path=\"url(#clip400)\" d=\"M2258.59 1543.18 L2266.23 1543.18 L2266.23 1516.82 L2257.92 1518.49 L2257.92 1514.23 L2266.19 1512.56 L2270.86 1512.56 L2270.86 1543.18 L2278.5 1543.18 L2278.5 1547.12 L2258.59 1547.12 L2258.59 1543.18 Z\" fill=\"#000000\" fill-rule=\"evenodd\" fill-opacity=\"1\" /><path clip-path=\"url(#clip400)\" d=\"M2287.95 1541.24 L2292.83 1541.24 L2292.83 1547.12 L2287.95 1547.12 L2287.95 1541.24 Z\" fill=\"#000000\" fill-rule=\"evenodd\" fill-opacity=\"1\" /><path clip-path=\"url(#clip400)\" d=\"M2313.01 1515.64 Q2309.4 1515.64 2307.57 1519.2 Q2305.77 1522.75 2305.77 1529.87 Q2305.77 1536.98 2307.57 1540.55 Q2309.4 1544.09 2313.01 1544.09 Q2316.65 1544.09 2318.45 1540.55 Q2320.28 1536.98 2320.28 1529.87 Q2320.28 1522.75 2318.45 1519.2 Q2316.65 1515.64 2313.01 1515.64 M2313.01 1511.93 Q2318.82 1511.93 2321.88 1516.54 Q2324.96 1521.12 2324.96 1529.87 Q2324.96 1538.6 2321.88 1543.21 Q2318.82 1547.79 2313.01 1547.79 Q2307.2 1547.79 2304.13 1543.21 Q2301.07 1538.6 2301.07 1529.87 Q2301.07 1521.12 2304.13 1516.54 Q2307.2 1511.93 2313.01 1511.93 Z\" fill=\"#000000\" fill-rule=\"evenodd\" fill-opacity=\"1\" /><polyline clip-path=\"url(#clip402)\" style=\"stroke:#000000; stroke-linecap:butt; stroke-linejoin:round; stroke-width:2; stroke-opacity:0.1; fill:none\" points=\"\n",
       "  186.274,1187.7 2352.76,1187.7 \n",
       "  \"/>\n",
       "<polyline clip-path=\"url(#clip402)\" style=\"stroke:#000000; stroke-linecap:butt; stroke-linejoin:round; stroke-width:2; stroke-opacity:0.1; fill:none\" points=\"\n",
       "  186.274,845.566 2352.76,845.566 \n",
       "  \"/>\n",
       "<polyline clip-path=\"url(#clip402)\" style=\"stroke:#000000; stroke-linecap:butt; stroke-linejoin:round; stroke-width:2; stroke-opacity:0.1; fill:none\" points=\"\n",
       "  186.274,503.433 2352.76,503.433 \n",
       "  \"/>\n",
       "<polyline clip-path=\"url(#clip402)\" style=\"stroke:#000000; stroke-linecap:butt; stroke-linejoin:round; stroke-width:2; stroke-opacity:0.1; fill:none\" points=\"\n",
       "  186.274,161.299 2352.76,161.299 \n",
       "  \"/>\n",
       "<polyline clip-path=\"url(#clip400)\" style=\"stroke:#000000; stroke-linecap:butt; stroke-linejoin:round; stroke-width:4; stroke-opacity:1; fill:none\" points=\"\n",
       "  186.274,1486.45 186.274,47.2441 \n",
       "  \"/>\n",
       "<polyline clip-path=\"url(#clip400)\" style=\"stroke:#000000; stroke-linecap:butt; stroke-linejoin:round; stroke-width:4; stroke-opacity:1; fill:none\" points=\"\n",
       "  186.274,1187.7 205.172,1187.7 \n",
       "  \"/>\n",
       "<polyline clip-path=\"url(#clip400)\" style=\"stroke:#000000; stroke-linecap:butt; stroke-linejoin:round; stroke-width:4; stroke-opacity:1; fill:none\" points=\"\n",
       "  186.274,845.566 205.172,845.566 \n",
       "  \"/>\n",
       "<polyline clip-path=\"url(#clip400)\" style=\"stroke:#000000; stroke-linecap:butt; stroke-linejoin:round; stroke-width:4; stroke-opacity:1; fill:none\" points=\"\n",
       "  186.274,503.433 205.172,503.433 \n",
       "  \"/>\n",
       "<polyline clip-path=\"url(#clip400)\" style=\"stroke:#000000; stroke-linecap:butt; stroke-linejoin:round; stroke-width:4; stroke-opacity:1; fill:none\" points=\"\n",
       "  186.274,161.299 205.172,161.299 \n",
       "  \"/>\n",
       "<path clip-path=\"url(#clip400)\" d=\"M63.9319 1173.5 Q60.3208 1173.5 58.4921 1177.06 Q56.6865 1180.6 56.6865 1187.73 Q56.6865 1194.84 58.4921 1198.41 Q60.3208 1201.95 63.9319 1201.95 Q67.5661 1201.95 69.3717 1198.41 Q71.2004 1194.84 71.2004 1187.73 Q71.2004 1180.6 69.3717 1177.06 Q67.5661 1173.5 63.9319 1173.5 M63.9319 1169.79 Q69.742 1169.79 72.7976 1174.4 Q75.8763 1178.98 75.8763 1187.73 Q75.8763 1196.46 72.7976 1201.07 Q69.742 1205.65 63.9319 1205.65 Q58.1217 1205.65 55.043 1201.07 Q51.9875 1196.46 51.9875 1187.73 Q51.9875 1178.98 55.043 1174.4 Q58.1217 1169.79 63.9319 1169.79 Z\" fill=\"#000000\" fill-rule=\"evenodd\" fill-opacity=\"1\" /><path clip-path=\"url(#clip400)\" d=\"M84.0938 1199.1 L88.978 1199.1 L88.978 1204.98 L84.0938 1204.98 L84.0938 1199.1 Z\" fill=\"#000000\" fill-rule=\"evenodd\" fill-opacity=\"1\" /><path clip-path=\"url(#clip400)\" d=\"M103.191 1201.04 L119.51 1201.04 L119.51 1204.98 L97.566 1204.98 L97.566 1201.04 Q100.228 1198.29 104.811 1193.66 Q109.418 1189.01 110.598 1187.66 Q112.844 1185.14 113.723 1183.41 Q114.626 1181.65 114.626 1179.96 Q114.626 1177.2 112.682 1175.47 Q110.76 1173.73 107.658 1173.73 Q105.459 1173.73 103.006 1174.49 Q100.575 1175.26 97.7974 1176.81 L97.7974 1172.09 Q100.621 1170.95 103.075 1170.37 Q105.529 1169.79 107.566 1169.79 Q112.936 1169.79 116.131 1172.48 Q119.325 1175.16 119.325 1179.66 Q119.325 1181.79 118.515 1183.71 Q117.728 1185.6 115.621 1188.2 Q115.043 1188.87 111.941 1192.09 Q108.839 1195.28 103.191 1201.04 Z\" fill=\"#000000\" fill-rule=\"evenodd\" fill-opacity=\"1\" /><path clip-path=\"url(#clip400)\" d=\"M129.371 1170.42 L147.728 1170.42 L147.728 1174.35 L133.654 1174.35 L133.654 1182.83 Q134.672 1182.48 135.691 1182.32 Q136.709 1182.13 137.728 1182.13 Q143.515 1182.13 146.894 1185.3 Q150.274 1188.48 150.274 1193.89 Q150.274 1199.47 146.802 1202.57 Q143.33 1205.65 137.01 1205.65 Q134.834 1205.65 132.566 1205.28 Q130.32 1204.91 127.913 1204.17 L127.913 1199.47 Q129.996 1200.6 132.219 1201.16 Q134.441 1201.72 136.918 1201.72 Q140.922 1201.72 143.26 1199.61 Q145.598 1197.5 145.598 1193.89 Q145.598 1190.28 143.26 1188.17 Q140.922 1186.07 136.918 1186.07 Q135.043 1186.07 133.168 1186.48 Q131.316 1186.9 129.371 1187.78 L129.371 1170.42 Z\" fill=\"#000000\" fill-rule=\"evenodd\" fill-opacity=\"1\" /><path clip-path=\"url(#clip400)\" d=\"M62.9365 831.365 Q59.3254 831.365 57.4967 834.93 Q55.6912 838.471 55.6912 845.601 Q55.6912 852.707 57.4967 856.272 Q59.3254 859.814 62.9365 859.814 Q66.5707 859.814 68.3763 856.272 Q70.205 852.707 70.205 845.601 Q70.205 838.471 68.3763 834.93 Q66.5707 831.365 62.9365 831.365 M62.9365 827.661 Q68.7467 827.661 71.8022 832.268 Q74.8809 836.851 74.8809 845.601 Q74.8809 854.328 71.8022 858.934 Q68.7467 863.518 62.9365 863.518 Q57.1264 863.518 54.0477 858.934 Q50.9921 854.328 50.9921 845.601 Q50.9921 836.851 54.0477 832.268 Q57.1264 827.661 62.9365 827.661 Z\" fill=\"#000000\" fill-rule=\"evenodd\" fill-opacity=\"1\" /><path clip-path=\"url(#clip400)\" d=\"M83.0984 856.967 L87.9827 856.967 L87.9827 862.846 L83.0984 862.846 L83.0984 856.967 Z\" fill=\"#000000\" fill-rule=\"evenodd\" fill-opacity=\"1\" /><path clip-path=\"url(#clip400)\" d=\"M112.334 844.212 Q115.691 844.93 117.566 847.198 Q119.464 849.467 119.464 852.8 Q119.464 857.916 115.945 860.717 Q112.427 863.518 105.946 863.518 Q103.77 863.518 101.455 863.078 Q99.1632 862.661 96.7095 861.805 L96.7095 857.291 Q98.6539 858.425 100.969 859.004 Q103.284 859.582 105.807 859.582 Q110.205 859.582 112.496 857.846 Q114.811 856.11 114.811 852.8 Q114.811 849.744 112.658 848.031 Q110.529 846.295 106.709 846.295 L102.682 846.295 L102.682 842.453 L106.895 842.453 Q110.344 842.453 112.172 841.087 Q114.001 839.698 114.001 837.106 Q114.001 834.444 112.103 833.032 Q110.228 831.596 106.709 831.596 Q104.788 831.596 102.589 832.013 Q100.39 832.43 97.7511 833.309 L97.7511 829.143 Q100.413 828.402 102.728 828.032 Q105.066 827.661 107.126 827.661 Q112.45 827.661 115.552 830.092 Q118.654 832.499 118.654 836.62 Q118.654 839.49 117.01 841.481 Q115.367 843.448 112.334 844.212 Z\" fill=\"#000000\" fill-rule=\"evenodd\" fill-opacity=\"1\" /><path clip-path=\"url(#clip400)\" d=\"M138.33 831.365 Q134.719 831.365 132.89 834.93 Q131.084 838.471 131.084 845.601 Q131.084 852.707 132.89 856.272 Q134.719 859.814 138.33 859.814 Q141.964 859.814 143.769 856.272 Q145.598 852.707 145.598 845.601 Q145.598 838.471 143.769 834.93 Q141.964 831.365 138.33 831.365 M138.33 827.661 Q144.14 827.661 147.195 832.268 Q150.274 836.851 150.274 845.601 Q150.274 854.328 147.195 858.934 Q144.14 863.518 138.33 863.518 Q132.519 863.518 129.441 858.934 Q126.385 854.328 126.385 845.601 Q126.385 836.851 129.441 832.268 Q132.519 827.661 138.33 827.661 Z\" fill=\"#000000\" fill-rule=\"evenodd\" fill-opacity=\"1\" /><path clip-path=\"url(#clip400)\" d=\"M63.9319 489.231 Q60.3208 489.231 58.4921 492.796 Q56.6865 496.338 56.6865 503.468 Q56.6865 510.574 58.4921 514.139 Q60.3208 517.68 63.9319 517.68 Q67.5661 517.68 69.3717 514.139 Q71.2004 510.574 71.2004 503.468 Q71.2004 496.338 69.3717 492.796 Q67.5661 489.231 63.9319 489.231 M63.9319 485.528 Q69.742 485.528 72.7976 490.134 Q75.8763 494.718 75.8763 503.468 Q75.8763 512.194 72.7976 516.801 Q69.742 521.384 63.9319 521.384 Q58.1217 521.384 55.043 516.801 Q51.9875 512.194 51.9875 503.468 Q51.9875 494.718 55.043 490.134 Q58.1217 485.528 63.9319 485.528 Z\" fill=\"#000000\" fill-rule=\"evenodd\" fill-opacity=\"1\" /><path clip-path=\"url(#clip400)\" d=\"M84.0938 514.833 L88.978 514.833 L88.978 520.713 L84.0938 520.713 L84.0938 514.833 Z\" fill=\"#000000\" fill-rule=\"evenodd\" fill-opacity=\"1\" /><path clip-path=\"url(#clip400)\" d=\"M113.33 502.079 Q116.686 502.796 118.561 505.065 Q120.459 507.333 120.459 510.667 Q120.459 515.782 116.941 518.583 Q113.422 521.384 106.941 521.384 Q104.765 521.384 102.45 520.944 Q100.159 520.528 97.7048 519.671 L97.7048 515.157 Q99.6493 516.292 101.964 516.87 Q104.279 517.449 106.802 517.449 Q111.2 517.449 113.492 515.713 Q115.807 513.977 115.807 510.667 Q115.807 507.611 113.654 505.898 Q111.524 504.162 107.705 504.162 L103.677 504.162 L103.677 500.319 L107.89 500.319 Q111.339 500.319 113.168 498.954 Q114.996 497.565 114.996 494.972 Q114.996 492.31 113.098 490.898 Q111.223 489.463 107.705 489.463 Q105.783 489.463 103.584 489.88 Q101.385 490.296 98.7465 491.176 L98.7465 487.009 Q101.409 486.269 103.723 485.898 Q106.061 485.528 108.121 485.528 Q113.445 485.528 116.547 487.958 Q119.649 490.366 119.649 494.486 Q119.649 497.356 118.006 499.347 Q116.362 501.315 113.33 502.079 Z\" fill=\"#000000\" fill-rule=\"evenodd\" fill-opacity=\"1\" /><path clip-path=\"url(#clip400)\" d=\"M129.371 486.153 L147.728 486.153 L147.728 490.088 L133.654 490.088 L133.654 498.56 Q134.672 498.213 135.691 498.051 Q136.709 497.866 137.728 497.866 Q143.515 497.866 146.894 501.037 Q150.274 504.208 150.274 509.625 Q150.274 515.204 146.802 518.305 Q143.33 521.384 137.01 521.384 Q134.834 521.384 132.566 521.014 Q130.32 520.643 127.913 519.903 L127.913 515.204 Q129.996 516.338 132.219 516.893 Q134.441 517.449 136.918 517.449 Q140.922 517.449 143.26 515.342 Q145.598 513.236 145.598 509.625 Q145.598 506.014 143.26 503.907 Q140.922 501.801 136.918 501.801 Q135.043 501.801 133.168 502.218 Q131.316 502.634 129.371 503.514 L129.371 486.153 Z\" fill=\"#000000\" fill-rule=\"evenodd\" fill-opacity=\"1\" /><path clip-path=\"url(#clip400)\" d=\"M62.9365 147.098 Q59.3254 147.098 57.4967 150.663 Q55.6912 154.204 55.6912 161.334 Q55.6912 168.441 57.4967 172.005 Q59.3254 175.547 62.9365 175.547 Q66.5707 175.547 68.3763 172.005 Q70.205 168.441 70.205 161.334 Q70.205 154.204 68.3763 150.663 Q66.5707 147.098 62.9365 147.098 M62.9365 143.394 Q68.7467 143.394 71.8022 148.001 Q74.8809 152.584 74.8809 161.334 Q74.8809 170.061 71.8022 174.667 Q68.7467 179.251 62.9365 179.251 Q57.1264 179.251 54.0477 174.667 Q50.9921 170.061 50.9921 161.334 Q50.9921 152.584 54.0477 148.001 Q57.1264 143.394 62.9365 143.394 Z\" fill=\"#000000\" fill-rule=\"evenodd\" fill-opacity=\"1\" /><path clip-path=\"url(#clip400)\" d=\"M83.0984 172.7 L87.9827 172.7 L87.9827 178.579 L83.0984 178.579 L83.0984 172.7 Z\" fill=\"#000000\" fill-rule=\"evenodd\" fill-opacity=\"1\" /><path clip-path=\"url(#clip400)\" d=\"M111.015 148.093 L99.2095 166.542 L111.015 166.542 L111.015 148.093 M109.788 144.019 L115.668 144.019 L115.668 166.542 L120.598 166.542 L120.598 170.431 L115.668 170.431 L115.668 178.579 L111.015 178.579 L111.015 170.431 L95.4132 170.431 L95.4132 165.917 L109.788 144.019 Z\" fill=\"#000000\" fill-rule=\"evenodd\" fill-opacity=\"1\" /><path clip-path=\"url(#clip400)\" d=\"M138.33 147.098 Q134.719 147.098 132.89 150.663 Q131.084 154.204 131.084 161.334 Q131.084 168.441 132.89 172.005 Q134.719 175.547 138.33 175.547 Q141.964 175.547 143.769 172.005 Q145.598 168.441 145.598 161.334 Q145.598 154.204 143.769 150.663 Q141.964 147.098 138.33 147.098 M138.33 143.394 Q144.14 143.394 147.195 148.001 Q150.274 152.584 150.274 161.334 Q150.274 170.061 147.195 174.667 Q144.14 179.251 138.33 179.251 Q132.519 179.251 129.441 174.667 Q126.385 170.061 126.385 161.334 Q126.385 152.584 129.441 148.001 Q132.519 143.394 138.33 143.394 Z\" fill=\"#000000\" fill-rule=\"evenodd\" fill-opacity=\"1\" /><polyline clip-path=\"url(#clip402)\" style=\"stroke:#009af9; stroke-linecap:butt; stroke-linejoin:round; stroke-width:4; stroke-opacity:1; fill:none\" points=\"\n",
       "  247.59,1445.72 252.579,1428.24 257.569,1410.54 262.559,1392.58 267.549,1374.38 290.619,1286.67 313.689,1192.49 336.759,1091.08 359.828,982.106 405.968,744.079 \n",
       "  452.107,495.793 465.971,424.433 479.835,356.822 493.699,294.326 507.563,238.273 521.427,189.88 535.291,150.173 549.155,119.924 563.019,99.5962 574.741,90.2515 \n",
       "  586.462,87.9763 598.184,92.4833 609.906,103.332 621.628,119.949 633.35,141.662 645.071,167.724 656.793,197.353 707.726,348.824 758.658,500.73 782.136,562.886 \n",
       "  805.614,618.939 829.092,669.186 852.569,714.362 902.91,798.178 953.251,869.706 1011.58,941.286 1069.9,1000.81 1121.73,1042.29 1173.57,1071.96 1219.02,1087.76 \n",
       "  1264.47,1093.77 1314.03,1089.11 1363.58,1072.81 1413.43,1044.92 1463.28,1006.05 1518.4,951.353 1573.51,885.717 1625.95,813.451 1678.39,728.873 1705.66,677.776 \n",
       "  1732.92,620.057 1760.18,554.542 1787.45,480.847 1833.35,342.468 1879.25,205.388 1893.26,169.408 1907.27,138.455 1921.27,113.86 1935.28,96.872 1949.29,88.5686 \n",
       "  1963.3,89.7907 1977.31,101.077 1991.32,122.624 2004.49,152.093 2017.66,190.066 2030.83,235.877 2044,288.647 2070.34,410.832 2096.68,547.529 2138.87,775.194 \n",
       "  2181.07,991.217 2202.17,1090.62 2223.27,1183.68 2244.37,1270.66 2265.46,1352.08 2271.96,1376.13 2278.45,1399.74 2284.95,1422.93 2291.44,1445.72 \n",
       "  \"/>\n",
       "<path clip-path=\"url(#clip400)\" d=\"\n",
       "M1987.39 198.898 L2280.54 198.898 L2280.54 95.2176 L1987.39 95.2176  Z\n",
       "  \" fill=\"#ffffff\" fill-rule=\"evenodd\" fill-opacity=\"1\"/>\n",
       "<polyline clip-path=\"url(#clip400)\" style=\"stroke:#000000; stroke-linecap:butt; stroke-linejoin:round; stroke-width:4; stroke-opacity:1; fill:none\" points=\"\n",
       "  1987.39,198.898 2280.54,198.898 2280.54,95.2176 1987.39,95.2176 1987.39,198.898 \n",
       "  \"/>\n",
       "<polyline clip-path=\"url(#clip400)\" style=\"stroke:#009af9; stroke-linecap:butt; stroke-linejoin:round; stroke-width:4; stroke-opacity:1; fill:none\" points=\"\n",
       "  2011.46,147.058 2155.89,147.058 \n",
       "  \"/>\n",
       "<path clip-path=\"url(#clip400)\" d=\"M2193.81 166.745 Q2192 171.375 2190.29 172.787 Q2188.58 174.199 2185.71 174.199 L2182.3 174.199 L2182.3 170.634 L2184.8 170.634 Q2186.56 170.634 2187.53 169.8 Q2188.51 168.967 2189.69 165.865 L2190.45 163.921 L2179.97 138.412 L2184.48 138.412 L2192.58 158.689 L2200.68 138.412 L2205.2 138.412 L2193.81 166.745 Z\" fill=\"#000000\" fill-rule=\"evenodd\" fill-opacity=\"1\" /><path clip-path=\"url(#clip400)\" d=\"M2212.49 160.402 L2220.13 160.402 L2220.13 134.037 L2211.82 135.703 L2211.82 131.444 L2220.08 129.778 L2224.76 129.778 L2224.76 160.402 L2232.4 160.402 L2232.4 164.338 L2212.49 164.338 L2212.49 160.402 Z\" fill=\"#000000\" fill-rule=\"evenodd\" fill-opacity=\"1\" /></svg>\n"
      ]
     },
     "execution_count": 112,
     "metadata": {},
     "output_type": "execute_result"
    }
   ],
   "source": [
    "plot(x->get_electronic_density([Float32(0.0) Float32(0.0) Float32(x);] ,f)[1],-1.0,1.0)"
   ]
  },
  {
   "cell_type": "code",
   "execution_count": 470,
   "id": "830d2f2b",
   "metadata": {},
   "outputs": [
    {
     "data": {
      "image/svg+xml": [
       "<?xml version=\"1.0\" encoding=\"utf-8\"?>\n",
       "<svg xmlns=\"http://www.w3.org/2000/svg\" xmlns:xlink=\"http://www.w3.org/1999/xlink\" width=\"600\" height=\"400\" viewBox=\"0 0 2400 1600\">\n",
       "<defs>\n",
       "  <clipPath id=\"clip120\">\n",
       "    <rect x=\"0\" y=\"0\" width=\"2400\" height=\"1600\"/>\n",
       "  </clipPath>\n",
       "</defs>\n",
       "<path clip-path=\"url(#clip120)\" d=\"\n",
       "M0 1600 L2400 1600 L2400 0 L0 0  Z\n",
       "  \" fill=\"#ffffff\" fill-rule=\"evenodd\" fill-opacity=\"1\"/>\n",
       "<defs>\n",
       "  <clipPath id=\"clip121\">\n",
       "    <rect x=\"480\" y=\"0\" width=\"1681\" height=\"1600\"/>\n",
       "  </clipPath>\n",
       "</defs>\n",
       "<path clip-path=\"url(#clip120)\" d=\"\n",
       "M156.598 1486.45 L2352.76 1486.45 L2352.76 47.2441 L156.598 47.2441  Z\n",
       "  \" fill=\"#ffffff\" fill-rule=\"evenodd\" fill-opacity=\"1\"/>\n",
       "<defs>\n",
       "  <clipPath id=\"clip122\">\n",
       "    <rect x=\"156\" y=\"47\" width=\"2197\" height=\"1440\"/>\n",
       "  </clipPath>\n",
       "</defs>\n",
       "<polyline clip-path=\"url(#clip122)\" style=\"stroke:#000000; stroke-linecap:butt; stroke-linejoin:round; stroke-width:2; stroke-opacity:0.1; fill:none\" points=\"\n",
       "  218.754,1486.45 218.754,47.2441 \n",
       "  \"/>\n",
       "<polyline clip-path=\"url(#clip122)\" style=\"stroke:#000000; stroke-linecap:butt; stroke-linejoin:round; stroke-width:2; stroke-opacity:0.1; fill:none\" points=\"\n",
       "  736.715,1486.45 736.715,47.2441 \n",
       "  \"/>\n",
       "<polyline clip-path=\"url(#clip122)\" style=\"stroke:#000000; stroke-linecap:butt; stroke-linejoin:round; stroke-width:2; stroke-opacity:0.1; fill:none\" points=\"\n",
       "  1254.68,1486.45 1254.68,47.2441 \n",
       "  \"/>\n",
       "<polyline clip-path=\"url(#clip122)\" style=\"stroke:#000000; stroke-linecap:butt; stroke-linejoin:round; stroke-width:2; stroke-opacity:0.1; fill:none\" points=\"\n",
       "  1772.64,1486.45 1772.64,47.2441 \n",
       "  \"/>\n",
       "<polyline clip-path=\"url(#clip122)\" style=\"stroke:#000000; stroke-linecap:butt; stroke-linejoin:round; stroke-width:2; stroke-opacity:0.1; fill:none\" points=\"\n",
       "  2290.6,1486.45 2290.6,47.2441 \n",
       "  \"/>\n",
       "<polyline clip-path=\"url(#clip120)\" style=\"stroke:#000000; stroke-linecap:butt; stroke-linejoin:round; stroke-width:4; stroke-opacity:1; fill:none\" points=\"\n",
       "  156.598,1486.45 2352.76,1486.45 \n",
       "  \"/>\n",
       "<polyline clip-path=\"url(#clip120)\" style=\"stroke:#000000; stroke-linecap:butt; stroke-linejoin:round; stroke-width:4; stroke-opacity:1; fill:none\" points=\"\n",
       "  218.754,1486.45 218.754,1467.55 \n",
       "  \"/>\n",
       "<polyline clip-path=\"url(#clip120)\" style=\"stroke:#000000; stroke-linecap:butt; stroke-linejoin:round; stroke-width:4; stroke-opacity:1; fill:none\" points=\"\n",
       "  736.715,1486.45 736.715,1467.55 \n",
       "  \"/>\n",
       "<polyline clip-path=\"url(#clip120)\" style=\"stroke:#000000; stroke-linecap:butt; stroke-linejoin:round; stroke-width:4; stroke-opacity:1; fill:none\" points=\"\n",
       "  1254.68,1486.45 1254.68,1467.55 \n",
       "  \"/>\n",
       "<polyline clip-path=\"url(#clip120)\" style=\"stroke:#000000; stroke-linecap:butt; stroke-linejoin:round; stroke-width:4; stroke-opacity:1; fill:none\" points=\"\n",
       "  1772.64,1486.45 1772.64,1467.55 \n",
       "  \"/>\n",
       "<polyline clip-path=\"url(#clip120)\" style=\"stroke:#000000; stroke-linecap:butt; stroke-linejoin:round; stroke-width:4; stroke-opacity:1; fill:none\" points=\"\n",
       "  2290.6,1486.45 2290.6,1467.55 \n",
       "  \"/>\n",
       "<path clip-path=\"url(#clip120)\" d=\"M165.282 1530.29 L194.957 1530.29 L194.957 1534.23 L165.282 1534.23 L165.282 1530.29 Z\" fill=\"#000000\" fill-rule=\"evenodd\" fill-opacity=\"1\" /><path clip-path=\"url(#clip120)\" d=\"M205.86 1543.18 L213.499 1543.18 L213.499 1516.82 L205.189 1518.49 L205.189 1514.23 L213.453 1512.56 L218.129 1512.56 L218.129 1543.18 L225.767 1543.18 L225.767 1547.12 L205.86 1547.12 L205.86 1543.18 Z\" fill=\"#000000\" fill-rule=\"evenodd\" fill-opacity=\"1\" /><path clip-path=\"url(#clip120)\" d=\"M235.212 1541.24 L240.096 1541.24 L240.096 1547.12 L235.212 1547.12 L235.212 1541.24 Z\" fill=\"#000000\" fill-rule=\"evenodd\" fill-opacity=\"1\" /><path clip-path=\"url(#clip120)\" d=\"M260.281 1515.64 Q256.67 1515.64 254.841 1519.2 Q253.036 1522.75 253.036 1529.87 Q253.036 1536.98 254.841 1540.55 Q256.67 1544.09 260.281 1544.09 Q263.915 1544.09 265.721 1540.55 Q267.55 1536.98 267.55 1529.87 Q267.55 1522.75 265.721 1519.2 Q263.915 1515.64 260.281 1515.64 M260.281 1511.93 Q266.091 1511.93 269.147 1516.54 Q272.226 1521.12 272.226 1529.87 Q272.226 1538.6 269.147 1543.21 Q266.091 1547.79 260.281 1547.79 Q254.471 1547.79 251.392 1543.21 Q248.337 1538.6 248.337 1529.87 Q248.337 1521.12 251.392 1516.54 Q254.471 1511.93 260.281 1511.93 Z\" fill=\"#000000\" fill-rule=\"evenodd\" fill-opacity=\"1\" /><path clip-path=\"url(#clip120)\" d=\"M683.741 1530.29 L713.417 1530.29 L713.417 1534.23 L683.741 1534.23 L683.741 1530.29 Z\" fill=\"#000000\" fill-rule=\"evenodd\" fill-opacity=\"1\" /><path clip-path=\"url(#clip120)\" d=\"M733.509 1515.64 Q729.898 1515.64 728.07 1519.2 Q726.264 1522.75 726.264 1529.87 Q726.264 1536.98 728.07 1540.55 Q729.898 1544.09 733.509 1544.09 Q737.144 1544.09 738.949 1540.55 Q740.778 1536.98 740.778 1529.87 Q740.778 1522.75 738.949 1519.2 Q737.144 1515.64 733.509 1515.64 M733.509 1511.93 Q739.32 1511.93 742.375 1516.54 Q745.454 1521.12 745.454 1529.87 Q745.454 1538.6 742.375 1543.21 Q739.32 1547.79 733.509 1547.79 Q727.699 1547.79 724.621 1543.21 Q721.565 1538.6 721.565 1529.87 Q721.565 1521.12 724.621 1516.54 Q727.699 1511.93 733.509 1511.93 Z\" fill=\"#000000\" fill-rule=\"evenodd\" fill-opacity=\"1\" /><path clip-path=\"url(#clip120)\" d=\"M753.671 1541.24 L758.556 1541.24 L758.556 1547.12 L753.671 1547.12 L753.671 1541.24 Z\" fill=\"#000000\" fill-rule=\"evenodd\" fill-opacity=\"1\" /><path clip-path=\"url(#clip120)\" d=\"M768.787 1512.56 L787.143 1512.56 L787.143 1516.5 L773.069 1516.5 L773.069 1524.97 Q774.088 1524.62 775.106 1524.46 Q776.125 1524.27 777.143 1524.27 Q782.93 1524.27 786.31 1527.44 Q789.69 1530.62 789.69 1536.03 Q789.69 1541.61 786.217 1544.71 Q782.745 1547.79 776.426 1547.79 Q774.25 1547.79 771.981 1547.42 Q769.736 1547.05 767.329 1546.31 L767.329 1541.61 Q769.412 1542.74 771.634 1543.3 Q773.856 1543.86 776.333 1543.86 Q780.338 1543.86 782.676 1541.75 Q785.014 1539.64 785.014 1536.03 Q785.014 1532.42 782.676 1530.31 Q780.338 1528.21 776.333 1528.21 Q774.458 1528.21 772.583 1528.62 Q770.731 1529.04 768.787 1529.92 L768.787 1512.56 Z\" fill=\"#000000\" fill-rule=\"evenodd\" fill-opacity=\"1\" /><path clip-path=\"url(#clip120)\" d=\"M1232.06 1515.64 Q1228.45 1515.64 1226.62 1519.2 Q1224.82 1522.75 1224.82 1529.87 Q1224.82 1536.98 1226.62 1540.55 Q1228.45 1544.09 1232.06 1544.09 Q1235.7 1544.09 1237.5 1540.55 Q1239.33 1536.98 1239.33 1529.87 Q1239.33 1522.75 1237.5 1519.2 Q1235.7 1515.64 1232.06 1515.64 M1232.06 1511.93 Q1237.87 1511.93 1240.93 1516.54 Q1244.01 1521.12 1244.01 1529.87 Q1244.01 1538.6 1240.93 1543.21 Q1237.87 1547.79 1232.06 1547.79 Q1226.25 1547.79 1223.17 1543.21 Q1220.12 1538.6 1220.12 1529.87 Q1220.12 1521.12 1223.17 1516.54 Q1226.25 1511.93 1232.06 1511.93 Z\" fill=\"#000000\" fill-rule=\"evenodd\" fill-opacity=\"1\" /><path clip-path=\"url(#clip120)\" d=\"M1252.22 1541.24 L1257.11 1541.24 L1257.11 1547.12 L1252.22 1547.12 L1252.22 1541.24 Z\" fill=\"#000000\" fill-rule=\"evenodd\" fill-opacity=\"1\" /><path clip-path=\"url(#clip120)\" d=\"M1277.29 1515.64 Q1273.68 1515.64 1271.85 1519.2 Q1270.05 1522.75 1270.05 1529.87 Q1270.05 1536.98 1271.85 1540.55 Q1273.68 1544.09 1277.29 1544.09 Q1280.93 1544.09 1282.73 1540.55 Q1284.56 1536.98 1284.56 1529.87 Q1284.56 1522.75 1282.73 1519.2 Q1280.93 1515.64 1277.29 1515.64 M1277.29 1511.93 Q1283.1 1511.93 1286.16 1516.54 Q1289.24 1521.12 1289.24 1529.87 Q1289.24 1538.6 1286.16 1543.21 Q1283.1 1547.79 1277.29 1547.79 Q1271.48 1547.79 1268.4 1543.21 Q1265.35 1538.6 1265.35 1529.87 Q1265.35 1521.12 1268.4 1516.54 Q1271.48 1511.93 1277.29 1511.93 Z\" fill=\"#000000\" fill-rule=\"evenodd\" fill-opacity=\"1\" /><path clip-path=\"url(#clip120)\" d=\"M1750.52 1515.64 Q1746.91 1515.64 1745.08 1519.2 Q1743.28 1522.75 1743.28 1529.87 Q1743.28 1536.98 1745.08 1540.55 Q1746.91 1544.09 1750.52 1544.09 Q1754.16 1544.09 1755.96 1540.55 Q1757.79 1536.98 1757.79 1529.87 Q1757.79 1522.75 1755.96 1519.2 Q1754.16 1515.64 1750.52 1515.64 M1750.52 1511.93 Q1756.33 1511.93 1759.39 1516.54 Q1762.47 1521.12 1762.47 1529.87 Q1762.47 1538.6 1759.39 1543.21 Q1756.33 1547.79 1750.52 1547.79 Q1744.71 1547.79 1741.63 1543.21 Q1738.58 1538.6 1738.58 1529.87 Q1738.58 1521.12 1741.63 1516.54 Q1744.71 1511.93 1750.52 1511.93 Z\" fill=\"#000000\" fill-rule=\"evenodd\" fill-opacity=\"1\" /><path clip-path=\"url(#clip120)\" d=\"M1770.68 1541.24 L1775.57 1541.24 L1775.57 1547.12 L1770.68 1547.12 L1770.68 1541.24 Z\" fill=\"#000000\" fill-rule=\"evenodd\" fill-opacity=\"1\" /><path clip-path=\"url(#clip120)\" d=\"M1785.8 1512.56 L1804.15 1512.56 L1804.15 1516.5 L1790.08 1516.5 L1790.08 1524.97 Q1791.1 1524.62 1792.12 1524.46 Q1793.14 1524.27 1794.15 1524.27 Q1799.94 1524.27 1803.32 1527.44 Q1806.7 1530.62 1806.7 1536.03 Q1806.7 1541.61 1803.23 1544.71 Q1799.76 1547.79 1793.44 1547.79 Q1791.26 1547.79 1788.99 1547.42 Q1786.75 1547.05 1784.34 1546.31 L1784.34 1541.61 Q1786.42 1542.74 1788.65 1543.3 Q1790.87 1543.86 1793.34 1543.86 Q1797.35 1543.86 1799.69 1541.75 Q1802.03 1539.64 1802.03 1536.03 Q1802.03 1532.42 1799.69 1530.31 Q1797.35 1528.21 1793.34 1528.21 Q1791.47 1528.21 1789.59 1528.62 Q1787.74 1529.04 1785.8 1529.92 L1785.8 1512.56 Z\" fill=\"#000000\" fill-rule=\"evenodd\" fill-opacity=\"1\" /><path clip-path=\"url(#clip120)\" d=\"M2257.75 1543.18 L2265.39 1543.18 L2265.39 1516.82 L2257.08 1518.49 L2257.08 1514.23 L2265.35 1512.56 L2270.02 1512.56 L2270.02 1543.18 L2277.66 1543.18 L2277.66 1547.12 L2257.75 1547.12 L2257.75 1543.18 Z\" fill=\"#000000\" fill-rule=\"evenodd\" fill-opacity=\"1\" /><path clip-path=\"url(#clip120)\" d=\"M2287.11 1541.24 L2291.99 1541.24 L2291.99 1547.12 L2287.11 1547.12 L2287.11 1541.24 Z\" fill=\"#000000\" fill-rule=\"evenodd\" fill-opacity=\"1\" /><path clip-path=\"url(#clip120)\" d=\"M2312.17 1515.64 Q2308.56 1515.64 2306.73 1519.2 Q2304.93 1522.75 2304.93 1529.87 Q2304.93 1536.98 2306.73 1540.55 Q2308.56 1544.09 2312.17 1544.09 Q2315.81 1544.09 2317.61 1540.55 Q2319.44 1536.98 2319.44 1529.87 Q2319.44 1522.75 2317.61 1519.2 Q2315.81 1515.64 2312.17 1515.64 M2312.17 1511.93 Q2317.98 1511.93 2321.04 1516.54 Q2324.12 1521.12 2324.12 1529.87 Q2324.12 1538.6 2321.04 1543.21 Q2317.98 1547.79 2312.17 1547.79 Q2306.36 1547.79 2303.29 1543.21 Q2300.23 1538.6 2300.23 1529.87 Q2300.23 1521.12 2303.29 1516.54 Q2306.36 1511.93 2312.17 1511.93 Z\" fill=\"#000000\" fill-rule=\"evenodd\" fill-opacity=\"1\" /><polyline clip-path=\"url(#clip122)\" style=\"stroke:#000000; stroke-linecap:butt; stroke-linejoin:round; stroke-width:2; stroke-opacity:0.1; fill:none\" points=\"\n",
       "  156.598,1445.74 2352.76,1445.74 \n",
       "  \"/>\n",
       "<polyline clip-path=\"url(#clip122)\" style=\"stroke:#000000; stroke-linecap:butt; stroke-linejoin:round; stroke-width:2; stroke-opacity:0.1; fill:none\" points=\"\n",
       "  156.598,1238.75 2352.76,1238.75 \n",
       "  \"/>\n",
       "<polyline clip-path=\"url(#clip122)\" style=\"stroke:#000000; stroke-linecap:butt; stroke-linejoin:round; stroke-width:2; stroke-opacity:0.1; fill:none\" points=\"\n",
       "  156.598,1031.75 2352.76,1031.75 \n",
       "  \"/>\n",
       "<polyline clip-path=\"url(#clip122)\" style=\"stroke:#000000; stroke-linecap:butt; stroke-linejoin:round; stroke-width:2; stroke-opacity:0.1; fill:none\" points=\"\n",
       "  156.598,824.759 2352.76,824.759 \n",
       "  \"/>\n",
       "<polyline clip-path=\"url(#clip122)\" style=\"stroke:#000000; stroke-linecap:butt; stroke-linejoin:round; stroke-width:2; stroke-opacity:0.1; fill:none\" points=\"\n",
       "  156.598,617.765 2352.76,617.765 \n",
       "  \"/>\n",
       "<polyline clip-path=\"url(#clip122)\" style=\"stroke:#000000; stroke-linecap:butt; stroke-linejoin:round; stroke-width:2; stroke-opacity:0.1; fill:none\" points=\"\n",
       "  156.598,410.771 2352.76,410.771 \n",
       "  \"/>\n",
       "<polyline clip-path=\"url(#clip122)\" style=\"stroke:#000000; stroke-linecap:butt; stroke-linejoin:round; stroke-width:2; stroke-opacity:0.1; fill:none\" points=\"\n",
       "  156.598,203.777 2352.76,203.777 \n",
       "  \"/>\n",
       "<polyline clip-path=\"url(#clip120)\" style=\"stroke:#000000; stroke-linecap:butt; stroke-linejoin:round; stroke-width:4; stroke-opacity:1; fill:none\" points=\"\n",
       "  156.598,1486.45 156.598,47.2441 \n",
       "  \"/>\n",
       "<polyline clip-path=\"url(#clip120)\" style=\"stroke:#000000; stroke-linecap:butt; stroke-linejoin:round; stroke-width:4; stroke-opacity:1; fill:none\" points=\"\n",
       "  156.598,1445.74 175.496,1445.74 \n",
       "  \"/>\n",
       "<polyline clip-path=\"url(#clip120)\" style=\"stroke:#000000; stroke-linecap:butt; stroke-linejoin:round; stroke-width:4; stroke-opacity:1; fill:none\" points=\"\n",
       "  156.598,1238.75 175.496,1238.75 \n",
       "  \"/>\n",
       "<polyline clip-path=\"url(#clip120)\" style=\"stroke:#000000; stroke-linecap:butt; stroke-linejoin:round; stroke-width:4; stroke-opacity:1; fill:none\" points=\"\n",
       "  156.598,1031.75 175.496,1031.75 \n",
       "  \"/>\n",
       "<polyline clip-path=\"url(#clip120)\" style=\"stroke:#000000; stroke-linecap:butt; stroke-linejoin:round; stroke-width:4; stroke-opacity:1; fill:none\" points=\"\n",
       "  156.598,824.759 175.496,824.759 \n",
       "  \"/>\n",
       "<polyline clip-path=\"url(#clip120)\" style=\"stroke:#000000; stroke-linecap:butt; stroke-linejoin:round; stroke-width:4; stroke-opacity:1; fill:none\" points=\"\n",
       "  156.598,617.765 175.496,617.765 \n",
       "  \"/>\n",
       "<polyline clip-path=\"url(#clip120)\" style=\"stroke:#000000; stroke-linecap:butt; stroke-linejoin:round; stroke-width:4; stroke-opacity:1; fill:none\" points=\"\n",
       "  156.598,410.771 175.496,410.771 \n",
       "  \"/>\n",
       "<polyline clip-path=\"url(#clip120)\" style=\"stroke:#000000; stroke-linecap:butt; stroke-linejoin:round; stroke-width:4; stroke-opacity:1; fill:none\" points=\"\n",
       "  156.598,203.777 175.496,203.777 \n",
       "  \"/>\n",
       "<path clip-path=\"url(#clip120)\" d=\"M63.4226 1431.54 Q59.8115 1431.54 57.9828 1435.11 Q56.1773 1438.65 56.1773 1445.78 Q56.1773 1452.88 57.9828 1456.45 Q59.8115 1459.99 63.4226 1459.99 Q67.0569 1459.99 68.8624 1456.45 Q70.6911 1452.88 70.6911 1445.78 Q70.6911 1438.65 68.8624 1435.11 Q67.0569 1431.54 63.4226 1431.54 M63.4226 1427.84 Q69.2328 1427.84 72.2883 1432.44 Q75.367 1437.03 75.367 1445.78 Q75.367 1454.5 72.2883 1459.11 Q69.2328 1463.69 63.4226 1463.69 Q57.6125 1463.69 54.5338 1459.11 Q51.4782 1454.5 51.4782 1445.78 Q51.4782 1437.03 54.5338 1432.44 Q57.6125 1427.84 63.4226 1427.84 Z\" fill=\"#000000\" fill-rule=\"evenodd\" fill-opacity=\"1\" /><path clip-path=\"url(#clip120)\" d=\"M83.5845 1457.14 L88.4688 1457.14 L88.4688 1463.02 L83.5845 1463.02 L83.5845 1457.14 Z\" fill=\"#000000\" fill-rule=\"evenodd\" fill-opacity=\"1\" /><path clip-path=\"url(#clip120)\" d=\"M108.654 1431.54 Q105.043 1431.54 103.214 1435.11 Q101.409 1438.65 101.409 1445.78 Q101.409 1452.88 103.214 1456.45 Q105.043 1459.99 108.654 1459.99 Q112.288 1459.99 114.094 1456.45 Q115.922 1452.88 115.922 1445.78 Q115.922 1438.65 114.094 1435.11 Q112.288 1431.54 108.654 1431.54 M108.654 1427.84 Q114.464 1427.84 117.52 1432.44 Q120.598 1437.03 120.598 1445.78 Q120.598 1454.5 117.52 1459.11 Q114.464 1463.69 108.654 1463.69 Q102.844 1463.69 99.765 1459.11 Q96.7095 1454.5 96.7095 1445.78 Q96.7095 1437.03 99.765 1432.44 Q102.844 1427.84 108.654 1427.84 Z\" fill=\"#000000\" fill-rule=\"evenodd\" fill-opacity=\"1\" /><path clip-path=\"url(#clip120)\" d=\"M64.6495 1224.55 Q61.0384 1224.55 59.2097 1228.11 Q57.4041 1231.65 57.4041 1238.78 Q57.4041 1245.89 59.2097 1249.45 Q61.0384 1253 64.6495 1253 Q68.2837 1253 70.0892 1249.45 Q71.9179 1245.89 71.9179 1238.78 Q71.9179 1231.65 70.0892 1228.11 Q68.2837 1224.55 64.6495 1224.55 M64.6495 1220.84 Q70.4596 1220.84 73.5152 1225.45 Q76.5938 1230.03 76.5938 1238.78 Q76.5938 1247.51 73.5152 1252.12 Q70.4596 1256.7 64.6495 1256.7 Q58.8393 1256.7 55.7606 1252.12 Q52.7051 1247.51 52.7051 1238.78 Q52.7051 1230.03 55.7606 1225.45 Q58.8393 1220.84 64.6495 1220.84 Z\" fill=\"#000000\" fill-rule=\"evenodd\" fill-opacity=\"1\" /><path clip-path=\"url(#clip120)\" d=\"M84.8114 1250.15 L89.6956 1250.15 L89.6956 1256.03 L84.8114 1256.03 L84.8114 1250.15 Z\" fill=\"#000000\" fill-rule=\"evenodd\" fill-opacity=\"1\" /><path clip-path=\"url(#clip120)\" d=\"M100.691 1252.09 L108.33 1252.09 L108.33 1225.73 L100.02 1227.39 L100.02 1223.13 L108.283 1221.47 L112.959 1221.47 L112.959 1252.09 L120.598 1252.09 L120.598 1256.03 L100.691 1256.03 L100.691 1252.09 Z\" fill=\"#000000\" fill-rule=\"evenodd\" fill-opacity=\"1\" /><path clip-path=\"url(#clip120)\" d=\"M65.0198 1017.55 Q61.4087 1017.55 59.58 1021.12 Q57.7745 1024.66 57.7745 1031.79 Q57.7745 1038.89 59.58 1042.46 Q61.4087 1046 65.0198 1046 Q68.6541 1046 70.4596 1042.46 Q72.2883 1038.89 72.2883 1031.79 Q72.2883 1024.66 70.4596 1021.12 Q68.6541 1017.55 65.0198 1017.55 M65.0198 1013.85 Q70.83 1013.85 73.8855 1018.46 Q76.9642 1023.04 76.9642 1031.79 Q76.9642 1040.52 73.8855 1045.12 Q70.83 1049.71 65.0198 1049.71 Q59.2097 1049.71 56.131 1045.12 Q53.0754 1040.52 53.0754 1031.79 Q53.0754 1023.04 56.131 1018.46 Q59.2097 1013.85 65.0198 1013.85 Z\" fill=\"#000000\" fill-rule=\"evenodd\" fill-opacity=\"1\" /><path clip-path=\"url(#clip120)\" d=\"M85.1818 1043.15 L90.066 1043.15 L90.066 1049.03 L85.1818 1049.03 L85.1818 1043.15 Z\" fill=\"#000000\" fill-rule=\"evenodd\" fill-opacity=\"1\" /><path clip-path=\"url(#clip120)\" d=\"M104.279 1045.1 L120.598 1045.1 L120.598 1049.03 L98.6539 1049.03 L98.6539 1045.1 Q101.316 1042.34 105.899 1037.71 Q110.506 1033.06 111.686 1031.72 Q113.932 1029.2 114.811 1027.46 Q115.714 1025.7 115.714 1024.01 Q115.714 1021.26 113.77 1019.52 Q111.848 1017.78 108.746 1017.78 Q106.547 1017.78 104.094 1018.55 Q101.663 1019.31 98.8854 1020.86 L98.8854 1016.14 Q101.709 1015.01 104.163 1014.43 Q106.617 1013.85 108.654 1013.85 Q114.024 1013.85 117.219 1016.53 Q120.413 1019.22 120.413 1023.71 Q120.413 1025.84 119.603 1027.76 Q118.816 1029.66 116.709 1032.25 Q116.131 1032.92 113.029 1036.14 Q109.927 1039.33 104.279 1045.1 Z\" fill=\"#000000\" fill-rule=\"evenodd\" fill-opacity=\"1\" /><path clip-path=\"url(#clip120)\" d=\"M64.0708 810.558 Q60.4597 810.558 58.631 814.123 Q56.8254 817.665 56.8254 824.794 Q56.8254 831.901 58.631 835.465 Q60.4597 839.007 64.0708 839.007 Q67.705 839.007 69.5105 835.465 Q71.3392 831.901 71.3392 824.794 Q71.3392 817.665 69.5105 814.123 Q67.705 810.558 64.0708 810.558 M64.0708 806.854 Q69.8809 806.854 72.9365 811.461 Q76.0151 816.044 76.0151 824.794 Q76.0151 833.521 72.9365 838.127 Q69.8809 842.711 64.0708 842.711 Q58.2606 842.711 55.1819 838.127 Q52.1264 833.521 52.1264 824.794 Q52.1264 816.044 55.1819 811.461 Q58.2606 806.854 64.0708 806.854 Z\" fill=\"#000000\" fill-rule=\"evenodd\" fill-opacity=\"1\" /><path clip-path=\"url(#clip120)\" d=\"M84.2327 836.16 L89.1169 836.16 L89.1169 842.039 L84.2327 842.039 L84.2327 836.16 Z\" fill=\"#000000\" fill-rule=\"evenodd\" fill-opacity=\"1\" /><path clip-path=\"url(#clip120)\" d=\"M113.469 823.405 Q116.825 824.123 118.7 826.391 Q120.598 828.66 120.598 831.993 Q120.598 837.109 117.08 839.91 Q113.561 842.711 107.08 842.711 Q104.904 842.711 102.589 842.271 Q100.297 841.854 97.8437 840.998 L97.8437 836.484 Q99.7882 837.618 102.103 838.197 Q104.418 838.776 106.941 838.776 Q111.339 838.776 113.631 837.039 Q115.945 835.303 115.945 831.993 Q115.945 828.938 113.793 827.225 Q111.663 825.489 107.844 825.489 L103.816 825.489 L103.816 821.646 L108.029 821.646 Q111.478 821.646 113.307 820.28 Q115.135 818.891 115.135 816.299 Q115.135 813.637 113.237 812.225 Q111.362 810.79 107.844 810.79 Q105.922 810.79 103.723 811.206 Q101.524 811.623 98.8854 812.503 L98.8854 808.336 Q101.547 807.595 103.862 807.225 Q106.2 806.854 108.26 806.854 Q113.584 806.854 116.686 809.285 Q119.788 811.692 119.788 815.813 Q119.788 818.683 118.145 820.674 Q116.501 822.641 113.469 823.405 Z\" fill=\"#000000\" fill-rule=\"evenodd\" fill-opacity=\"1\" /><path clip-path=\"url(#clip120)\" d=\"M62.9365 603.564 Q59.3254 603.564 57.4967 607.129 Q55.6912 610.67 55.6912 617.8 Q55.6912 624.906 57.4967 628.471 Q59.3254 632.013 62.9365 632.013 Q66.5707 632.013 68.3763 628.471 Q70.205 624.906 70.205 617.8 Q70.205 610.67 68.3763 607.129 Q66.5707 603.564 62.9365 603.564 M62.9365 599.86 Q68.7467 599.86 71.8022 604.467 Q74.8809 609.05 74.8809 617.8 Q74.8809 626.527 71.8022 631.133 Q68.7467 635.716 62.9365 635.716 Q57.1264 635.716 54.0477 631.133 Q50.9921 626.527 50.9921 617.8 Q50.9921 609.05 54.0477 604.467 Q57.1264 599.86 62.9365 599.86 Z\" fill=\"#000000\" fill-rule=\"evenodd\" fill-opacity=\"1\" /><path clip-path=\"url(#clip120)\" d=\"M83.0984 629.166 L87.9827 629.166 L87.9827 635.045 L83.0984 635.045 L83.0984 629.166 Z\" fill=\"#000000\" fill-rule=\"evenodd\" fill-opacity=\"1\" /><path clip-path=\"url(#clip120)\" d=\"M111.015 604.559 L99.2095 623.008 L111.015 623.008 L111.015 604.559 M109.788 600.485 L115.668 600.485 L115.668 623.008 L120.598 623.008 L120.598 626.897 L115.668 626.897 L115.668 635.045 L111.015 635.045 L111.015 626.897 L95.4132 626.897 L95.4132 622.383 L109.788 600.485 Z\" fill=\"#000000\" fill-rule=\"evenodd\" fill-opacity=\"1\" /><path clip-path=\"url(#clip120)\" d=\"M64.418 396.57 Q60.8069 396.57 58.9782 400.134 Q57.1726 403.676 57.1726 410.806 Q57.1726 417.912 58.9782 421.477 Q60.8069 425.018 64.418 425.018 Q68.0522 425.018 69.8578 421.477 Q71.6865 417.912 71.6865 410.806 Q71.6865 403.676 69.8578 400.134 Q68.0522 396.57 64.418 396.57 M64.418 392.866 Q70.2281 392.866 73.2837 397.472 Q76.3624 402.056 76.3624 410.806 Q76.3624 419.532 73.2837 424.139 Q70.2281 428.722 64.418 428.722 Q58.6078 428.722 55.5291 424.139 Q52.4736 419.532 52.4736 410.806 Q52.4736 402.056 55.5291 397.472 Q58.6078 392.866 64.418 392.866 Z\" fill=\"#000000\" fill-rule=\"evenodd\" fill-opacity=\"1\" /><path clip-path=\"url(#clip120)\" d=\"M84.5799 422.171 L89.4641 422.171 L89.4641 428.051 L84.5799 428.051 L84.5799 422.171 Z\" fill=\"#000000\" fill-rule=\"evenodd\" fill-opacity=\"1\" /><path clip-path=\"url(#clip120)\" d=\"M99.6956 393.491 L118.052 393.491 L118.052 397.426 L103.978 397.426 L103.978 405.898 Q104.996 405.551 106.015 405.389 Q107.033 405.204 108.052 405.204 Q113.839 405.204 117.219 408.375 Q120.598 411.546 120.598 416.963 Q120.598 422.542 117.126 425.643 Q113.654 428.722 107.334 428.722 Q105.159 428.722 102.89 428.352 Q100.645 427.981 98.2372 427.241 L98.2372 422.542 Q100.321 423.676 102.543 424.231 Q104.765 424.787 107.242 424.787 Q111.246 424.787 113.584 422.68 Q115.922 420.574 115.922 416.963 Q115.922 413.352 113.584 411.245 Q111.246 409.139 107.242 409.139 Q105.367 409.139 103.492 409.556 Q101.64 409.972 99.6956 410.852 L99.6956 393.491 Z\" fill=\"#000000\" fill-rule=\"evenodd\" fill-opacity=\"1\" /><path clip-path=\"url(#clip120)\" d=\"M63.2606 189.575 Q59.6495 189.575 57.8208 193.14 Q56.0152 196.682 56.0152 203.811 Q56.0152 210.918 57.8208 214.482 Q59.6495 218.024 63.2606 218.024 Q66.8948 218.024 68.7004 214.482 Q70.5291 210.918 70.5291 203.811 Q70.5291 196.682 68.7004 193.14 Q66.8948 189.575 63.2606 189.575 M63.2606 185.872 Q69.0707 185.872 72.1263 190.478 Q75.205 195.061 75.205 203.811 Q75.205 212.538 72.1263 217.145 Q69.0707 221.728 63.2606 221.728 Q57.4504 221.728 54.3717 217.145 Q51.3162 212.538 51.3162 203.811 Q51.3162 195.061 54.3717 190.478 Q57.4504 185.872 63.2606 185.872 Z\" fill=\"#000000\" fill-rule=\"evenodd\" fill-opacity=\"1\" /><path clip-path=\"url(#clip120)\" d=\"M83.4225 215.177 L88.3067 215.177 L88.3067 221.057 L83.4225 221.057 L83.4225 215.177 Z\" fill=\"#000000\" fill-rule=\"evenodd\" fill-opacity=\"1\" /><path clip-path=\"url(#clip120)\" d=\"M109.071 201.913 Q105.922 201.913 104.071 204.066 Q102.242 206.219 102.242 209.969 Q102.242 213.695 104.071 215.871 Q105.922 218.024 109.071 218.024 Q112.219 218.024 114.047 215.871 Q115.899 213.695 115.899 209.969 Q115.899 206.219 114.047 204.066 Q112.219 201.913 109.071 201.913 M118.353 187.26 L118.353 191.52 Q116.594 190.686 114.788 190.247 Q113.006 189.807 111.246 189.807 Q106.617 189.807 104.163 192.932 Q101.733 196.057 101.385 202.376 Q102.751 200.362 104.811 199.297 Q106.871 198.209 109.348 198.209 Q114.557 198.209 117.566 201.381 Q120.598 204.529 120.598 209.969 Q120.598 215.293 117.45 218.51 Q114.302 221.728 109.071 221.728 Q103.075 221.728 99.9039 217.145 Q96.7326 212.538 96.7326 203.811 Q96.7326 195.617 100.621 190.756 Q104.51 185.872 111.061 185.872 Q112.82 185.872 114.603 186.219 Q116.408 186.566 118.353 187.26 Z\" fill=\"#000000\" fill-rule=\"evenodd\" fill-opacity=\"1\" /><polyline clip-path=\"url(#clip122)\" style=\"stroke:#009af9; stroke-linecap:butt; stroke-linejoin:round; stroke-width:4; stroke-opacity:1; fill:none\" points=\"\n",
       "  218.754,887.09 223.812,872.118 228.87,856.394 233.929,839.875 238.987,822.524 262.373,730.525 285.758,617.796 309.144,485.973 332.53,343.741 344.223,274.132 \n",
       "  355.916,209.82 367.608,154.839 379.301,113.682 385.148,99.7444 390.994,90.9969 396.841,87.9763 402.687,91.1736 408.534,101.011 414.38,117.83 420.226,141.872 \n",
       "  426.073,173.262 433.1,220.692 440.127,278.435 447.154,345.887 454.181,422.122 468.234,595.681 482.288,785.897 496.342,976.438 510.396,1150.12 517.423,1225.68 \n",
       "  524.45,1291.53 531.477,1346.44 538.504,1389.54 544.445,1416.43 550.386,1434.53 556.327,1444.02 562.268,1445.28 568.21,1438.86 574.151,1425.49 580.092,1406.02 \n",
       "  586.033,1381.4 609.798,1251.94 633.562,1119.73 640.016,1089.93 646.47,1063.97 652.924,1042.23 659.378,1024.9 665.831,1012.04 672.285,1003.59 678.739,999.343 \n",
       "  685.193,999.032 698.1,1008.77 711.008,1029.53 723.915,1057.84 736.823,1090.45 760.622,1153.11 784.422,1209.99 808.221,1256.22 832.02,1291.34 857.535,1318.7 \n",
       "  883.051,1338.29 908.566,1352.87 934.081,1364.52 993.205,1387.04 1052.33,1407.65 1157.41,1436.23 1249.56,1445.72 1350.03,1436.6 1451.1,1409.61 1506.97,1390.34 \n",
       "  1562.84,1369.58 1616,1344.65 1669.16,1301.14 1696.79,1263.41 1724.43,1211.09 1752.07,1144.49 1779.7,1071.97 1791.34,1044.19 1802.97,1021.05 1814.6,1005.05 \n",
       "  1826.23,998.723 1837.86,1004.4 1849.5,1023.79 1861.13,1057.63 1872.76,1105.29 1886.96,1178.72 1901.16,1261.44 1915.36,1342.13 1929.57,1407.15 1936.67,1429.39 \n",
       "  1943.77,1442.6 1950.87,1445.4 1957.97,1436.72 1965.07,1415.82 1972.17,1382.37 1979.27,1336.46 1986.37,1278.65 1993.05,1214.29 1999.72,1141.39 2006.4,1061.31 \n",
       "  2013.07,975.657 2026.42,794.762 2039.77,613.455 2046.45,527.143 2053.12,445.88 2059.8,371.045 2066.47,303.785 2073.15,244.996 2079.82,195.309 2086.5,155.095 \n",
       "  2093.17,124.47 2098.52,106.789 2103.86,95.0381 2109.21,88.9901 2114.56,88.3498 2119.9,92.7718 2125.25,101.87 2130.6,115.226 2135.94,132.403 2146.64,176.429 \n",
       "  2157.33,230.41 2168.03,291.014 2178.72,355.283 2200.11,485.36 2221.49,606.662 2242.88,712.281 2264.27,800.448 2270.85,824.224 2277.43,846.534 2284.02,867.46 \n",
       "  2290.6,887.09 \n",
       "  \"/>\n",
       "<path clip-path=\"url(#clip120)\" d=\"\n",
       "M1983.1 198.898 L2279.55 198.898 L2279.55 95.2176 L1983.1 95.2176  Z\n",
       "  \" fill=\"#ffffff\" fill-rule=\"evenodd\" fill-opacity=\"1\"/>\n",
       "<polyline clip-path=\"url(#clip120)\" style=\"stroke:#000000; stroke-linecap:butt; stroke-linejoin:round; stroke-width:4; stroke-opacity:1; fill:none\" points=\"\n",
       "  1983.1,198.898 2279.55,198.898 2279.55,95.2176 1983.1,95.2176 1983.1,198.898 \n",
       "  \"/>\n",
       "<polyline clip-path=\"url(#clip120)\" style=\"stroke:#009af9; stroke-linecap:butt; stroke-linejoin:round; stroke-width:4; stroke-opacity:1; fill:none\" points=\"\n",
       "  2007.5,147.058 2153.92,147.058 \n",
       "  \"/>\n",
       "<path clip-path=\"url(#clip120)\" d=\"M2192.16 166.745 Q2190.35 171.375 2188.64 172.787 Q2186.93 174.199 2184.06 174.199 L2180.65 174.199 L2180.65 170.634 L2183.15 170.634 Q2184.91 170.634 2185.89 169.8 Q2186.86 168.967 2188.04 165.865 L2188.8 163.921 L2178.32 138.412 L2182.83 138.412 L2190.93 158.689 L2199.03 138.412 L2203.55 138.412 L2192.16 166.745 Z\" fill=\"#000000\" fill-rule=\"evenodd\" fill-opacity=\"1\" /><path clip-path=\"url(#clip120)\" d=\"M2210.84 160.402 L2218.48 160.402 L2218.48 134.037 L2210.17 135.703 L2210.17 131.444 L2218.43 129.778 L2223.11 129.778 L2223.11 160.402 L2230.75 160.402 L2230.75 164.338 L2210.84 164.338 L2210.84 160.402 Z\" fill=\"#000000\" fill-rule=\"evenodd\" fill-opacity=\"1\" /></svg>\n"
      ]
     },
     "execution_count": 470,
     "metadata": {},
     "output_type": "execute_result"
    }
   ],
   "source": [
    "plot(x->gr([Float32(0.0) Float32(0.0) Float32(x);])^2,-1.0,1.0)"
   ]
  },
  {
   "cell_type": "code",
   "execution_count": 464,
   "id": "300fa597",
   "metadata": {},
   "outputs": [
    {
     "data": {
      "text/plain": [
       "-32.23619130191664"
      ]
     },
     "execution_count": 464,
     "metadata": {},
     "output_type": "execute_result"
    }
   ],
   "source": []
  },
  {
   "cell_type": "code",
   "execution_count": 73,
   "id": "a6708eaa",
   "metadata": {},
   "outputs": [
    {
     "data": {
      "text/plain": [
       "jac_test (generic function with 1 method)"
      ]
     },
     "execution_count": 73,
     "metadata": {},
     "output_type": "execute_result"
    }
   ],
   "source": [
    "jac_test(x, y, z) = [x^2+y-z 2*y*x 1/z]"
   ]
  },
  {
   "cell_type": "code",
   "execution_count": 82,
   "id": "ab844cb6",
   "metadata": {},
   "outputs": [
    {
     "data": {
      "text/plain": [
       "9×9 Matrix{Int64}:\n",
       " 13  16  12   8   2   1  12   2    1\n",
       "  8  28  13   1  10   1   1  14    1\n",
       " 12  26  63   1   2  13   1   2   17\n",
       " 16   4   2  28  20  14  26   4    2\n",
       "  2  20   2  10  47  15   2  30    2\n",
       "  2   4  26  14  30  88   2   4   36\n",
       " 12   2   1  13   2   1  63  26   17\n",
       "  1  14   1   1  15   1  13  88   18\n",
       "  1   2  17   1   2  18  17  36  138"
      ]
     },
     "execution_count": 82,
     "metadata": {},
     "output_type": "execute_result"
    }
   ],
   "source": [
    "#Get J, then the next steps\n",
    "J = Zygote.jacobian(x -> x^3+ x^2 + x^2', [1 2 1; 1 3 1; 1 2 6])[1]"
   ]
  },
  {
   "cell_type": "code",
   "execution_count": 107,
   "id": "02bf3366",
   "metadata": {},
   "outputs": [
    {
     "data": {
      "text/plain": [
       "38781"
      ]
     },
     "execution_count": 107,
     "metadata": {},
     "output_type": "execute_result"
    }
   ],
   "source": [
    "#Seems to be working... for now....\n",
    "#Need to fix the tullio incompatibility for it to work\n",
    "using ForwardDiff\n",
    "\n",
    "#Imagine X are gradients for three points\n",
    "X = [1 2 1; 1 3 1; 1 2 6]\n",
    "\n",
    "function test_f(X)\n",
    "    J = ForwardDiff.jacobian(x -> x^3 + x^2 + x^2', X)\n",
    "    @tullio detJ[i] := J[i,1]*(J[i,5]*J[i,9] - J[i,8]*J[i,6]) - J[i,2]*(J[i,4]*J[i,9]-J[i,7]*J[i,6]) + J[i,3]*(J[i,4]*J[i,8]-J[i,5]*J[i,7])\n",
    "    sum(detJ.^2)\n",
    "end\n",
    "\n",
    "# Critical points: Those where the gradient does not change.\n",
    "# If we have a function from k -> k (point to its gradient):\n",
    "#     The determinant of its Jacobian is 0 when at a critical point\n",
    "#     Therefore, if we square these and sum them, the loss function is minimized\n",
    "#     When every point is a critical point.\n",
    "\n",
    "test_f(X)\n",
    "\n",
    "#@tullio detJ[i] := J[i,1]*(J[i,5]*J[i,9] - J[i,8]*J[i,6]) - J[i,2]*(J[i,4]*J[i,9]-J[i,7]*J[i,6]) + J[i,3]*(J[i,4]*J[i,8]-J[i,5]*J[i,7])"
   ]
  },
  {
   "cell_type": "code",
   "execution_count": 103,
   "id": "a96cce57",
   "metadata": {},
   "outputs": [
    {
     "data": {
      "text/plain": [
       "-32.0"
      ]
     },
     "execution_count": 103,
     "metadata": {},
     "output_type": "execute_result"
    }
   ],
   "source": [
    "det(reshape([13  16  12   8   2   1  12   2    1], 3, 3))"
   ]
  },
  {
   "cell_type": "code",
   "execution_count": 109,
   "id": "b1923be1",
   "metadata": {},
   "outputs": [
    {
     "data": {
      "text/plain": [
       "3×3 Matrix{Float64}:\n",
       " -22572.0  100266.0   3378.0\n",
       "  27912.0  -10566.0  38082.0\n",
       "  24798.0   13056.0  33138.0"
      ]
     },
     "execution_count": 109,
     "metadata": {},
     "output_type": "execute_result"
    }
   ],
   "source": [
    "Zygote.gradient(x -> test_f(x), X)[1]"
   ]
  },
  {
   "cell_type": "code",
   "execution_count": null,
   "id": "dab5590a",
   "metadata": {},
   "outputs": [],
   "source": []
  }
 ],
 "metadata": {
  "kernelspec": {
   "display_name": "Julia 1.6.3",
   "language": "julia",
   "name": "julia-1.6"
  },
  "language_info": {
   "file_extension": ".jl",
   "mimetype": "application/julia",
   "name": "julia",
   "version": "1.6.3"
  }
 },
 "nbformat": 4,
 "nbformat_minor": 5
}
