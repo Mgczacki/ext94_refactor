{
 "cells": [
  {
   "cell_type": "code",
   "execution_count": 26,
   "id": "4fbb9133",
   "metadata": {},
   "outputs": [],
   "source": [
    "filepath = \"test_data/H2.wfn\"\n",
    "\n",
    "include(\"./wfn.jl\");\n",
    "include(\"./ext21.jl\");\n",
    "#TODO: Use precompilation"
   ]
  },
  {
   "cell_type": "code",
   "execution_count": 27,
   "id": "4164f071",
   "metadata": {},
   "outputs": [
    {
     "data": {
      "text/plain": [
       "\"H2_gas\""
      ]
     },
     "execution_count": 27,
     "metadata": {},
     "output_type": "execute_result"
    }
   ],
   "source": [
    "#Struct containing all relevant WFN information\n",
    "f = read_wfn(filepath, device = cpu);\n",
    "f.title"
   ]
  },
  {
   "cell_type": "code",
   "execution_count": 28,
   "id": "e28e2eb8",
   "metadata": {},
   "outputs": [
    {
     "data": {
      "text/plain": [
       "\"optimization\""
      ]
     },
     "execution_count": 28,
     "metadata": {},
     "output_type": "execute_result"
    }
   ],
   "source": [
    "f2 = read_wfx(\"test_data/H2.wfx\", device = cpu);\n",
    "f2.title"
   ]
  },
  {
   "cell_type": "code",
   "execution_count": 29,
   "id": "249a60d0",
   "metadata": {},
   "outputs": [
    {
     "data": {
      "text/plain": [
       "14×18 Matrix{Float32}:\n",
       "  0.0482668     0.0870664     0.128359     …   2.83354f-17   0.020738\n",
       "  0.108083      0.194966      0.287431        -4.44461f-16   0.0560565\n",
       " -0.112172     -0.202343     -0.298307        -1.94244f-14  -0.241326\n",
       " -7.78452f-17  -1.40422f-16  -2.07018f-16      1.26811f-18  -2.53968f-16\n",
       " -6.43044f-15  -1.15996f-14  -1.71008f-14      0.577846      1.14848f-14\n",
       "  0.253624      0.457501      0.674477     …  -6.59412f-16  -0.300979\n",
       "  0.173712      0.313352      0.461964         7.83366f-15  -0.667466\n",
       " -5.39478f-16  -9.73142f-16  -1.43467f-15     -0.919882      1.32992f-15\n",
       "  1.9773f-16    3.56676f-16   5.25835f-16      0.330736     -3.88247f-16\n",
       "  0.212193      0.382766      0.564298        -2.22556f-15   0.124451\n",
       "  0.149458      0.269601      0.397462     …   1.81513f-15  -2.17979\n",
       " -0.0823477    -0.148544     -0.218992         4.90503f-16  -0.920859\n",
       "  0.0478553     0.0863242     0.127265        -7.27137f-16   0.0389374\n",
       " -0.0163285    -0.0294543    -0.0434233       -9.43572f-17   0.00408141"
      ]
     },
     "execution_count": 29,
     "metadata": {},
     "output_type": "execute_result"
    }
   ],
   "source": [
    "f.mo"
   ]
  },
  {
   "cell_type": "code",
   "execution_count": 30,
   "id": "c41a6a7b",
   "metadata": {},
   "outputs": [
    {
     "data": {
      "text/plain": [
       "18"
      ]
     },
     "execution_count": 30,
     "metadata": {},
     "output_type": "execute_result"
    }
   ],
   "source": [
    "f.n_primitives"
   ]
  },
  {
   "cell_type": "code",
   "execution_count": 31,
   "id": "e4d8ab93",
   "metadata": {},
   "outputs": [
    {
     "data": {
      "text/plain": [
       "10×3 Matrix{Float32}:\n",
       " 0.0   0.0   0.0\n",
       " 0.1   0.0   0.7\n",
       " 0.0   0.0  -0.7\n",
       " 0.0   1.0   0.0\n",
       " 1.0  -1.0   0.0\n",
       " 0.4   0.5   0.5\n",
       " 1.0   1.0   1.0\n",
       " 0.0   0.0   0.6\n",
       " 0.0   0.0   0.5\n",
       " 0.0  10.0  10.0"
      ]
     },
     "execution_count": 31,
     "metadata": {},
     "output_type": "execute_result"
    }
   ],
   "source": [
    "#Points to evaluate\n",
    "r⃗ = [0 0 0;\n",
    "     0.1 0 0.7;\n",
    "     0 0 -0.7;\n",
    "     0 1 0;\n",
    "    1 -1 0;\n",
    "    0.4 0.5 0.5;\n",
    "    1 1 1;\n",
    "    0 0 0.6;\n",
    "    0 0 0.5;\n",
    "    0 10 10] .|> Float32 |> cpu\n"
   ]
  },
  {
   "cell_type": "markdown",
   "id": "23f0e491",
   "metadata": {},
   "source": [
    "### Laplacian of electronic density"
   ]
  },
  {
   "cell_type": "code",
   "execution_count": 37,
   "id": "eccec910",
   "metadata": {},
   "outputs": [
    {
     "data": {
      "text/plain": [
       "10-element Vector{Float64}:\n",
       "  -1.0137217054324417\n",
       " -15.352159366450865\n",
       " -25.340914891713506\n",
       "   0.057310950167120546\n",
       "   0.07405967571824977\n",
       "  -0.1402936032508163\n",
       "   0.05404269279051238\n",
       " -14.731390777342668\n",
       "  -4.716604672183271\n",
       "   5.557325309450305e-19"
      ]
     },
     "execution_count": 37,
     "metadata": {},
     "output_type": "execute_result"
    }
   ],
   "source": [
    "get_electronic_density_laplacian(r⃗,f2)"
   ]
  },
  {
   "cell_type": "markdown",
   "id": "8e47d1aa",
   "metadata": {},
   "source": [
    "### Broyden"
   ]
  },
  {
   "cell_type": "code",
   "execution_count": 21,
   "id": "3cfe18ec",
   "metadata": {},
   "outputs": [],
   "source": [
    "#Broyden version. Numerically unstable\n",
    "#Results are different between CPU and GPU\n",
    "function get_change_gradient(dim,∂X,∂Y,∂Z,∂X_prev,∂Y_prev,∂Z_prev)::Float32\n",
    "    dim == 1 ? ∂X-∂X_prev :\n",
    "    dim == 2 ? ∂Y-∂Y_prev :\n",
    "    ∂Z-∂Z_prev\n",
    "end\n",
    "#Code for calculating the critical points of ρ via Broyden's method.\n",
    "# Work in progress\n",
    "#function find_critical_ρ_points(r⃗::AbstractVector, f::WFN; iters = 15, conv_check= 1e-7)\n",
    "    iters = 20\n",
    "    #save copy of r⃗\n",
    "    r⃗_prev = copy(r⃗)\n",
    "    #Assignation of center per primitive\n",
    "    @tullio r⃗_μ[prim,dim] := f.nuclei_pos[f.center_assignments[prim],dim] grad=false\n",
    "    #Difference between each proposed point and each nuclei center assigned to a MO\n",
    "    @tullio Δr⃗[p,dim,r] := r⃗[r,dim] - r⃗_μ[p,dim] grad=false\n",
    "    #Squared distances\n",
    "    sq_dist = dropdims(sum(Δr⃗.^2, dims=2), dims=2)\n",
    "    #Gaussian constant\n",
    "    @tullio c_g[p,r] := get_gaussian_constant(f.type_assignments[p], Δr⃗[p,1,r], Δr⃗[p,2,r], Δr⃗[p,3,r]) grad=false\n",
    "    \n",
    "    @tullio ∂gc∂X[p,r] := get_∂gc∂X(f.type_assignments[p], Δr⃗[p,1,r], Δr⃗[p,2,r], Δr⃗[p,3,r]) grad=false\n",
    "    @tullio ∂gc∂Y[p,r] := get_∂gc∂Y(f.type_assignments[p], Δr⃗[p,1,r], Δr⃗[p,2,r], Δr⃗[p,3,r]) grad=false\n",
    "    @tullio ∂gc∂Z[p,r] := get_∂gc∂Z(f.type_assignments[p], Δr⃗[p,1,r], Δr⃗[p,2,r], Δr⃗[p,3,r]) grad=false\n",
    "\n",
    "    @tullio ∂²gc∂X²[p,r] := get_∂²gc∂X²(f.type_assignments[p], Δr⃗[p,1,r], Δr⃗[p,2,r], Δr⃗[p,3,r]) grad=false\n",
    "    @tullio ∂²gc∂XY[p,r] := get_∂²gc∂XY(f.type_assignments[p], Δr⃗[p,1,r], Δr⃗[p,2,r], Δr⃗[p,3,r]) grad=false\n",
    "    @tullio ∂²gc∂XZ[p,r] := get_∂²gc∂XZ(f.type_assignments[p], Δr⃗[p,1,r], Δr⃗[p,2,r], Δr⃗[p,3,r]) grad=false\n",
    "    @tullio ∂²gc∂Y²[p,r] := get_∂²gc∂Y²(f.type_assignments[p], Δr⃗[p,1,r], Δr⃗[p,2,r], Δr⃗[p,3,r]) grad=false\n",
    "    @tullio ∂²gc∂YZ[p,r] := get_∂²gc∂YZ(f.type_assignments[p], Δr⃗[p,1,r], Δr⃗[p,2,r], Δr⃗[p,3,r]) grad=false\n",
    "    @tullio ∂²gc∂Z²[p,r] := get_∂²gc∂Z²(f.type_assignments[p], Δr⃗[p,1,r], Δr⃗[p,2,r], Δr⃗[p,3,r]) grad=false\n",
    "    \n",
    "    F0 = exp.(-f.exponents .* sq_dist)\n",
    "    toalp = -2.0 * f.exponents\n",
    "    toalpe = toalp .* F0\n",
    "    ∂F∂X = toalpe .* Δr⃗[:,1,:]\n",
    "    ∂F∂Y = toalpe .* Δr⃗[:,2,:]\n",
    "    ∂F∂Z = toalpe .* Δr⃗[:,3,:]\n",
    "    ∂²F∂X² = (toalp .* Δr⃗[:,1,:] .* ∂F∂X) + toalpe\n",
    "    ∂²F∂XY = toalp .* Δr⃗[:,2,:] .* ∂F∂X\n",
    "    ∂²F∂XZ = toalp .* Δr⃗[:,3,:] .* ∂F∂X\n",
    "    ∂²F∂Y² = (toalp .* Δr⃗[:,2,:] .* ∂F∂Y) + toalpe\n",
    "    ∂²F∂YZ = toalp .* Δr⃗[:,3,:] .* ∂F∂Y\n",
    "    ∂²F∂Z² = (toalp .* Δr⃗[:,3,:] .* ∂F∂Z) + toalpe\n",
    "    \n",
    "    Ψ_μ = c_g .* F0\n",
    "    ∂Ψ_μ∂X = ∂gc∂X .* F0 + c_g .* ∂F∂X\n",
    "    ∂Ψ_μ∂Y = ∂gc∂Y .* F0 + c_g .* ∂F∂Y\n",
    "    ∂Ψ_μ∂Z = ∂gc∂Z .* F0 + c_g .* ∂F∂Z\n",
    "    ∂²Ψ_μ∂X² = (∂²gc∂X² .* F0) + (2 * ∂gc∂X .* ∂F∂X) + (c_g .* ∂²F∂X²)\n",
    "    ∂²Ψ_μ∂XY = (∂²gc∂XY .* F0) + (∂gc∂X .* ∂F∂Y) + (∂gc∂Y .* ∂F∂X) + (c_g .* ∂²F∂XY)\n",
    "    ∂²Ψ_μ∂XZ = (∂²gc∂XZ .* F0) + (∂gc∂X .* ∂F∂Z) + (∂gc∂Z .* ∂F∂X) + (c_g .* ∂²F∂XZ)\n",
    "    ∂²Ψ_μ∂Y² = (∂²gc∂Y² .* F0) + (2 * ∂gc∂Y .* ∂F∂Y) + (c_g .* ∂²F∂Y²)\n",
    "    ∂²Ψ_μ∂YZ = (∂²gc∂YZ .* F0) + (∂gc∂Y .* ∂F∂Z) + (∂gc∂Z .* ∂F∂Y) + (c_g .* ∂²F∂YZ)\n",
    "    ∂²Ψ_μ∂Z² = (∂²gc∂Z² .* F0) + (2 * ∂gc∂Z .* ∂F∂Z) + (c_g .* ∂²F∂Z²)\n",
    "\n",
    "    Φ_r = f.mo * Ψ_μ\n",
    "    ∂Φ∂X = f.mo * ∂Ψ_μ∂X\n",
    "    ∂Φ∂Y = f.mo * ∂Ψ_μ∂Y\n",
    "    ∂Φ∂Z = f.mo * ∂Ψ_μ∂Z\n",
    "    ∂²Φ∂X² = f.mo * ∂²Ψ_μ∂X²\n",
    "    ∂²Φ∂XY = f.mo * ∂²Ψ_μ∂XY\n",
    "    ∂²Φ∂XZ = f.mo * ∂²Ψ_μ∂XZ\n",
    "    ∂²Φ∂Y² = f.mo * ∂²Ψ_μ∂Y²\n",
    "    ∂²Φ∂YZ = f.mo * ∂²Ψ_μ∂YZ\n",
    "    ∂²Φ∂Z² = f.mo * ∂²Ψ_μ∂Z²\n",
    "\n",
    "    #ρ = electronic density for proposed points\n",
    "    ρ = transpose(Φ_r.^2) * f.occ_no\n",
    "    #Newton/pseudo-Newton methods optimize 3 equations for 3 variables:\n",
    "    #Variables: X, Y, Z of each point\n",
    "    #Equations: Gradient of ρ at X, Y, Z\n",
    "    ∂ρ∂X = transpose(∂Φ∂X .* Φ_r) * f.occ_no\n",
    "    ∂ρ∂Y = transpose(∂Φ∂Y .* Φ_r) * f.occ_no\n",
    "    ∂ρ∂Z = transpose(∂Φ∂Z .* Φ_r) * f.occ_no\n",
    "    #Newton/pseudo-Newton method need the inverse jacobian of the function to optimize.\n",
    "    #Calculating second derivatives of ρ to obtain the Hessian\n",
    "    ∂²ρ∂X² = 2 * (transpose(∂Φ∂X.^2)  + transpose(∂²Φ∂X² .* Φ_r)) * f.occ_no\n",
    "    ∂²ρ∂XY = 2 * (transpose(∂Φ∂X .* ∂Φ∂Y)  + transpose(∂²Φ∂XY .* Φ_r)) * f.occ_no\n",
    "    ∂²ρ∂XZ = 2 * (transpose(∂Φ∂X .* ∂Φ∂Z)  + transpose(∂²Φ∂XZ .* Φ_r)) * f.occ_no\n",
    "    ∂²ρ∂Y² = 2 * (transpose(∂Φ∂Y.^2) + transpose(∂²Φ∂Y² .* Φ_r)) * f.occ_no\n",
    "    ∂²ρ∂YZ = 2 * (transpose(∂Φ∂Y .* ∂Φ∂Z)  + transpose(∂²Φ∂YZ .* Φ_r)) * f.occ_no\n",
    "    ∂²ρ∂Z² = 2 * (transpose(∂Φ∂Z.^2) + transpose(∂²Φ∂Z² .* Φ_r)) * f.occ_no\n",
    "\n",
    "    #Generating the inverse of the Hessian of ρ by determinants/cofactors\n",
    "    #Evaluating as a single expression because of speed.\n",
    "    #Otherwise launches multiple kernels, which is slower than simply repeating the operation\n",
    "    @tullio inv_H[m,n,p] := generate_Y_matrix_el(m, n, ∂²ρ∂X²[p],\n",
    "        ∂²ρ∂XY[p],\n",
    "        ∂²ρ∂XZ[p],\n",
    "        ∂²ρ∂Y²[p],\n",
    "        ∂²ρ∂YZ[p],\n",
    "        ∂²ρ∂Z²[p]) / (∂²ρ∂X²[p] * generate_Y_matrix_el(1, 1, ∂²ρ∂X²[p],\n",
    "        ∂²ρ∂XY[p],\n",
    "        ∂²ρ∂XZ[p],\n",
    "        ∂²ρ∂Y²[p],\n",
    "        ∂²ρ∂YZ[p],\n",
    "        ∂²ρ∂Z²[p]) + ∂²ρ∂XY[p] * generate_Y_matrix_el(2, 1, ∂²ρ∂X²[p],\n",
    "        ∂²ρ∂XY[p],\n",
    "        ∂²ρ∂XZ[p],\n",
    "        ∂²ρ∂Y²[p],\n",
    "        ∂²ρ∂YZ[p],\n",
    "        ∂²ρ∂Z²[p]) + ∂²ρ∂XZ[p] * generate_Y_matrix_el(3, 1, ∂²ρ∂X²[p],\n",
    "        ∂²ρ∂XY[p],\n",
    "        ∂²ρ∂XZ[p],\n",
    "        ∂²ρ∂Y²[p],\n",
    "        ∂²ρ∂YZ[p],\n",
    "        ∂²ρ∂Z²[p])) (m in 1:3, n in 1:3) grad=false\n",
    "\n",
    "    \n",
    "    #Try and update inv_H, if iter != 1\n",
    "    for iter in 1:iters\n",
    "        if iter != 1\n",
    "            #Save last gradients\n",
    "            ∂ρ∂X_prev = copy(∂ρ∂X)\n",
    "            ∂ρ∂Y_prev = copy(∂ρ∂Y)\n",
    "            ∂ρ∂Z_prev = copy(∂ρ∂Z)\n",
    "            #Calculate new gradients\n",
    "            @tullio Δr⃗[p,dim,r] = r⃗[r,dim] - r⃗_μ[p,dim] grad=false\n",
    "            #Squared distances\n",
    "            sq_dist = dropdims(sum(Δr⃗.^2, dims=2), dims=2)\n",
    "            #Gaussian constant\n",
    "            @tullio c_g[p,r] = get_gaussian_constant(f.type_assignments[p], Δr⃗[p,1,r], Δr⃗[p,2,r], Δr⃗[p,3,r]) grad=false\n",
    "            @tullio ∂gc∂X[p,r] = get_∂gc∂X(f.type_assignments[p], Δr⃗[p,1,r], Δr⃗[p,2,r], Δr⃗[p,3,r]) grad=false\n",
    "            @tullio ∂gc∂Y[p,r] = get_∂gc∂Y(f.type_assignments[p], Δr⃗[p,1,r], Δr⃗[p,2,r], Δr⃗[p,3,r]) grad=false\n",
    "            @tullio ∂gc∂Z[p,r] = get_∂gc∂Z(f.type_assignments[p], Δr⃗[p,1,r], Δr⃗[p,2,r], Δr⃗[p,3,r]) grad=false\n",
    "\n",
    "            ∂F∂X = -2.0 * f.exponents .* exp.(-f.exponents .* sq_dist) .* Δr⃗[:,1,:]\n",
    "            ∂F∂Y = -2.0 * f.exponents .* exp.(-f.exponents .* sq_dist) .* Δr⃗[:,2,:]\n",
    "            ∂F∂Z = -2.0 * f.exponents .* exp.(-f.exponents .* sq_dist) .* Δr⃗[:,3,:]\n",
    "\n",
    "            Ψ_μ = c_g .* exp.(-f.exponents .* sq_dist)\n",
    "            ∂Ψ_μ∂X = ∂gc∂X .* exp.(-f.exponents .* sq_dist) + c_g .* ∂F∂X\n",
    "            ∂Ψ_μ∂Y = ∂gc∂Y .* exp.(-f.exponents .* sq_dist) + c_g .* ∂F∂Y\n",
    "            ∂Ψ_μ∂Z = ∂gc∂Z .* exp.(-f.exponents .* sq_dist) + c_g .* ∂F∂Z\n",
    "\n",
    "            Φ_r = f.mo * Ψ_μ\n",
    "            ∂Φ∂X = f.mo * ∂Ψ_μ∂X\n",
    "            ∂Φ∂Y = f.mo * ∂Ψ_μ∂Y\n",
    "            ∂Φ∂Z = f.mo * ∂Ψ_μ∂Z\n",
    "\n",
    "            ∂ρ∂X = transpose(∂Φ∂X .* Φ_r) * f.occ_no\n",
    "            ∂ρ∂Y = transpose(∂Φ∂Y .* Φ_r) * f.occ_no\n",
    "            ∂ρ∂Z = transpose(∂Φ∂Z .* Φ_r) * f.occ_no\n",
    "\n",
    "            #Calculate change in proposed points, output gradients\n",
    "            Δprop = r⃗-r⃗_prev\n",
    "            @tullio Δ∂ρ[p,dim] := get_change_gradient(dim,\n",
    "                                                      ∂ρ∂X[p],\n",
    "                                                      ∂ρ∂Y[p],\n",
    "                                                      ∂ρ∂Z[p],\n",
    "                                                      ∂ρ∂X_prev[p],\n",
    "                                                      ∂ρ∂Y_prev[p],\n",
    "                                                      ∂ρ∂Z_prev[p]) (dim in 1:3) grad=false\n",
    "            #Update inverse hessian\n",
    "            @tullio constant[p] := Δprop[p,j] * inv_H[j,i,p] * Δ∂ρ[p,i] grad=false\n",
    "            #Broyden update step as a tullio expression:\n",
    "            #For a point p, let:\n",
    "            #A = Δprop' - inv_H*(Δ∂ρ')\n",
    "            #M = A*Δprop\n",
    "            #M*inv_H/const is the Broyden update step, so:\n",
    "            #inv_H[m,n] += inv_H[:,n]⋅M[m,:]\n",
    "            #M[m,:] = A[m]*Δprop\n",
    "            #So:\n",
    "            #inv_H[m,n] += A[m]*(inv_H[:,n]⋅Δprop)\n",
    "            # A[m] = Δprop[m] - (inv_H[m,:] ⋅ Δ∂ρ)\n",
    "            #So the final expression is:\n",
    "            #inv_H[m,n] += (Δprop[m] - (inv_H[m,:] ⋅ Δ∂ρ))*(inv_H[:,n]⋅Δprop)/constant\n",
    "            @tullio inv_H[m,n,p] += (inv_H[1,n,p]*Δprop[p,1] + inv_H[2,n,p]*Δprop[p,2] + inv_H[3,n,p]*Δprop[p,3]) * (Δprop[p,m] - (inv_H[m,1,p]*Δ∂ρ[p,1]+inv_H[m,2,p]*Δ∂ρ[p,2]+inv_H[m,3,p]*Δ∂ρ[p,3])) / constant[p] grad = false\n",
    "        end\n",
    "        r⃗_prev = copy(r⃗)\n",
    "        @tullio r⃗[p,dim] += -inv_H[dim,1,p] * ∂ρ∂X[p] - inv_H[dim,2,p] * ∂ρ∂Y[p] - inv_H[dim,3,p] * ∂ρ∂Z[p]\n",
    "    end\n",
    "    #Update points\n"
   ]
  },
  {
   "cell_type": "code",
   "execution_count": 22,
   "id": "54125a48",
   "metadata": {},
   "outputs": [
    {
     "data": {
      "text/plain": [
       "10×3 Matrix{Float32}:\n",
       " -1.10328f-17   1.11544f-16   2.3029f-13\n",
       " -7.73465f-5    7.04789f-18   0.670787\n",
       "  9.64613f-19   1.21091f-17  -0.670376\n",
       "  5.20869f-18   2.30317       5.48578f-16\n",
       "  1.74753      -1.90587      -1.72873f-16\n",
       "  1.14744       1.54877      -0.206347\n",
       "  1.65457       1.76259       1.4466\n",
       " -1.66219f-18   6.95621f-18   0.670376\n",
       " -3.75224f-18   7.25564f-17   0.00158873\n",
       "  0.0          10.9305       11.1636"
      ]
     },
     "execution_count": 22,
     "metadata": {},
     "output_type": "execute_result"
    }
   ],
   "source": [
    "r⃗"
   ]
  },
  {
   "cell_type": "code",
   "execution_count": 17,
   "id": "4b0bf46b",
   "metadata": {},
   "outputs": [
    {
     "data": {
      "text/plain": [
       "10×3 Matrix{Float32}:\n",
       " 0.0   0.0   0.0\n",
       " 0.1   0.0   0.7\n",
       " 0.0   0.0  -0.7\n",
       " 0.0   1.0   0.0\n",
       " 1.0  -1.0   0.0\n",
       " 0.4   0.5   0.5\n",
       " 1.0   1.0   1.0\n",
       " 0.0   0.0   0.6\n",
       " 0.0   0.0   0.5\n",
       " 0.0  10.0  10.0"
      ]
     },
     "execution_count": 17,
     "metadata": {},
     "output_type": "execute_result"
    }
   ],
   "source": [
    "#Points to evaluate\n",
    "r⃗ = [0 0 0;\n",
    "     0.1 0 0.7;\n",
    "     0 0 -0.7;\n",
    "     0 1 0;\n",
    "    1 -1 0;\n",
    "    0.4 0.5 0.5;\n",
    "    1 1 1;\n",
    "    0 0 0.6;\n",
    "    0 0 0.5;\n",
    "    0 10 10] .|> Float32 |> cpu"
   ]
  },
  {
   "cell_type": "markdown",
   "id": "76494ad4",
   "metadata": {},
   "source": [
    "### Newton-Raphson"
   ]
  },
  {
   "cell_type": "code",
   "execution_count": 18,
   "id": "dfc729c1",
   "metadata": {},
   "outputs": [
    {
     "data": {
      "text/plain": [
       "find_critical_ρ_points (generic function with 1 method)"
      ]
     },
     "execution_count": 18,
     "metadata": {},
     "output_type": "execute_result"
    }
   ],
   "source": [
    "#Newton-Raphson method\n",
    "# Work in progress\n",
    "#TODO: \n",
    "    #Check what kind of critical point was found\n",
    "    #Tell the user which points converged, which diverged\n",
    "function find_critical_ρ_points(r⃗, f::WFN; iters = 15, conv_check= 1e-7)\n",
    "    #To allow us to acces Φ_r outside the loop's scope\n",
    "    Φ_r = NaN\n",
    "    for i in 1:iters\n",
    "    #Assignation of center per primitive\n",
    "        @tullio r⃗_μ[prim,dim] := f.nuclei_pos[f.center_assignments[prim],dim] grad=false\n",
    "        #Difference between each proposed point and each nuclei center assigned to a MO\n",
    "        @tullio Δr⃗[p,dim,r] := r⃗[r,dim] - r⃗_μ[p,dim] grad=false\n",
    "        #Squared distances\n",
    "        sq_dist = dropdims(sum(Δr⃗.^2, dims=2), dims=2)\n",
    "        #Gaussian constant\n",
    "        @tullio c_g[p,r] := get_gaussian_constant(f.type_assignments[p], Δr⃗[p,1,r], Δr⃗[p,2,r], Δr⃗[p,3,r]) grad=false\n",
    "\n",
    "        @tullio ∂gc∂X[p,r] := get_∂gc∂X(f.type_assignments[p], Δr⃗[p,1,r], Δr⃗[p,2,r], Δr⃗[p,3,r]) grad=false\n",
    "        @tullio ∂gc∂Y[p,r] := get_∂gc∂Y(f.type_assignments[p], Δr⃗[p,1,r], Δr⃗[p,2,r], Δr⃗[p,3,r]) grad=false\n",
    "        @tullio ∂gc∂Z[p,r] := get_∂gc∂Z(f.type_assignments[p], Δr⃗[p,1,r], Δr⃗[p,2,r], Δr⃗[p,3,r]) grad=false\n",
    "\n",
    "        @tullio ∂²gc∂X²[p,r] := get_∂²gc∂X²(f.type_assignments[p], Δr⃗[p,1,r], Δr⃗[p,2,r], Δr⃗[p,3,r]) grad=false\n",
    "        @tullio ∂²gc∂XY[p,r] := get_∂²gc∂XY(f.type_assignments[p], Δr⃗[p,1,r], Δr⃗[p,2,r], Δr⃗[p,3,r]) grad=false\n",
    "        @tullio ∂²gc∂XZ[p,r] := get_∂²gc∂XZ(f.type_assignments[p], Δr⃗[p,1,r], Δr⃗[p,2,r], Δr⃗[p,3,r]) grad=false\n",
    "        @tullio ∂²gc∂Y²[p,r] := get_∂²gc∂Y²(f.type_assignments[p], Δr⃗[p,1,r], Δr⃗[p,2,r], Δr⃗[p,3,r]) grad=false\n",
    "        @tullio ∂²gc∂YZ[p,r] := get_∂²gc∂YZ(f.type_assignments[p], Δr⃗[p,1,r], Δr⃗[p,2,r], Δr⃗[p,3,r]) grad=false\n",
    "        @tullio ∂²gc∂Z²[p,r] := get_∂²gc∂Z²(f.type_assignments[p], Δr⃗[p,1,r], Δr⃗[p,2,r], Δr⃗[p,3,r]) grad=false\n",
    "\n",
    "        F0 = exp.(-f.exponents .* sq_dist)\n",
    "        toalp = -2.0 * f.exponents\n",
    "        toalpe = toalp .* F0\n",
    "        ∂F∂X = toalpe .* Δr⃗[:,1,:]\n",
    "        ∂F∂Y = toalpe .* Δr⃗[:,2,:]\n",
    "        ∂F∂Z = toalpe .* Δr⃗[:,3,:]\n",
    "        ∂²F∂X² = (toalp .* Δr⃗[:,1,:] .* ∂F∂X) + toalpe\n",
    "        ∂²F∂XY = toalp .* Δr⃗[:,2,:] .* ∂F∂X\n",
    "        ∂²F∂XZ = toalp .* Δr⃗[:,3,:] .* ∂F∂X\n",
    "        ∂²F∂Y² = (toalp .* Δr⃗[:,2,:] .* ∂F∂Y) + toalpe\n",
    "        ∂²F∂YZ = toalp .* Δr⃗[:,3,:] .* ∂F∂Y\n",
    "        ∂²F∂Z² = (toalp .* Δr⃗[:,3,:] .* ∂F∂Z) + toalpe\n",
    "\n",
    "        Ψ_μ = c_g .* F0\n",
    "        ∂Ψ_μ∂X = ∂gc∂X .* F0 + c_g .* ∂F∂X\n",
    "        ∂Ψ_μ∂Y = ∂gc∂Y .* F0 + c_g .* ∂F∂Y\n",
    "        ∂Ψ_μ∂Z = ∂gc∂Z .* F0 + c_g .* ∂F∂Z\n",
    "        ∂²Ψ_μ∂X² = (∂²gc∂X² .* F0) + (2 * ∂gc∂X .* ∂F∂X) + (c_g .* ∂²F∂X²)\n",
    "        ∂²Ψ_μ∂XY = (∂²gc∂XY .* F0) + (∂gc∂X .* ∂F∂Y) + (∂gc∂Y .* ∂F∂X) + (c_g .* ∂²F∂XY)\n",
    "        ∂²Ψ_μ∂XZ = (∂²gc∂XZ .* F0) + (∂gc∂X .* ∂F∂Z) + (∂gc∂Z .* ∂F∂X) + (c_g .* ∂²F∂XZ)\n",
    "        ∂²Ψ_μ∂Y² = (∂²gc∂Y² .* F0) + (2 * ∂gc∂Y .* ∂F∂Y) + (c_g .* ∂²F∂Y²)\n",
    "        ∂²Ψ_μ∂YZ = (∂²gc∂YZ .* F0) + (∂gc∂Y .* ∂F∂Z) + (∂gc∂Z .* ∂F∂Y) + (c_g .* ∂²F∂YZ)\n",
    "        ∂²Ψ_μ∂Z² = (∂²gc∂Z² .* F0) + (2 * ∂gc∂Z .* ∂F∂Z) + (c_g .* ∂²F∂Z²)\n",
    "\n",
    "        Φ_r = f.mo * Ψ_μ\n",
    "        ∂Φ∂X = f.mo * ∂Ψ_μ∂X\n",
    "        ∂Φ∂Y = f.mo * ∂Ψ_μ∂Y\n",
    "        ∂Φ∂Z = f.mo * ∂Ψ_μ∂Z\n",
    "        ∂²Φ∂X² = f.mo * ∂²Ψ_μ∂X²\n",
    "        ∂²Φ∂XY = f.mo * ∂²Ψ_μ∂XY\n",
    "        ∂²Φ∂XZ = f.mo * ∂²Ψ_μ∂XZ\n",
    "        ∂²Φ∂Y² = f.mo * ∂²Ψ_μ∂Y²\n",
    "        ∂²Φ∂YZ = f.mo * ∂²Ψ_μ∂YZ\n",
    "        ∂²Φ∂Z² = f.mo * ∂²Ψ_μ∂Z²\n",
    "\n",
    "        #ρ = electronic density for proposed points\n",
    "        #ρ = transpose(Φ_r.^2) * f.occ_no\n",
    "        \n",
    "        #Newton/pseudo-Newton methods optimize 3 equations for 3 variables:\n",
    "        #Variables: X, Y, Z of each point\n",
    "        #Equations: Gradient of ρ at X, Y, Z\n",
    "        ∂ρ∂X = transpose(∂Φ∂X .* Φ_r) * f.occ_no\n",
    "        ∂ρ∂Y = transpose(∂Φ∂Y .* Φ_r) * f.occ_no\n",
    "        ∂ρ∂Z = transpose(∂Φ∂Z .* Φ_r) * f.occ_no\n",
    "        #Newton/pseudo-Newton method need the inverse jacobian of the function to optimize.\n",
    "        #Calculating second derivatives of ρ to obtain the Hessian\n",
    "        ∂²ρ∂X² = 2 * (transpose(∂Φ∂X.^2)  + transpose(∂²Φ∂X² .* Φ_r)) * f.occ_no\n",
    "        ∂²ρ∂XY = 2 * (transpose(∂Φ∂X .* ∂Φ∂Y)  + transpose(∂²Φ∂XY .* Φ_r)) * f.occ_no\n",
    "        ∂²ρ∂XZ = 2 * (transpose(∂Φ∂X .* ∂Φ∂Z)  + transpose(∂²Φ∂XZ .* Φ_r)) * f.occ_no\n",
    "        ∂²ρ∂Y² = 2 * (transpose(∂Φ∂Y.^2) + transpose(∂²Φ∂Y² .* Φ_r)) * f.occ_no\n",
    "        ∂²ρ∂YZ = 2 * (transpose(∂Φ∂Y .* ∂Φ∂Z)  + transpose(∂²Φ∂YZ .* Φ_r)) * f.occ_no\n",
    "        ∂²ρ∂Z² = 2 * (transpose(∂Φ∂Z.^2) + transpose(∂²Φ∂Z² .* Φ_r)) * f.occ_no\n",
    "\n",
    "        #Generating the inverse of the Hessian of ρ by determinants/cofactors\n",
    "        #Evaluating as a single expression because of speed.\n",
    "        #Otherwise launches multiple kernels, which is slower than simply repeating the operation\n",
    "        @tullio inv_H[m,n,p] := generate_Y_matrix_el(m, n, ∂²ρ∂X²[p],\n",
    "            ∂²ρ∂XY[p],\n",
    "            ∂²ρ∂XZ[p],\n",
    "            ∂²ρ∂Y²[p],\n",
    "            ∂²ρ∂YZ[p],\n",
    "            ∂²ρ∂Z²[p]) / (∂²ρ∂X²[p] * generate_Y_matrix_el(1, 1, ∂²ρ∂X²[p],\n",
    "            ∂²ρ∂XY[p],\n",
    "            ∂²ρ∂XZ[p],\n",
    "            ∂²ρ∂Y²[p],\n",
    "            ∂²ρ∂YZ[p],\n",
    "            ∂²ρ∂Z²[p]) + ∂²ρ∂XY[p] * generate_Y_matrix_el(2, 1, ∂²ρ∂X²[p],\n",
    "            ∂²ρ∂XY[p],\n",
    "            ∂²ρ∂XZ[p],\n",
    "            ∂²ρ∂Y²[p],\n",
    "            ∂²ρ∂YZ[p],\n",
    "            ∂²ρ∂Z²[p]) + ∂²ρ∂XZ[p] * generate_Y_matrix_el(3, 1, ∂²ρ∂X²[p],\n",
    "            ∂²ρ∂XY[p],\n",
    "            ∂²ρ∂XZ[p],\n",
    "            ∂²ρ∂Y²[p],\n",
    "            ∂²ρ∂YZ[p],\n",
    "            ∂²ρ∂Z²[p])) (m in 1:3, n in 1:3) grad=false\n",
    "\n",
    "        @tullio r⃗[p,dim] += -inv_H[dim,1,p] * ∂ρ∂X[p] - inv_H[dim,2,p] * ∂ρ∂Y[p] - inv_H[dim,3,p] * ∂ρ∂Z[p]\n",
    "    end\n",
    "    r⃗, transpose(Φ_r.^2) * f.occ_no\n",
    "end"
   ]
  },
  {
   "cell_type": "code",
   "execution_count": 19,
   "id": "a496ef30",
   "metadata": {},
   "outputs": [
    {
     "data": {
      "text/plain": [
       "(Float32[-2.7772922f-18 1.1174581f-16 5.467542f-16; -8.218856f-7 7.153466f-18 0.6703762; … ; -2.7772912f-18 1.1174297f-16 2.1523778f-5; 0.0 12.557076 12.410515], [0.2637181253318364, 0.41073043323513675, 0.4107304399588434, 6.173388290206454e-5, 2.9519711460075918e-5, 0.00011567759997437384, 1.9402665179327345e-5, 0.4107304343738148, 0.26371813522410353, 3.3823507507632224e-16])"
      ]
     },
     "execution_count": 19,
     "metadata": {},
     "output_type": "execute_result"
    }
   ],
   "source": [
    "r⃗_found, ρ = find_critical_ρ_points(r⃗, f)"
   ]
  },
  {
   "cell_type": "code",
   "execution_count": 20,
   "id": "72ed9500",
   "metadata": {},
   "outputs": [
    {
     "data": {
      "text/plain": [
       "10×3 Matrix{Float32}:\n",
       " -2.77729f-18   1.11746f-16   5.46754f-16\n",
       " -8.21886f-7    7.15347f-18   0.670376\n",
       "  9.64199f-19   1.21076f-17  -0.670377\n",
       "  1.59395f-17   4.45761       2.72123f-16\n",
       "  3.40471      -3.40471      -9.35475f-17\n",
       "  2.57315       3.21644       0.532813\n",
       "  3.18416       3.18416       2.3226\n",
       " -1.6956f-18    7.15339f-18   0.670375\n",
       " -2.77729f-18   1.11743f-16   2.15238f-5\n",
       "  0.0          12.5571       12.4105"
      ]
     },
     "execution_count": 20,
     "metadata": {},
     "output_type": "execute_result"
    }
   ],
   "source": [
    "r⃗_found"
   ]
  },
  {
   "cell_type": "code",
   "execution_count": 21,
   "id": "b048194a",
   "metadata": {},
   "outputs": [
    {
     "data": {
      "text/plain": [
       "10-element Vector{Float64}:\n",
       " 0.2637181253318364\n",
       " 0.41073043323513675\n",
       " 0.4107304399588434\n",
       " 6.173388290206454e-5\n",
       " 2.9519711460075918e-5\n",
       " 0.00011567759997437384\n",
       " 1.9402665179327345e-5\n",
       " 0.4107304343738148\n",
       " 0.26371813522410353\n",
       " 3.3823507507632224e-16"
      ]
     },
     "execution_count": 21,
     "metadata": {},
     "output_type": "execute_result"
    }
   ],
   "source": [
    "ρ"
   ]
  },
  {
   "cell_type": "markdown",
   "id": "e6bc080f",
   "metadata": {},
   "source": [
    "#### Test with GPU"
   ]
  },
  {
   "cell_type": "code",
   "execution_count": 91,
   "id": "7128e962",
   "metadata": {},
   "outputs": [
    {
     "name": "stdout",
     "output_type": "stream",
     "text": [
      "  4.995 s (10501234 allocations: 322.30 MiB)\n"
     ]
    },
    {
     "data": {
      "text/plain": [
       "(Float32[-0.04006796 -0.025019078 1.2399396; -0.04006796 -0.025019078 1.2399396; … ; -0.040067956 -0.025019074 1.2399393; 2.2730927 -0.032838367 1.3250797], Float32[0.30872256, 0.30872256, 0.30872262, 1.4113541f-16, 0.30872256, 9.767692f-15, 2.0635456f-19, NaN, 0.02077407, NaN  …  0.02077407, 1.8390856f-19, 1.0121274f-14, 0.020774059, 0.02077407, 0.2992517, 0.30872262, 4.530843f-15, 0.30872262, 0.020774059])"
      ]
     },
     "execution_count": 91,
     "metadata": {},
     "output_type": "execute_result"
    }
   ],
   "source": [
    "using BenchmarkTools\n",
    "\n",
    "f = read_wfn(filepath, device = gpu);\n",
    "r⃗ = CUDA.rand(10_000,3)\n",
    "\n",
    "@btime find_critical_ρ_points(r⃗, f)"
   ]
  },
  {
   "cell_type": "code",
   "execution_count": 93,
   "id": "d498e9fa",
   "metadata": {},
   "outputs": [
    {
     "data": {
      "text/plain": [
       "10000×3 CuArray{Float32, 2, CUDA.Mem.DeviceBuffer}:\n",
       "  -0.040068   -0.0250191     1.23994\n",
       "  -0.040068   -0.0250191     1.23994\n",
       "  -0.040068   -0.0250191     1.23994\n",
       "   0.44936    24.4526        7.23946\n",
       "  -0.040068   -0.0250191     1.23994\n",
       "   5.08533   -22.5912        1.90817\n",
       "   4.77658    17.3459       27.0953\n",
       " NaN         NaN           NaN\n",
       "   2.27309    -0.0328383     1.32508\n",
       " NaN         NaN           NaN\n",
       "   3.61948    22.5728       -9.47456\n",
       "   1.14725    -0.00723022   -0.696688\n",
       "  -0.040068   -0.0250191     1.23994\n",
       "   ⋮                       \n",
       "   2.27309    -0.0328383     1.32508\n",
       "  -0.040068   -0.0250191     1.23994\n",
       "   2.27309    -0.0328383     1.32508\n",
       " NaN         NaN           NaN\n",
       "   4.91356    22.6413       -1.36351\n",
       "   2.27309    -0.0328384     1.32508\n",
       "   2.27309    -0.0328383     1.32508\n",
       "   1.14725    -0.00723022   -0.696688\n",
       "  -0.040068   -0.0250191     1.23994\n",
       "   5.28722    22.7659        1.22238\n",
       "  -0.040068   -0.0250191     1.23994\n",
       "   2.27309    -0.0328384     1.32508"
      ]
     },
     "execution_count": 93,
     "metadata": {},
     "output_type": "execute_result"
    }
   ],
   "source": [
    "r⃗_found, ρ = find_critical_ρ_points(r⃗, f);\n",
    "r⃗_found"
   ]
  },
  {
   "cell_type": "code",
   "execution_count": 94,
   "id": "6eb749c5",
   "metadata": {},
   "outputs": [
    {
     "data": {
      "text/plain": [
       "10000-element CuArray{Float32, 1, CUDA.Mem.DeviceBuffer}:\n",
       "   0.30872256\n",
       "   0.30872256\n",
       "   0.30872262\n",
       "   7.303408f-23\n",
       "   0.30872256\n",
       "   2.1211922f-21\n",
       "   5.75133f-23\n",
       " NaN\n",
       "   0.02077407\n",
       " NaN\n",
       "   5.7594542f-21\n",
       "   0.2992517\n",
       "   0.30872256\n",
       "   ⋮\n",
       "   0.020774068\n",
       "   0.30872256\n",
       "   0.02077407\n",
       " NaN\n",
       "   2.0414646f-21\n",
       "   0.020774059\n",
       "   0.02077407\n",
       "   0.2992517\n",
       "   0.30872262\n",
       "   9.393425f-22\n",
       "   0.30872262\n",
       "   0.020774059"
      ]
     },
     "execution_count": 94,
     "metadata": {},
     "output_type": "execute_result"
    }
   ],
   "source": [
    "ρ"
   ]
  },
  {
   "cell_type": "markdown",
   "id": "eb4a1c7f",
   "metadata": {},
   "source": [
    "#### Test with CPU"
   ]
  },
  {
   "cell_type": "code",
   "execution_count": 95,
   "id": "084a22a2",
   "metadata": {},
   "outputs": [
    {
     "name": "stdout",
     "output_type": "stream",
     "text": [
      "  38.260 s (8170 allocations: 71.68 GiB)\n"
     ]
    },
    {
     "data": {
      "text/plain": [
       "(Float32[1.1472485 -0.007230365 -0.6966878; NaN NaN NaN; … ; 2.2730925 -0.03283799 1.3250792; -0.40643695 18.199875 2.4377787], [0.2992517536622811, NaN, 0.0207740855890442, 0.02077408170390762, 0.2950741111159268, 0.30872276364983486, 0.02077409089898389, 0.3087227500873072, 6.152471264373983e-15, 0.30872275005146566  …  2.403474847625511e-13, 2.2986621685320255e-15, 5.589825450885418e-16, 0.020774090898161745, 9.417703438741257e-15, 4.47024548858571e-15, 2.7548219673263433e-14, 1.1100331681083055e-13, 0.020774085589044207, 5.80228745789714e-15])"
      ]
     },
     "execution_count": 95,
     "metadata": {},
     "output_type": "execute_result"
    }
   ],
   "source": [
    "f = read_wfn(filepath, device = cpu);\n",
    "r⃗ = rand(Float32, 10_000, 3)\n",
    "\n",
    "@btime find_critical_ρ_points(r⃗, f)"
   ]
  },
  {
   "cell_type": "markdown",
   "id": "0a46a282",
   "metadata": {},
   "source": [
    "### Other helper functions"
   ]
  },
  {
   "cell_type": "code",
   "execution_count": 96,
   "id": "26aad543",
   "metadata": {},
   "outputs": [
    {
     "data": {
      "text/plain": [
       "10000-element Vector{Float64}:\n",
       "   0.2992517536622811\n",
       " NaN\n",
       "   0.0207740855890442\n",
       "   0.02077408170390762\n",
       "   0.2950741111159268\n",
       "   0.30872276364983486\n",
       "   0.02077409089898389\n",
       "   0.3087227500873072\n",
       "   3.6506818963893095e-15\n",
       "   0.30872275005146566\n",
       "   0.02077409089898389\n",
       "   0.30872275005146566\n",
       "   9.743082871710655e-17\n",
       "   ⋮\n",
       "   0.29925174559637735\n",
       "   0.30872276364983486\n",
       "   1.422751213499517e-13\n",
       "   1.3745147299920554e-15\n",
       "   3.3449720081520977e-16\n",
       "   0.020774090898161745\n",
       "   5.594778829369104e-15\n",
       "   2.668668504691964e-15\n",
       "   1.643504744588627e-14\n",
       "   6.652606478825662e-14\n",
       "   0.020774085589044207\n",
       "   3.4770282946194578e-15"
      ]
     },
     "execution_count": 96,
     "metadata": {},
     "output_type": "execute_result"
    }
   ],
   "source": [
    "#Calculate ρ for the n points in r⃗\n",
    "get_electronic_density(r⃗, f)"
   ]
  },
  {
   "cell_type": "code",
   "execution_count": 97,
   "id": "0704c369",
   "metadata": {},
   "outputs": [
    {
     "data": {
      "text/plain": [
       "NaN"
      ]
     },
     "execution_count": 97,
     "metadata": {},
     "output_type": "execute_result"
    }
   ],
   "source": [
    "#Loss function for gradient descent. Not recommended.\n",
    "get_sum_squared_gradients(r⃗, f)"
   ]
  },
  {
   "cell_type": "code",
   "execution_count": null,
   "id": "bafa9751",
   "metadata": {},
   "outputs": [],
   "source": [
    "#Unstable and outdated method using gradient descent. Do not execute\n",
    "#p, ρ = find_points(r⃗, f, iters=100, η = 0.05)"
   ]
  }
 ],
 "metadata": {
  "kernelspec": {
   "display_name": "Julia 1.6.3",
   "language": "julia",
   "name": "julia-1.6"
  },
  "language_info": {
   "file_extension": ".jl",
   "mimetype": "application/julia",
   "name": "julia",
   "version": "1.6.3"
  }
 },
 "nbformat": 4,
 "nbformat_minor": 5
}
