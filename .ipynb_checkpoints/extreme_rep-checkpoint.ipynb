{
 "cells": [
  {
   "cell_type": "code",
   "execution_count": 23,
   "id": "4fbb9133",
   "metadata": {},
   "outputs": [],
   "source": [
    "filepath = \"test_data/S1-4PPdm.wfn\"\n",
    "\n",
    "include(\"./wfn.jl\");\n",
    "include(\"./ext21.jl\");\n",
    "#TODO: Use precompilation"
   ]
  },
  {
   "cell_type": "code",
   "execution_count": 24,
   "id": "4164f071",
   "metadata": {},
   "outputs": [
    {
     "data": {
      "text/plain": [
       "\"S1_4PP_DMF\""
      ]
     },
     "execution_count": 24,
     "metadata": {},
     "output_type": "execute_result"
    }
   ],
   "source": [
    "#Struct containing all relevant WFN information\n",
    "f = read_wfn(filepath, device = cpu);\n",
    "f.mol_name"
   ]
  },
  {
   "cell_type": "code",
   "execution_count": 59,
   "id": "e4d8ab93",
   "metadata": {},
   "outputs": [
    {
     "data": {
      "text/plain": [
       "28×3 Matrix{Float32}:\n",
       " -0.0068786   0.00082203  -0.0200519\n",
       " -0.0555126  -0.0527082    2.60785\n",
       "  2.26685     0.00236027   4.01698\n",
       "  4.57399    -0.049233     2.64357\n",
       "  2.2872     -0.0230376   -1.3767\n",
       "  4.60102    -0.0855819   -0.0401113\n",
       "  2.41339     0.195188     6.70145\n",
       "  4.70787     0.201381     7.97106\n",
       "  6.94685     0.0593979    6.64032\n",
       "  6.91572    -0.0484771    3.96611\n",
       "  9.19897    -0.138368     2.60033\n",
       "  6.92619    -0.147877    -1.38745\n",
       "  9.20837    -0.187523    -0.0106316\n",
       "  ⋮                       \n",
       " -2.45345    -0.112739     3.78715\n",
       " -2.67568    -0.664997     6.09617\n",
       " -4.35959     0.279426     2.41544\n",
       "  0.594568    0.0339678   -5.08493\n",
       "  4.63047    -0.0939383   -7.40316\n",
       "  8.69744    -0.213244    -5.06537\n",
       " -1.78951     0.0251371   -1.01924\n",
       "  0.667514    0.333346     7.74765\n",
       "  4.72583     0.33413     10.0143\n",
       "  8.75171     0.0602161    7.61281\n",
       " 10.9709     -0.159599     3.63041\n",
       " 10.9893     -0.244491    -1.02487"
      ]
     },
     "execution_count": 59,
     "metadata": {},
     "output_type": "execute_result"
    }
   ],
   "source": [
    "#Points to evaluate\n",
    "r⃗ = [0 0 0;\n",
    "     0.1 0 0.7;\n",
    "     0 0 -0.7;\n",
    "     0 1 0;\n",
    "    1 -1 0;\n",
    "    0.4 0.5 0.5;\n",
    "    1 1 1;\n",
    "    0 0 0.6;\n",
    "    0 0 0.5;\n",
    "    0 10 10] .|> Float32 |> cpu\n"
   ]
  },
  {
   "cell_type": "markdown",
   "id": "8e47d1aa",
   "metadata": {},
   "source": [
    "### Broyden"
   ]
  },
  {
   "cell_type": "code",
   "execution_count": 58,
   "id": "3cfe18ec",
   "metadata": {},
   "outputs": [],
   "source": [
    "#Broyden version. Numerically unstable\n",
    "#Will need to \"unroll\" dot products and matmuls to work in GPU\n",
    "function get_change_gradient(dim,∂X,∂Y,∂Z,∂X_prev,∂Y_prev,∂Z_prev)::Float32\n",
    "    dim == 1 ? ∂X-∂X_prev :\n",
    "    dim == 2 ? ∂Y-∂Y_prev :\n",
    "    ∂Z-∂Z_prev\n",
    "end\n",
    "#Code for calculating the critical points of ρ via Broyden's method.\n",
    "# Work in progress\n",
    "#function find_critical_ρ_points(r⃗::AbstractVector, f::WFN; iters = 15, conv_check= 1e-7)\n",
    "    iters = 5\n",
    "    #save copy of r⃗\n",
    "    r⃗_prev = copy(r⃗)\n",
    "    #Assignation of center per primitive\n",
    "    @tullio r⃗_μ[prim,dim] := f.nuclei_pos[f.center_assignments[prim],dim] grad=false\n",
    "    #Difference between each proposed point and each nuclei center assigned to a MO\n",
    "    @tullio Δr⃗[p,dim,r] := r⃗[r,dim] - r⃗_μ[p,dim] grad=false\n",
    "    #Squared distances\n",
    "    sq_dist = dropdims(sum(Δr⃗.^2, dims=2), dims=2)\n",
    "    #Gaussian constant\n",
    "    @tullio c_g[p,r] := get_gaussian_constant(f.type_assignments[p], Δr⃗[p,1,r], Δr⃗[p,2,r], Δr⃗[p,3,r]) grad=false\n",
    "    \n",
    "    @tullio ∂gc∂X[p,r] := get_∂gc∂X(f.type_assignments[p], Δr⃗[p,1,r], Δr⃗[p,2,r], Δr⃗[p,3,r]) grad=false\n",
    "    @tullio ∂gc∂Y[p,r] := get_∂gc∂Y(f.type_assignments[p], Δr⃗[p,1,r], Δr⃗[p,2,r], Δr⃗[p,3,r]) grad=false\n",
    "    @tullio ∂gc∂Z[p,r] := get_∂gc∂Z(f.type_assignments[p], Δr⃗[p,1,r], Δr⃗[p,2,r], Δr⃗[p,3,r]) grad=false\n",
    "\n",
    "    @tullio ∂²gc∂X²[p,r] := get_∂²gc∂X²(f.type_assignments[p], Δr⃗[p,1,r], Δr⃗[p,2,r], Δr⃗[p,3,r]) grad=false\n",
    "    @tullio ∂²gc∂XY[p,r] := get_∂²gc∂XY(f.type_assignments[p], Δr⃗[p,1,r], Δr⃗[p,2,r], Δr⃗[p,3,r]) grad=false\n",
    "    @tullio ∂²gc∂XZ[p,r] := get_∂²gc∂XZ(f.type_assignments[p], Δr⃗[p,1,r], Δr⃗[p,2,r], Δr⃗[p,3,r]) grad=false\n",
    "    @tullio ∂²gc∂Y²[p,r] := get_∂²gc∂Y²(f.type_assignments[p], Δr⃗[p,1,r], Δr⃗[p,2,r], Δr⃗[p,3,r]) grad=false\n",
    "    @tullio ∂²gc∂YZ[p,r] := get_∂²gc∂YZ(f.type_assignments[p], Δr⃗[p,1,r], Δr⃗[p,2,r], Δr⃗[p,3,r]) grad=false\n",
    "    @tullio ∂²gc∂Z²[p,r] := get_∂²gc∂Z²(f.type_assignments[p], Δr⃗[p,1,r], Δr⃗[p,2,r], Δr⃗[p,3,r]) grad=false\n",
    "    \n",
    "    F0 = exp.(-f.exponents .* sq_dist)\n",
    "    toalp = -2.0 * f.exponents\n",
    "    toalpe = toalp .* F0\n",
    "    ∂F∂X = toalpe .* Δr⃗[:,1,:]\n",
    "    ∂F∂Y = toalpe .* Δr⃗[:,2,:]\n",
    "    ∂F∂Z = toalpe .* Δr⃗[:,3,:]\n",
    "    ∂²F∂X² = (toalp .* Δr⃗[:,1,:] .* ∂F∂X) + toalpe\n",
    "    ∂²F∂XY = toalp .* Δr⃗[:,2,:] .* ∂F∂X\n",
    "    ∂²F∂XZ = toalp .* Δr⃗[:,3,:] .* ∂F∂X\n",
    "    ∂²F∂Y² = (toalp .* Δr⃗[:,2,:] .* ∂F∂Y) + toalpe\n",
    "    ∂²F∂YZ = toalp .* Δr⃗[:,3,:] .* ∂F∂Y\n",
    "    ∂²F∂Z² = (toalp .* Δr⃗[:,3,:] .* ∂F∂Z) + toalpe\n",
    "    \n",
    "    Ψ_μ = c_g .* F0\n",
    "    ∂Ψ_μ∂X = ∂gc∂X .* F0 + c_g .* ∂F∂X\n",
    "    ∂Ψ_μ∂Y = ∂gc∂Y .* F0 + c_g .* ∂F∂Y\n",
    "    ∂Ψ_μ∂Z = ∂gc∂Z .* F0 + c_g .* ∂F∂Z\n",
    "    ∂²Ψ_μ∂X² = (∂²gc∂X² .* F0) + (2 * ∂gc∂X .* ∂F∂X) + (c_g .* ∂²F∂X²)\n",
    "    ∂²Ψ_μ∂XY = (∂²gc∂XY .* F0) + (∂gc∂X .* ∂F∂Y) + (∂gc∂Y .* ∂F∂X) + (c_g .* ∂²F∂XY)\n",
    "    ∂²Ψ_μ∂XZ = (∂²gc∂XZ .* F0) + (∂gc∂X .* ∂F∂Z) + (∂gc∂Z .* ∂F∂X) + (c_g .* ∂²F∂XZ)\n",
    "    ∂²Ψ_μ∂Y² = (∂²gc∂Y² .* F0) + (2 * ∂gc∂Y .* ∂F∂Y) + (c_g .* ∂²F∂Y²)\n",
    "    ∂²Ψ_μ∂YZ = (∂²gc∂YZ .* F0) + (∂gc∂Y .* ∂F∂Z) + (∂gc∂Z .* ∂F∂Y) + (c_g .* ∂²F∂YZ)\n",
    "    ∂²Ψ_μ∂Z² = (∂²gc∂Z² .* F0) + (2 * ∂gc∂Z .* ∂F∂Z) + (c_g .* ∂²F∂Z²)\n",
    "\n",
    "    Φ_r = f.mo * Ψ_μ\n",
    "    ∂Φ∂X = f.mo * ∂Ψ_μ∂X\n",
    "    ∂Φ∂Y = f.mo * ∂Ψ_μ∂Y\n",
    "    ∂Φ∂Z = f.mo * ∂Ψ_μ∂Z\n",
    "    ∂²Φ∂X² = f.mo * ∂²Ψ_μ∂X²\n",
    "    ∂²Φ∂XY = f.mo * ∂²Ψ_μ∂XY\n",
    "    ∂²Φ∂XZ = f.mo * ∂²Ψ_μ∂XZ\n",
    "    ∂²Φ∂Y² = f.mo * ∂²Ψ_μ∂Y²\n",
    "    ∂²Φ∂YZ = f.mo * ∂²Ψ_μ∂YZ\n",
    "    ∂²Φ∂Z² = f.mo * ∂²Ψ_μ∂Z²\n",
    "\n",
    "    #ρ = electronic density for proposed points\n",
    "    ρ = transpose(Φ_r.^2) * f.occ_no\n",
    "    #Newton/pseudo-Newton methods optimize 3 equations for 3 variables:\n",
    "    #Variables: X, Y, Z of each point\n",
    "    #Equations: Gradient of ρ at X, Y, Z\n",
    "    ∂ρ∂X = transpose(∂Φ∂X .* Φ_r) * f.occ_no\n",
    "    ∂ρ∂Y = transpose(∂Φ∂Y .* Φ_r) * f.occ_no\n",
    "    ∂ρ∂Z = transpose(∂Φ∂Z .* Φ_r) * f.occ_no\n",
    "    #Newton/pseudo-Newton method need the inverse jacobian of the function to optimize.\n",
    "    #Calculating second derivatives of ρ to obtain the Hessian\n",
    "    ∂²ρ∂X² = 2 * (transpose(∂Φ∂X.^2)  + transpose(∂²Φ∂X² .* Φ_r)) * f.occ_no\n",
    "    ∂²ρ∂XY = 2 * (transpose(∂Φ∂X .* ∂Φ∂Y)  + transpose(∂²Φ∂XY .* Φ_r)) * f.occ_no\n",
    "    ∂²ρ∂XZ = 2 * (transpose(∂Φ∂X .* ∂Φ∂Z)  + transpose(∂²Φ∂XZ .* Φ_r)) * f.occ_no\n",
    "    ∂²ρ∂Y² = 2 * (transpose(∂Φ∂Y.^2) + transpose(∂²Φ∂Y² .* Φ_r)) * f.occ_no\n",
    "    ∂²ρ∂YZ = 2 * (transpose(∂Φ∂Y .* ∂Φ∂Z)  + transpose(∂²Φ∂YZ .* Φ_r)) * f.occ_no\n",
    "    ∂²ρ∂Z² = 2 * (transpose(∂Φ∂Z.^2) + transpose(∂²Φ∂Z² .* Φ_r)) * f.occ_no\n",
    "\n",
    "    #Generating the inverse of the Hessian of ρ by determinants/cofactors\n",
    "    #Evaluating as a single expression because of speed.\n",
    "    #Otherwise launches multiple kernels, which is slower than simply repeating the operation\n",
    "    @tullio inv_H[m,n,p] := generate_Y_matrix_el(m, n, ∂²ρ∂X²[p],\n",
    "        ∂²ρ∂XY[p],\n",
    "        ∂²ρ∂XZ[p],\n",
    "        ∂²ρ∂Y²[p],\n",
    "        ∂²ρ∂YZ[p],\n",
    "        ∂²ρ∂Z²[p]) / (∂²ρ∂X²[p] * generate_Y_matrix_el(1, 1, ∂²ρ∂X²[p],\n",
    "        ∂²ρ∂XY[p],\n",
    "        ∂²ρ∂XZ[p],\n",
    "        ∂²ρ∂Y²[p],\n",
    "        ∂²ρ∂YZ[p],\n",
    "        ∂²ρ∂Z²[p]) + ∂²ρ∂XY[p] * generate_Y_matrix_el(2, 1, ∂²ρ∂X²[p],\n",
    "        ∂²ρ∂XY[p],\n",
    "        ∂²ρ∂XZ[p],\n",
    "        ∂²ρ∂Y²[p],\n",
    "        ∂²ρ∂YZ[p],\n",
    "        ∂²ρ∂Z²[p]) + ∂²ρ∂XZ[p] * generate_Y_matrix_el(3, 1, ∂²ρ∂X²[p],\n",
    "        ∂²ρ∂XY[p],\n",
    "        ∂²ρ∂XZ[p],\n",
    "        ∂²ρ∂Y²[p],\n",
    "        ∂²ρ∂YZ[p],\n",
    "        ∂²ρ∂Z²[p])) (m in 1:3, n in 1:3) grad=false\n",
    "\n",
    "    \n",
    "    #Try and update inv_H, if iter != 1\n",
    "    for iter in 1:iters\n",
    "        if iter != 1\n",
    "            #Save last gradients\n",
    "            ∂ρ∂X_prev = copy(∂ρ∂X)\n",
    "            ∂ρ∂Y_prev = copy(∂ρ∂Y)\n",
    "            ∂ρ∂Z_prev = copy(∂ρ∂Z)\n",
    "            #Calculate new gradients\n",
    "            @tullio Δr⃗[p,dim,r] = r⃗[r,dim] - r⃗_μ[p,dim] grad=false\n",
    "            #Squared distances\n",
    "            sq_dist = dropdims(sum(Δr⃗.^2, dims=2), dims=2)\n",
    "            #Gaussian constant\n",
    "            @tullio c_g[p,r] = get_gaussian_constant(f.type_assignments[p], Δr⃗[p,1,r], Δr⃗[p,2,r], Δr⃗[p,3,r]) grad=false\n",
    "            @tullio ∂gc∂X[p,r] = get_∂gc∂X(f.type_assignments[p], Δr⃗[p,1,r], Δr⃗[p,2,r], Δr⃗[p,3,r]) grad=false\n",
    "            @tullio ∂gc∂Y[p,r] = get_∂gc∂Y(f.type_assignments[p], Δr⃗[p,1,r], Δr⃗[p,2,r], Δr⃗[p,3,r]) grad=false\n",
    "            @tullio ∂gc∂Z[p,r] = get_∂gc∂Z(f.type_assignments[p], Δr⃗[p,1,r], Δr⃗[p,2,r], Δr⃗[p,3,r]) grad=false\n",
    "\n",
    "            ∂F∂X = -2.0 * f.exponents .* exp.(-f.exponents .* sq_dist) .* Δr⃗[:,1,:]\n",
    "            ∂F∂Y = -2.0 * f.exponents .* exp.(-f.exponents .* sq_dist) .* Δr⃗[:,2,:]\n",
    "            ∂F∂Z = -2.0 * f.exponents .* exp.(-f.exponents .* sq_dist) .* Δr⃗[:,3,:]\n",
    "\n",
    "            Ψ_μ = c_g .* exp.(-f.exponents .* sq_dist)\n",
    "            ∂Ψ_μ∂X = ∂gc∂X .* exp.(-f.exponents .* sq_dist) + c_g .* ∂F∂X\n",
    "            ∂Ψ_μ∂Y = ∂gc∂Y .* exp.(-f.exponents .* sq_dist) + c_g .* ∂F∂Y\n",
    "            ∂Ψ_μ∂Z = ∂gc∂Z .* exp.(-f.exponents .* sq_dist) + c_g .* ∂F∂Z\n",
    "\n",
    "            Φ_r = f.mo * Ψ_μ\n",
    "            ∂Φ∂X = f.mo * ∂Ψ_μ∂X\n",
    "            ∂Φ∂Y = f.mo * ∂Ψ_μ∂Y\n",
    "            ∂Φ∂Z = f.mo * ∂Ψ_μ∂Z\n",
    "\n",
    "            ∂ρ∂X = transpose(∂Φ∂X .* Φ_r) * f.occ_no\n",
    "            ∂ρ∂Y = transpose(∂Φ∂Y .* Φ_r) * f.occ_no\n",
    "            ∂ρ∂Z = transpose(∂Φ∂Z .* Φ_r) * f.occ_no\n",
    "\n",
    "            #Calculate change in proposed points, output gradients\n",
    "            Δprop = r⃗-r⃗_prev\n",
    "            @tullio Δ∂ρ[p,dim] := get_change_gradient(dim,\n",
    "                                                      ∂ρ∂X[p],\n",
    "                                                      ∂ρ∂Y[p],\n",
    "                                                      ∂ρ∂Z[p],\n",
    "                                                      ∂ρ∂X_prev[p],\n",
    "                                                      ∂ρ∂Y_prev[p],\n",
    "                                                      ∂ρ∂Z_prev[p]) (dim in 1:3) grad=false\n",
    "            #Update inverse hessian\n",
    "            @tullio constant[p] := Δprop[p,:]'*inv_H[:,:,p]*Δ∂ρ[p,:] grad=false\n",
    "            #Broyden update step as a tullio expression:\n",
    "            #For a point p, let:\n",
    "            #A = Δprop' - inv_H*(Δ∂ρ')\n",
    "            #M = A*Δprop\n",
    "            #M*inv_H/const is the Broyden update step, so:\n",
    "            #inv_H[m,n] += inv_H[:,n]⋅M[m,:]\n",
    "            #M[m,:] = A[m]*Δprop\n",
    "            #So:\n",
    "            #inv_H[m,n] += A[m]*(inv_H[:,n]⋅Δprop)\n",
    "            # A[m] = Δprop[m] - (inv_H[m,:] ⋅ Δ∂ρ)\n",
    "            #So the final expression is:\n",
    "            #inv_H[m,n] += (Δprop[m] - (inv_H[m,:] ⋅ Δ∂ρ))*(inv_H[:,n]⋅Δprop)/constant\n",
    "            @tullio inv_H[m,n,p] += (inv_H[:,n,p] ⋅ Δprop[p,:]) * (Δprop[p,m] - inv_H[m,:,p] ⋅ Δ∂ρ[p,:]) / constant[p] grad = false\n",
    "        end\n",
    "        r⃗_prev = copy(r⃗)\n",
    "        @tullio r⃗[p,dim] += -inv_H[dim,1,p] * ∂ρ∂X[p] - inv_H[dim,2,p] * ∂ρ∂Y[p] - inv_H[dim,3,p] * ∂ρ∂Z[p]\n",
    "    end\n",
    "    #Update points\n"
   ]
  },
  {
   "cell_type": "code",
   "execution_count": 176,
   "id": "e900c771",
   "metadata": {},
   "outputs": [
    {
     "data": {
      "text/plain": [
       "9×3 Matrix{Float32}:\n",
       "  -2.77738f-18    1.11749f-16    3.48907f-9\n",
       "  -1.68997f-18    7.15356f-18    0.670376\n",
       " NaN            NaN            NaN\n",
       "   1.81143f-17    5.73197        7.93367f-15\n",
       "   3.40259       -4.90068       -1.80178f-15\n",
       "   2.53359        4.04572       -2.45919\n",
       "   3.03511        3.85147        3.8824\n",
       " NaN            NaN            NaN\n",
       "  -2.77738f-18    1.11749f-16    2.01488f-8"
      ]
     },
     "execution_count": 176,
     "metadata": {},
     "output_type": "execute_result"
    }
   ],
   "source": [
    "r⃗"
   ]
  },
  {
   "cell_type": "markdown",
   "id": "76494ad4",
   "metadata": {},
   "source": [
    "### Newton-Raphson"
   ]
  },
  {
   "cell_type": "code",
   "execution_count": 19,
   "id": "dfc729c1",
   "metadata": {},
   "outputs": [
    {
     "data": {
      "text/plain": [
       "find_critical_ρ_points (generic function with 6 methods)"
      ]
     },
     "execution_count": 19,
     "metadata": {},
     "output_type": "execute_result"
    }
   ],
   "source": [
    "#Newton-Raphson method\n",
    "# Work in progress\n",
    "#TODO: \n",
    "    #Check what kind of critical point was found\n",
    "    #Tell the user which points converged, which diverged\n",
    "function find_critical_ρ_points(r⃗, f::WFN; iters = 15, conv_check= 1e-7)\n",
    "    #To allow us to acces Φ_r outside the loop's scope\n",
    "    Φ_r = NaN\n",
    "    for i in 1:iters\n",
    "    #Assignation of center per primitive\n",
    "        @tullio r⃗_μ[prim,dim] := f.nuclei_pos[f.center_assignments[prim],dim] grad=false\n",
    "        #Difference between each proposed point and each nuclei center assigned to a MO\n",
    "        @tullio Δr⃗[p,dim,r] := r⃗[r,dim] - r⃗_μ[p,dim] grad=false\n",
    "        #Squared distances\n",
    "        sq_dist = dropdims(sum(Δr⃗.^2, dims=2), dims=2)\n",
    "        #Gaussian constant\n",
    "        @tullio c_g[p,r] := get_gaussian_constant(f.type_assignments[p], Δr⃗[p,1,r], Δr⃗[p,2,r], Δr⃗[p,3,r]) grad=false\n",
    "\n",
    "        @tullio ∂gc∂X[p,r] := get_∂gc∂X(f.type_assignments[p], Δr⃗[p,1,r], Δr⃗[p,2,r], Δr⃗[p,3,r]) grad=false\n",
    "        @tullio ∂gc∂Y[p,r] := get_∂gc∂Y(f.type_assignments[p], Δr⃗[p,1,r], Δr⃗[p,2,r], Δr⃗[p,3,r]) grad=false\n",
    "        @tullio ∂gc∂Z[p,r] := get_∂gc∂Z(f.type_assignments[p], Δr⃗[p,1,r], Δr⃗[p,2,r], Δr⃗[p,3,r]) grad=false\n",
    "\n",
    "        @tullio ∂²gc∂X²[p,r] := get_∂²gc∂X²(f.type_assignments[p], Δr⃗[p,1,r], Δr⃗[p,2,r], Δr⃗[p,3,r]) grad=false\n",
    "        @tullio ∂²gc∂XY[p,r] := get_∂²gc∂XY(f.type_assignments[p], Δr⃗[p,1,r], Δr⃗[p,2,r], Δr⃗[p,3,r]) grad=false\n",
    "        @tullio ∂²gc∂XZ[p,r] := get_∂²gc∂XZ(f.type_assignments[p], Δr⃗[p,1,r], Δr⃗[p,2,r], Δr⃗[p,3,r]) grad=false\n",
    "        @tullio ∂²gc∂Y²[p,r] := get_∂²gc∂Y²(f.type_assignments[p], Δr⃗[p,1,r], Δr⃗[p,2,r], Δr⃗[p,3,r]) grad=false\n",
    "        @tullio ∂²gc∂YZ[p,r] := get_∂²gc∂YZ(f.type_assignments[p], Δr⃗[p,1,r], Δr⃗[p,2,r], Δr⃗[p,3,r]) grad=false\n",
    "        @tullio ∂²gc∂Z²[p,r] := get_∂²gc∂Z²(f.type_assignments[p], Δr⃗[p,1,r], Δr⃗[p,2,r], Δr⃗[p,3,r]) grad=false\n",
    "\n",
    "        F0 = exp.(-f.exponents .* sq_dist)\n",
    "        toalp = -2.0 * f.exponents\n",
    "        toalpe = toalp .* F0\n",
    "        ∂F∂X = toalpe .* Δr⃗[:,1,:]\n",
    "        ∂F∂Y = toalpe .* Δr⃗[:,2,:]\n",
    "        ∂F∂Z = toalpe .* Δr⃗[:,3,:]\n",
    "        ∂²F∂X² = (toalp .* Δr⃗[:,1,:] .* ∂F∂X) + toalpe\n",
    "        ∂²F∂XY = toalp .* Δr⃗[:,2,:] .* ∂F∂X\n",
    "        ∂²F∂XZ = toalp .* Δr⃗[:,3,:] .* ∂F∂X\n",
    "        ∂²F∂Y² = (toalp .* Δr⃗[:,2,:] .* ∂F∂Y) + toalpe\n",
    "        ∂²F∂YZ = toalp .* Δr⃗[:,3,:] .* ∂F∂Y\n",
    "        ∂²F∂Z² = (toalp .* Δr⃗[:,3,:] .* ∂F∂Z) + toalpe\n",
    "\n",
    "        Ψ_μ = c_g .* F0\n",
    "        ∂Ψ_μ∂X = ∂gc∂X .* F0 + c_g .* ∂F∂X\n",
    "        ∂Ψ_μ∂Y = ∂gc∂Y .* F0 + c_g .* ∂F∂Y\n",
    "        ∂Ψ_μ∂Z = ∂gc∂Z .* F0 + c_g .* ∂F∂Z\n",
    "        ∂²Ψ_μ∂X² = (∂²gc∂X² .* F0) + (2 * ∂gc∂X .* ∂F∂X) + (c_g .* ∂²F∂X²)\n",
    "        ∂²Ψ_μ∂XY = (∂²gc∂XY .* F0) + (∂gc∂X .* ∂F∂Y) + (∂gc∂Y .* ∂F∂X) + (c_g .* ∂²F∂XY)\n",
    "        ∂²Ψ_μ∂XZ = (∂²gc∂XZ .* F0) + (∂gc∂X .* ∂F∂Z) + (∂gc∂Z .* ∂F∂X) + (c_g .* ∂²F∂XZ)\n",
    "        ∂²Ψ_μ∂Y² = (∂²gc∂Y² .* F0) + (2 * ∂gc∂Y .* ∂F∂Y) + (c_g .* ∂²F∂Y²)\n",
    "        ∂²Ψ_μ∂YZ = (∂²gc∂YZ .* F0) + (∂gc∂Y .* ∂F∂Z) + (∂gc∂Z .* ∂F∂Y) + (c_g .* ∂²F∂YZ)\n",
    "        ∂²Ψ_μ∂Z² = (∂²gc∂Z² .* F0) + (2 * ∂gc∂Z .* ∂F∂Z) + (c_g .* ∂²F∂Z²)\n",
    "\n",
    "        Φ_r = f.mo * Ψ_μ\n",
    "        ∂Φ∂X = f.mo * ∂Ψ_μ∂X\n",
    "        ∂Φ∂Y = f.mo * ∂Ψ_μ∂Y\n",
    "        ∂Φ∂Z = f.mo * ∂Ψ_μ∂Z\n",
    "        ∂²Φ∂X² = f.mo * ∂²Ψ_μ∂X²\n",
    "        ∂²Φ∂XY = f.mo * ∂²Ψ_μ∂XY\n",
    "        ∂²Φ∂XZ = f.mo * ∂²Ψ_μ∂XZ\n",
    "        ∂²Φ∂Y² = f.mo * ∂²Ψ_μ∂Y²\n",
    "        ∂²Φ∂YZ = f.mo * ∂²Ψ_μ∂YZ\n",
    "        ∂²Φ∂Z² = f.mo * ∂²Ψ_μ∂Z²\n",
    "\n",
    "        #ρ = electronic density for proposed points\n",
    "        #ρ = transpose(Φ_r.^2) * f.occ_no\n",
    "        \n",
    "        #Newton/pseudo-Newton methods optimize 3 equations for 3 variables:\n",
    "        #Variables: X, Y, Z of each point\n",
    "        #Equations: Gradient of ρ at X, Y, Z\n",
    "        ∂ρ∂X = transpose(∂Φ∂X .* Φ_r) * f.occ_no\n",
    "        ∂ρ∂Y = transpose(∂Φ∂Y .* Φ_r) * f.occ_no\n",
    "        ∂ρ∂Z = transpose(∂Φ∂Z .* Φ_r) * f.occ_no\n",
    "        #Newton/pseudo-Newton method need the inverse jacobian of the function to optimize.\n",
    "        #Calculating second derivatives of ρ to obtain the Hessian\n",
    "        ∂²ρ∂X² = 2 * (transpose(∂Φ∂X.^2)  + transpose(∂²Φ∂X² .* Φ_r)) * f.occ_no\n",
    "        ∂²ρ∂XY = 2 * (transpose(∂Φ∂X .* ∂Φ∂Y)  + transpose(∂²Φ∂XY .* Φ_r)) * f.occ_no\n",
    "        ∂²ρ∂XZ = 2 * (transpose(∂Φ∂X .* ∂Φ∂Z)  + transpose(∂²Φ∂XZ .* Φ_r)) * f.occ_no\n",
    "        ∂²ρ∂Y² = 2 * (transpose(∂Φ∂Y.^2) + transpose(∂²Φ∂Y² .* Φ_r)) * f.occ_no\n",
    "        ∂²ρ∂YZ = 2 * (transpose(∂Φ∂Y .* ∂Φ∂Z)  + transpose(∂²Φ∂YZ .* Φ_r)) * f.occ_no\n",
    "        ∂²ρ∂Z² = 2 * (transpose(∂Φ∂Z.^2) + transpose(∂²Φ∂Z² .* Φ_r)) * f.occ_no\n",
    "\n",
    "        #Generating the inverse of the Hessian of ρ by determinants/cofactors\n",
    "        #Evaluating as a single expression because of speed.\n",
    "        #Otherwise launches multiple kernels, which is slower than simply repeating the operation\n",
    "        @tullio inv_H[m,n,p] := generate_Y_matrix_el(m, n, ∂²ρ∂X²[p],\n",
    "            ∂²ρ∂XY[p],\n",
    "            ∂²ρ∂XZ[p],\n",
    "            ∂²ρ∂Y²[p],\n",
    "            ∂²ρ∂YZ[p],\n",
    "            ∂²ρ∂Z²[p]) / (∂²ρ∂X²[p] * generate_Y_matrix_el(1, 1, ∂²ρ∂X²[p],\n",
    "            ∂²ρ∂XY[p],\n",
    "            ∂²ρ∂XZ[p],\n",
    "            ∂²ρ∂Y²[p],\n",
    "            ∂²ρ∂YZ[p],\n",
    "            ∂²ρ∂Z²[p]) + ∂²ρ∂XY[p] * generate_Y_matrix_el(2, 1, ∂²ρ∂X²[p],\n",
    "            ∂²ρ∂XY[p],\n",
    "            ∂²ρ∂XZ[p],\n",
    "            ∂²ρ∂Y²[p],\n",
    "            ∂²ρ∂YZ[p],\n",
    "            ∂²ρ∂Z²[p]) + ∂²ρ∂XZ[p] * generate_Y_matrix_el(3, 1, ∂²ρ∂X²[p],\n",
    "            ∂²ρ∂XY[p],\n",
    "            ∂²ρ∂XZ[p],\n",
    "            ∂²ρ∂Y²[p],\n",
    "            ∂²ρ∂YZ[p],\n",
    "            ∂²ρ∂Z²[p])) (m in 1:3, n in 1:3) grad=false\n",
    "\n",
    "        @tullio r⃗[p,dim] += -inv_H[dim,1,p] * ∂ρ∂X[p] - inv_H[dim,2,p] * ∂ρ∂Y[p] - inv_H[dim,3,p] * ∂ρ∂Z[p]\n",
    "    end\n",
    "    r⃗, transpose(Φ_r.^2) * f.occ_no\n",
    "end"
   ]
  },
  {
   "cell_type": "markdown",
   "id": "e6bc080f",
   "metadata": {},
   "source": [
    "#### Test with GPU"
   ]
  },
  {
   "cell_type": "code",
   "execution_count": 91,
   "id": "7128e962",
   "metadata": {},
   "outputs": [
    {
     "name": "stdout",
     "output_type": "stream",
     "text": [
      "  4.995 s (10501234 allocations: 322.30 MiB)\n"
     ]
    },
    {
     "data": {
      "text/plain": [
       "(Float32[-0.04006796 -0.025019078 1.2399396; -0.04006796 -0.025019078 1.2399396; … ; -0.040067956 -0.025019074 1.2399393; 2.2730927 -0.032838367 1.3250797], Float32[0.30872256, 0.30872256, 0.30872262, 1.4113541f-16, 0.30872256, 9.767692f-15, 2.0635456f-19, NaN, 0.02077407, NaN  …  0.02077407, 1.8390856f-19, 1.0121274f-14, 0.020774059, 0.02077407, 0.2992517, 0.30872262, 4.530843f-15, 0.30872262, 0.020774059])"
      ]
     },
     "execution_count": 91,
     "metadata": {},
     "output_type": "execute_result"
    }
   ],
   "source": [
    "using BenchmarkTools\n",
    "\n",
    "f = read_wfn(filepath, device = gpu);\n",
    "r⃗ = CUDA.rand(10_000,3)\n",
    "\n",
    "@btime find_critical_ρ_points(r⃗, f)"
   ]
  },
  {
   "cell_type": "code",
   "execution_count": 93,
   "id": "d498e9fa",
   "metadata": {},
   "outputs": [
    {
     "data": {
      "text/plain": [
       "10000×3 CuArray{Float32, 2, CUDA.Mem.DeviceBuffer}:\n",
       "  -0.040068   -0.0250191     1.23994\n",
       "  -0.040068   -0.0250191     1.23994\n",
       "  -0.040068   -0.0250191     1.23994\n",
       "   0.44936    24.4526        7.23946\n",
       "  -0.040068   -0.0250191     1.23994\n",
       "   5.08533   -22.5912        1.90817\n",
       "   4.77658    17.3459       27.0953\n",
       " NaN         NaN           NaN\n",
       "   2.27309    -0.0328383     1.32508\n",
       " NaN         NaN           NaN\n",
       "   3.61948    22.5728       -9.47456\n",
       "   1.14725    -0.00723022   -0.696688\n",
       "  -0.040068   -0.0250191     1.23994\n",
       "   ⋮                       \n",
       "   2.27309    -0.0328383     1.32508\n",
       "  -0.040068   -0.0250191     1.23994\n",
       "   2.27309    -0.0328383     1.32508\n",
       " NaN         NaN           NaN\n",
       "   4.91356    22.6413       -1.36351\n",
       "   2.27309    -0.0328384     1.32508\n",
       "   2.27309    -0.0328383     1.32508\n",
       "   1.14725    -0.00723022   -0.696688\n",
       "  -0.040068   -0.0250191     1.23994\n",
       "   5.28722    22.7659        1.22238\n",
       "  -0.040068   -0.0250191     1.23994\n",
       "   2.27309    -0.0328384     1.32508"
      ]
     },
     "execution_count": 93,
     "metadata": {},
     "output_type": "execute_result"
    }
   ],
   "source": [
    "r⃗_found, ρ = find_critical_ρ_points(r⃗, f);\n",
    "r⃗_found"
   ]
  },
  {
   "cell_type": "code",
   "execution_count": 94,
   "id": "6eb749c5",
   "metadata": {},
   "outputs": [
    {
     "data": {
      "text/plain": [
       "10000-element CuArray{Float32, 1, CUDA.Mem.DeviceBuffer}:\n",
       "   0.30872256\n",
       "   0.30872256\n",
       "   0.30872262\n",
       "   7.303408f-23\n",
       "   0.30872256\n",
       "   2.1211922f-21\n",
       "   5.75133f-23\n",
       " NaN\n",
       "   0.02077407\n",
       " NaN\n",
       "   5.7594542f-21\n",
       "   0.2992517\n",
       "   0.30872256\n",
       "   ⋮\n",
       "   0.020774068\n",
       "   0.30872256\n",
       "   0.02077407\n",
       " NaN\n",
       "   2.0414646f-21\n",
       "   0.020774059\n",
       "   0.02077407\n",
       "   0.2992517\n",
       "   0.30872262\n",
       "   9.393425f-22\n",
       "   0.30872262\n",
       "   0.020774059"
      ]
     },
     "execution_count": 94,
     "metadata": {},
     "output_type": "execute_result"
    }
   ],
   "source": [
    "ρ"
   ]
  },
  {
   "cell_type": "markdown",
   "id": "eb4a1c7f",
   "metadata": {},
   "source": [
    "#### Test with CPU"
   ]
  },
  {
   "cell_type": "code",
   "execution_count": 95,
   "id": "084a22a2",
   "metadata": {},
   "outputs": [
    {
     "name": "stdout",
     "output_type": "stream",
     "text": [
      "  38.260 s (8170 allocations: 71.68 GiB)\n"
     ]
    },
    {
     "data": {
      "text/plain": [
       "(Float32[1.1472485 -0.007230365 -0.6966878; NaN NaN NaN; … ; 2.2730925 -0.03283799 1.3250792; -0.40643695 18.199875 2.4377787], [0.2992517536622811, NaN, 0.0207740855890442, 0.02077408170390762, 0.2950741111159268, 0.30872276364983486, 0.02077409089898389, 0.3087227500873072, 6.152471264373983e-15, 0.30872275005146566  …  2.403474847625511e-13, 2.2986621685320255e-15, 5.589825450885418e-16, 0.020774090898161745, 9.417703438741257e-15, 4.47024548858571e-15, 2.7548219673263433e-14, 1.1100331681083055e-13, 0.020774085589044207, 5.80228745789714e-15])"
      ]
     },
     "execution_count": 95,
     "metadata": {},
     "output_type": "execute_result"
    }
   ],
   "source": [
    "f = read_wfn(filepath, device = cpu);\n",
    "r⃗ = rand(Float32, 10_000, 3)\n",
    "\n",
    "@btime find_critical_ρ_points(r⃗, f)"
   ]
  },
  {
   "cell_type": "markdown",
   "id": "0a46a282",
   "metadata": {},
   "source": [
    "### Other helper functions"
   ]
  },
  {
   "cell_type": "code",
   "execution_count": 96,
   "id": "26aad543",
   "metadata": {},
   "outputs": [
    {
     "data": {
      "text/plain": [
       "10000-element Vector{Float64}:\n",
       "   0.2992517536622811\n",
       " NaN\n",
       "   0.0207740855890442\n",
       "   0.02077408170390762\n",
       "   0.2950741111159268\n",
       "   0.30872276364983486\n",
       "   0.02077409089898389\n",
       "   0.3087227500873072\n",
       "   3.6506818963893095e-15\n",
       "   0.30872275005146566\n",
       "   0.02077409089898389\n",
       "   0.30872275005146566\n",
       "   9.743082871710655e-17\n",
       "   ⋮\n",
       "   0.29925174559637735\n",
       "   0.30872276364983486\n",
       "   1.422751213499517e-13\n",
       "   1.3745147299920554e-15\n",
       "   3.3449720081520977e-16\n",
       "   0.020774090898161745\n",
       "   5.594778829369104e-15\n",
       "   2.668668504691964e-15\n",
       "   1.643504744588627e-14\n",
       "   6.652606478825662e-14\n",
       "   0.020774085589044207\n",
       "   3.4770282946194578e-15"
      ]
     },
     "execution_count": 96,
     "metadata": {},
     "output_type": "execute_result"
    }
   ],
   "source": [
    "#Calculate ρ for the n points in r⃗\n",
    "get_electronic_density(r⃗, f)"
   ]
  },
  {
   "cell_type": "code",
   "execution_count": 97,
   "id": "0704c369",
   "metadata": {},
   "outputs": [
    {
     "data": {
      "text/plain": [
       "NaN"
      ]
     },
     "execution_count": 97,
     "metadata": {},
     "output_type": "execute_result"
    }
   ],
   "source": [
    "#Loss function for gradient descent. Not recommended.\n",
    "get_sum_squared_gradients(r⃗, f)"
   ]
  },
  {
   "cell_type": "code",
   "execution_count": null,
   "id": "bafa9751",
   "metadata": {},
   "outputs": [],
   "source": [
    "#Unstable and outdated method using gradient descent. Do not execute\n",
    "#p, ρ = find_points(r⃗, f, iters=100, η = 0.05)"
   ]
  }
 ],
 "metadata": {
  "kernelspec": {
   "display_name": "Julia 1.6.3",
   "language": "julia",
   "name": "julia-1.6"
  },
  "language_info": {
   "file_extension": ".jl",
   "mimetype": "application/julia",
   "name": "julia",
   "version": "1.6.3"
  }
 },
 "nbformat": 4,
 "nbformat_minor": 5
}
